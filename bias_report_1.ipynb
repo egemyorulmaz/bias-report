{
 "cells": [
  {
   "cell_type": "markdown",
   "metadata": {},
   "source": [
    "                                        README:\n",
    "\n",
    "                                      Instructions:\n",
    "\n",
    "1) For the first prompt, please respond ‘wall street journal’ or ‘Wall Street Journal’.\n",
    "\n",
    "2) For the second prompt, please input a keyword you are interested in. \n",
    "\n",
    "3) For the third prompt, please enter a START date in the form of YYYY-MM-DD.\n",
    "\n",
    "4) For the fourth prompt, please enter a END date in the form of YYYY-MM-DD.\n",
    "\n",
    "5) For the fifth prompt, asked after the dataframes are computed, please answer ‘A’, ‘B’, or ‘C’ according to the prompt. \n",
    "\n",
    "It is normal for the code to take some time to compute the dataframes (it took 40 seconds for my computer to compute 1 month worth of ‘trump’ articles, which ended up being 913 articles.  I took more than a minute to compute 1 year’s worth of ‘egg’ articles). I advise you to set a time interval that is close to one another  (>1 year), especially with topics that might yield many results (ex. ‘trump’). Popular topics, such as ‘trump’, are so densely populated that they will yield an extreme amount of articles, which will take a very long time to compute. My computer times out (or reaches the return limit) after around 1500 articles. \n",
    "\n",
    "It is a good idea to restart the Kernel after each run. \n",
    "\n",
    "Also, please keep in mind that my code does not account for duplicates, or the re-publication of the same article in different subsections (ex. Travel, Business, etc.). This might cause some dates to look out of place in bigger (multi-year) datasets, and is explained more in the document below. \n",
    "\n"
   ]
  },
  {
   "cell_type": "code",
   "execution_count": 1,
   "metadata": {},
   "outputs": [],
   "source": [
    "import urllib.request\n",
    "import bs4\n",
    "import lxml\n",
    "import re\n",
    "import datetime\n",
    "import pprint\n",
    "from textblob import TextBlob\n",
    "import pandas as pd\n",
    "import seaborn\n",
    "import plotly.express as px"
   ]
  },
  {
   "cell_type": "code",
   "execution_count": 2,
   "metadata": {},
   "outputs": [],
   "source": [
    "def bias_report():\n",
    "    print('Welcome to the Bias Report.')\n",
    "    newspaper=input('Enter Newspaper Name:')   #ask for user inputs\n",
    "    keyword=input('Enter a Keyword:')\n",
    "    time1=input('Enter START date (YYYY/MM/DD):')\n",
    "    time2=input('Enter END date (YYYY/MM/DD):')\n",
    "    if ('wall street'in newspaper) or ('Wall Street' in newspaper):\n",
    "        url_temp='https://www.wsj.com/search/term.html?KEYWORDS='+keyword+'&min-date='+time1+'&max-date='+time2+'&daysback=4y&isAdvanced=true&andor=AND&sort=date-desc&source=wsjarticle,wsjblogs,wsjvideo,interactivemedia,sitesearch,wsjpro&page='+'1'\n",
    "        dict_title,dict_summary,answer,construction=wsj_bias(url_temp,keyword,time1,time2,'1',0,0)\n",
    "        sentiment,sentiment_titles,sentiment_summaries=sentiment_analyzer(dict_summary)\n",
    "        graph_bias(sentiment,sentiment_titles,sentiment_summaries,dict_title,construction)\n",
    "    else:\n",
    "        print('Please input \"wall street journal\" or \"Wall Street Journal\" as the newspaper. If confused, look at instructions.')\n",
    "        \n",
    "        \n",
    "        \n",
    "        \n",
    "       \n",
    "        \n",
    "        \n",
    "        "
   ]
  },
  {
   "cell_type": "code",
   "execution_count": 3,
   "metadata": {},
   "outputs": [],
   "source": [
    "def sentiment_analyzer(summary_library):     #sentiment analysis tool using TextBlob\n",
    "\n",
    "    keyview_summary=summary_library.keys\n",
    "    sentiment_titles={}\n",
    "    sentiment_summaries={}\n",
    "    sentiment={}\n",
    "\n",
    "    for k in keyview_summary():    \n",
    "        summary=summary_library.get(k)\n",
    "        score_title=TextBlob(k) \n",
    "        score_summary=TextBlob(summary)\n",
    "        final_score=(score_title.sentiment.polarity +  score_summary.sentiment.polarity)/2\n",
    "        sentiment[k]=final_score\n",
    "        sentiment_titles[k]=score_title.sentiment.polarity\n",
    "        sentiment_summaries[k]=score_summary.sentiment.polarity\n",
    "\n",
    "    return sentiment, sentiment_titles, sentiment_summaries  #returns sentiment scores of net (title+sumary/2), only title scores and only summary scores as dictionaries\n"
   ]
  },
  {
   "cell_type": "code",
   "execution_count": 9,
   "metadata": {},
   "outputs": [],
   "source": [
    "def graph_bias(sentiment,sentiment_titles,sentiment_summaries,dict_title,construction):        ###outputs plotly graph \n",
    "    \n",
    "    dates=[]\n",
    "    sentiment_final=[] \n",
    "    sentiment_title_final = []\n",
    "    sentiment_summary_final = []\n",
    "    article_name=[]\n",
    "    \n",
    "    pos_ct_net=0    #these will be used to count each negative, positive and neutral score\n",
    "    neg_ct_net=0\n",
    "    net_ct_net=0\n",
    "    pos_ct_tit=0\n",
    "    neg_ct_tit=0\n",
    "    net_ct_tit=0\n",
    "    pos_ct_sent=0\n",
    "    neg_ct_sent=0\n",
    "    net_ct_sent=0\n",
    "    \n",
    "    sentiment_keys=sentiment.keys()\n",
    "    dict_title_keys=dict_title.keys()\n",
    "    \n",
    "    for m in sentiment_keys:        #extract sentiment score data from dictionaries\n",
    "        value_sentiment=sentiment.get(m)\n",
    "        sentiment_final = sentiment_final + [value_sentiment]\n",
    "        if value_sentiment>0:\n",
    "            pos_ct_net=pos_ct_net+1\n",
    "        elif value_sentiment<0:\n",
    "            neg_ct_net=neg_ct_net+1\n",
    "        else:\n",
    "            net_ct_net=net_ct_net+1\n",
    "            \n",
    "        \n",
    "    for i in dict_title_keys:        #extract date data from dictionaries\n",
    "        article_name= article_name + [i]\n",
    "        date=dict_title.get(i)\n",
    "        dates= dates + [date]\n",
    "        \n",
    "    sentiment_keys=list(sentiment_keys)\n",
    "    index=dates\n",
    "        \n",
    "    for k in sentiment_titles:        #extract sentiment score data from dictionaries\n",
    "        value_title=sentiment_titles.get(k)\n",
    "        sentiment_title_final = sentiment_title_final + [value_title]\n",
    "        if value_title>0:\n",
    "            pos_ct_tit=pos_ct_tit+1\n",
    "        elif value_title<0:\n",
    "            neg_ct_tit=neg_ct_tit+1\n",
    "        else:\n",
    "            net_ct_tit=net_ct_tit+1    \n",
    "\n",
    "    for j in sentiment_summaries:        #extract sentiment score data from dictionaries\n",
    "        value_summary=sentiment_summaries.get(j)\n",
    "        sentiment_summary_final = sentiment_summary_final + [value_summary]\n",
    "        if value_summary>0:\n",
    "            pos_ct_sent=pos_ct_sent+1\n",
    "        elif value_summary<0:\n",
    "            neg_ct_sent=neg_ct_sent+1\n",
    "        else:\n",
    "            net_ct_sent=net_ct_sent+1  \n",
    "            \n",
    "    df = pd.DataFrame(sentiment_keys, index = dates, columns = ['Title'])\n",
    "    df['Net Sentiment']=sentiment_final\n",
    "    df['Title Score']=sentiment_title_final\n",
    "    df['Summary Score']=sentiment_summary_final\n",
    "    \n",
    "    print(df)\n",
    "    \n",
    "    ans=input('Would you like a graph of the (A) Title and Summary Average Sentiment (A) , (B) Only Title Sentiment (B), or (C) Only Summary Sentiment (C) ?')\n",
    "    length=len(sentiment_keys)\n",
    "    \n",
    "    #the formatting of the graph (title, axis names, hover formatting) were taken from plotly's online manual,\n",
    "    #on sites such as https://plot.ly/python/axes/, https://plot.ly/python/hover-text-and-formatting/,\n",
    "    #https://plot.ly/python/text-and-annotations/, https://plot.ly/python/line-and-scatter/.\n",
    "    \n",
    "    \n",
    "    if ans is 'A': #want average title and summary score\n",
    "        p1 = px.scatter(x=index, y=sentiment_final, hover_name=article_name)\n",
    "        p1.update_yaxes(range=[-1,1])\n",
    "        p1.update_layout(\n",
    "            title=\"Title and Summary Combined Sentiment\", \n",
    "            xaxis_title=\"Date\",\n",
    "            yaxis_title=\"Combined Sentiment\",\n",
    "            font=dict(\n",
    "                family=\"Times New Roman, monospace\",\n",
    "                size=18,\n",
    "                color=\"#d62728\"\n",
    "            )\n",
    "        )\n",
    "        \n",
    "        p1.show()\n",
    "        \n",
    "        print('In',length,'articles,',pos_ct_net,'are positive,',neg_ct_net,'are negative, and',net_ct_net,'are neutral. ',construction,'articles are being updated.')\n",
    "\n",
    "    elif ans is 'B': #want only title score\n",
    "        p2 = px.scatter(x=index, y=sentiment_title_final, hover_name=article_name)\n",
    "        p2.update_yaxes(range=[-1,1])\n",
    "        \n",
    "        p2.update_layout(\n",
    "            title=\"Title Sentiment\", \n",
    "            xaxis_title=\"Date\",\n",
    "            yaxis_title=\"Title Sentiment\",\n",
    "            font=dict(\n",
    "                family=\"Times New Roman, monospace\",\n",
    "                size=18,\n",
    "                color=\"#d62728\"\n",
    "            )\n",
    "        )\n",
    "        p2.show()\n",
    "        \n",
    "        construction=int(construction)\n",
    "        construction=construction-5\n",
    "        construction=str(construction)\n",
    "        \n",
    "        print('In',length,'articles,',pos_ct_tit,'are positive,',neg_ct_tit,'are negative, and',net_ct_tit,'are neutral. ',construction,'articles are being updated.')\n",
    "\n",
    "    elif ans is 'C':   #want only summary score\n",
    "        p3 = px.scatter(x=index, y=sentiment_summary_final, hover_name=article_name)\n",
    "        p3.update_yaxes(range=[-1,1])\n",
    "        \n",
    "        p3.update_layout(\n",
    "            title=\"Summary Sentiment\", \n",
    "            xaxis_title=\"Date\",\n",
    "            yaxis_title=\"Summary Sentiment\",\n",
    "            font=dict(\n",
    "                family=\"Times New Roman, monospace\",\n",
    "                size=18,\n",
    "                color=\"#d62728\"\n",
    "            )\n",
    "        )      \n",
    "        \n",
    "        p3.show()\n",
    "        \n",
    "        print('In',length,'articles,',pos_ct_sent,'are positive,',neg_ct_sent,'are negative, and',net_ct_sent,'are neutral. ',construction,'articles are being updated.')\n",
    "\n",
    "    else:\n",
    "        print('Try again! Please only use CAPITAL A, B or C.')\n",
    "        \n",
    "\n",
    "        \n",
    "    "
   ]
  },
  {
   "cell_type": "code",
   "execution_count": 11,
   "metadata": {},
   "outputs": [],
   "source": [
    "def wsj_bias(url_temp,keyword,time1,time2,pagenum_str,end,construction):\n",
    "    import urllib.request\n",
    "    import bs4\n",
    "    import lxml\n",
    "    import re\n",
    "    import datetime\n",
    "    import pprint\n",
    "    \n",
    "    time1_d=datetime.datetime(int(time1[0:4]),int(time1[5:7]),int(time1[8:]))\n",
    "    time2_d=datetime.datetime(int(time2[0:4]),int(time2[5:7]),int(time2[8:]))\n",
    "            \n",
    "    wsj={}\n",
    "    wsj_summary={}\n",
    "    today=datetime.datetime.now()\n",
    "    final_date={}\n",
    "    final_summary={}\n",
    "    \n",
    "    answer='yes'\n",
    "    \n",
    "    url_wsj = urllib.request.urlopen(url_temp)     #put url through BeautifulSoup\n",
    "    soup_wsj = bs4.BeautifulSoup(url_wsj, 'lxml', from_encoding='utf-8')\n",
    "    headline_container_wsj=soup_wsj.findAll('div',attrs={\"class\":\"headline-container\"}) #find headline containers\n",
    "    #find headline containers instead of headlines or summaries themselves, as not all entries have \n",
    "    #summaries while all entries do have headline containers.\n",
    "\n",
    "    for k in headline_container_wsj:           \n",
    "        title=k.find('h3',attrs={\"class\":\"headline\"})   #find everything else in the container\n",
    "        title=title.text\n",
    "        date=k.find('time',attrs={\"class\":\"date-stamp-container highlight\",\"class\":\"date-stamp-container\"})\n",
    "        date=date.text\n",
    "        summary=k.find('div',attrs={\"class\":\"summary-container\"})\n",
    "        wsj[title]=date\n",
    "        try:\n",
    "            summary=summary.text\n",
    "            wsj_summary[title]=summary\n",
    "        except:\n",
    "            wsj_summary[title]='n/a'\n",
    "\n",
    "    \n",
    "    keyview_wsj=wsj.keys\n",
    "    \n",
    "    for k in keyview_wsj():    #formatting time, as WSJ has a lot of inconsistencies\n",
    "        val=wsj.get(k)         #when reporting the time an article is published\n",
    "        \n",
    "        if 'Just' in val:\n",
    "            val=val[5:]\n",
    "    \n",
    "        if 'Jan.' in val:                           #standardizing months as they abbreviate\n",
    "            val=val.replace('Jan.','January')       #sometimes and do not other times\n",
    "        elif 'Feb.' in val:\n",
    "            val=val.replace('Feb.','February')\n",
    "        elif 'Mar.' in val:\n",
    "            val=val.replace('Mar.','March')    \n",
    "        elif 'Apr.' in val:\n",
    "            val=val.replace('Apr.','April')\n",
    "        elif 'Jun.' in val:\n",
    "            val=val.replace('Jun.','June')\n",
    "        elif 'Jul.' in val:\n",
    "            val=val.replace('Jul.','July')\n",
    "        elif 'Aug.' in val: \n",
    "            val=val.replace('Aug.','August')\n",
    "        elif 'Sep.' in val:    \n",
    "            val=val.replace('Sep.','September')\n",
    "        elif 'Oct.' in val:  \n",
    "            val=val.replace('Oct.','October')\n",
    "        elif 'Nov.' in val: \n",
    "            val=val.replace('Nov.','November')\n",
    "        elif 'Dec.' in val: \n",
    "            val=val.replace('Dec.','December')\n",
    "            \n",
    "    \n",
    "        if 'hour' in val:                      #standardizing dates reported in hrs or mins\n",
    "            number=''                          #into YYYY-MM-DD format\n",
    "            for m in val:\n",
    "                if re.match('\\d',m):\n",
    "                    number=number+m\n",
    "            number=int(number)\n",
    "            new_date= today + datetime.timedelta(hours = -number)\n",
    "            wsj[k]=new_date.strftime('%Y-%m-%d')\n",
    "            val=datetime.datetime.strptime(wsj[k], '%Y-%m-%d')\n",
    "            \n",
    "        elif 'min' in val:\n",
    "            number=''\n",
    "            for n in val:\n",
    "                if re.match('\\d',n):\n",
    "                    number=number+n\n",
    "            number=int(number)\n",
    "            new_date= today + datetime.timedelta(minutes = -number)\n",
    "            wsj[k]=new_date.strftime('%Y-%m-%d')\n",
    "            val=datetime.datetime.strptime(wsj[k], '%Y-%m-%d')\n",
    "\n",
    "        \n",
    "        else:\n",
    "            val=val[0:-2]                     #getting rid of time zone \n",
    "            val=datetime.datetime.strptime(val, '%B %d, %Y %I:%M %p ') \n",
    "            wsj[k]=val.strftime('%Y-%m-%d')\n",
    "            val=datetime.datetime.strptime(wsj[k], '%Y-%m-%d')  #change back to compare with datetime objects if wanted\n",
    "                \n",
    "#        if error_prompt is 0:\n",
    "#            answer='no'\n",
    "#            val=datetime.datetime.strptime('0001-01-01', \"%Y-%m-%d\")\n",
    "    \n",
    "        if time1_d<=val<=time2_d:   #check if article is in date range, add to pile if it is\n",
    "            final_date[k]=wsj[k]\n",
    "            summary_value=wsj_summary[k]\n",
    "            final_summary[k]=summary_value\n",
    "        \n",
    "    if len(wsj)==0:\n",
    "        end=end+1\n",
    "        construction=construction+1\n",
    "    else:\n",
    "        end=0          #only end if three are zero right after one another \n",
    "        \n",
    "    print(end)\n",
    "    print(construction)\n",
    "    \n",
    "    if end>=5:\n",
    "        answer='no'\n",
    "                    \n",
    "    if answer is 'yes':  #if answer is yes, we should move to the next page, and the function should call itself again\n",
    "        print(wsj)\n",
    "        pagenum=int(pagenum_str)\n",
    "        pagenum=pagenum+1\n",
    "        pagenum_str=str(pagenum)\n",
    "        url_temp='https://www.wsj.com/search/term.html?KEYWORDS='+keyword+'&min-date='+time1+'&max-date='+time2+'&daysback=4y&isAdvanced=true&andor=AND&sort=date-desc&source=wsjarticle,wsjblogs,wsjvideo,interactivemedia,sitesearch,wsjpro&page='+pagenum_str\n",
    "        add_date,add_summary,answer,construction=wsj_bias(url_temp,keyword,time1,time2,pagenum_str,end,construction) \n",
    "            \n",
    "        final_date={**wsj, **add_date}  ####### combine dicts\n",
    "        final_summary={**wsj_summary, **add_summary}\n",
    "    \n",
    "    return final_date,final_summary, answer, construction\n",
    "                    \n",
    "    #return final_date, final_summary, answer yields an answer to whether you should keep going or not "
   ]
  },
  {
   "cell_type": "code",
   "execution_count": 12,
   "metadata": {
    "scrolled": false
   },
   "outputs": [
    {
     "name": "stdout",
     "output_type": "stream",
     "text": [
      "Welcome to the Bias Report.\n",
      "Enter Newspaper Name:wall street\n",
      "Enter a Keyword:accenture\n",
      "Enter START date (YYYY/MM/DD):2019/01/01\n",
      "Enter END date (YYYY/MM/DD):2020/01/01\n",
      "0\n",
      "0\n",
      "{' PG&E: Wired to Fail ': '2019-12-28', ' Cyber Daily Year Ahead: CISOs, Who Is Your Boss? ': '2019-12-24', ' CISOs Emerge From CIOs’ Shadow ': '2019-12-24', ' The Newest Trend in Holiday Gifting? Old Stuff ': '2019-12-21', ' Tech, Media & Telecom Roundup: Market Talk ': '2019-10-31', ' Cyber Daily: Goodbye, 2019—A Year of Security Angst and Innovation ': '2019-12-20', ' The Tricky Role of the CEO in a New Era of Social Responsibility ': '2019-12-12', ' Virtual Travel Could Change the World—If It Gets Off the Ground ': '2019-12-12', ' VC Daily: Rocky Mountains Lure Investors, Startups; Elder Care Startup Bet; Genius-Google Battle Over Lyrics ': '2019-12-04', ' Risk Managers Grapple With Potential Downsides of AI ': '2019-12-02', ' The Generational Divide in Holiday Shopping ': '2019-11-25', ' Data and Deregulation Fuel the Global Fintech Boom ': '2019-11-22', ' Brussels Report: The Push for Digital Sovereignty and Local Champions ': '2019-11-20', ' New Stanford Hospital Takes Holistic Approach to Technology ': '2019-11-16', ' Colorado Driver’s Licenses Go Digital ': '2019-11-12', ' Kimberly-Clark Switches Major Ad Duties From WPP to Accenture Interactive ': '2019-11-11', ' Volkswagen to Test Quantum Navigation App in Real Traffic ': '2019-10-31', ' The Business Roundtable’s Model of Capitalism Does Pay Off ': '2019-10-27'}\n",
      "0\n",
      "0\n",
      "{' New York City Companies Need More Cybersecurity Workers, Survey Finds ': '2019-10-24', ' U.S. Companies Advised to Prepare for Multiple Benchmark Rates in Transition from Libor ': '2019-10-22', ' Organizations Identify a Value Framework for Blockchain ': '2019-10-18', ' The Worlds That AI Might Create ': '2019-10-13', ' More Deals, at Higher Valuations, for Business-Software Makers ': '2019-10-02', ' AI, Privacy Laws to Drive Data-Breach Costs Higher ': '2019-10-02', ' Retailers Get Another Blow: Hand-Me-Downs ': '2019-10-02', ' Cyber Daily: Security Problems Rack Up Trillions in Costs ': '2019-10-02', ' Cyber Daily: Making Culture Change Stick; Navy to Reform Security Practices; Dunkin’ Hack Sparks Suit ': '2019-09-27', ' Old-Line Industries Struggle to Prioritize Cybersecurity ': '2019-09-27', ' Corporate Boards Face Challenges in Overseeing AI ': '2019-09-26', ' Lowe’s Goes DIY on Software Development ': '2019-09-25', ' Sharp Questions Can Help Boards Oversee Cybersecurity ': '2019-09-25', ' Cyber Daily: Boards Brush Up on Cybersecurity; A War Over 5G; Google Gets a Privacy Win in Europe ': '2019-09-25', ' Corporate Tech Spending Helps Lift U.S. Economy ': '2019-09-24', ' Among Today’s Most Prized Leadership Qualities: Playing Nicely ': '2019-09-18', ' Mario Draghi’s Legacy Remains Contested; Strong Dollar Prompts Speculation of Trump Intervention ': '2019-09-16', ' Companies Slow to Move Away From Libor ': '2019-09-15', ' Tech, Media & Telecom Roundup: Market Talk ': '2019-09-12'}\n",
      "0\n",
      "0\n",
      "{' How to Build an AI Ethics Committee ': '2019-08-30', ' Airbus Harnessing AI in Bid to Save Millions on Finance Tasks ': '2019-08-19', ' PE Daily: Minnesota Pledges $600M | Riverbed’s Revenue Drops | Stopping WeWork’s Red Ink ': '2019-08-16', ' Cyber Daily: Accenture Faces Legal Action in Marriott Hack; Black Hat’s Own Defenses; State Farm Breach; Potential FBI-Facebook Clash ': '2019-08-09', ' Accenture Faces Lawsuit Over Marriott Data Breach ': '2019-08-09', ' Cyber Daily: Capital One Explanation of Its Encryption Steps Sparks Questions Among Security Experts ': '2019-08-02', ' Accenture Pushes Deeper Into Quantum Computing ': '2019-07-31', ' Can’t Find AI Professionals? Train Them. ': '2019-07-24', ' Three Hours of Work a Day? You’re Not Fooling Anyone. ': '2019-07-19', ' Cyber Daily: Security Cleanup Costs Continue to Mount, Especially From Pernicious Insider Attacks ': '2019-07-16', ' Cybercrime Costs Keep Rising ': '2019-07-16', ' Financial Services Roundup: Market Talk ': '2019-07-12', ' Tech, Media & Telecom Roundup: Market Talk ': '2019-07-12', ' Accenture Picks Julie Sweet as Chief Executive ': '2019-07-12', ' Stocks to Watch: Milacron Holdings, Hookipa Pharma, PNM Resources, Snap ': '2019-07-12', ' Amazon to Retrain a Third of Its U.S. Workforce ': '2019-07-11', ' P&G CIO Says He Wants to Hire More Women Coders ': '2019-07-10', ' AI Helps Small Medical-Device Makers Punch Above Their Weight ': '2019-07-03', ' Stocks to Watch: Magellan Health, Herman Miller, KB Home, Rite Aid, Walgreens Boots Alliance and More ': '2019-06-27', ' Capgemini to Buy Altran in €3.6 Billion Deal ': '2019-06-25'}\n",
      "0\n",
      "0\n",
      "{' Accenture Retrains Its Workers as Technology Upends Their Jobs ': '2019-06-23', ' VC Daily: Venture’s Facebook Crypto Bet; Slack’s VCs Expect Big Returns ': '2019-06-19', ' Consulting Firms Make Inroads Into the Business of Ad Agencies ': '2019-06-17', ' Ad Creators Get Inspiration From Big Data ': '2019-06-17', ' Facebook to Boost Ad Spending as It Tries to Restore Reputation ': '2019-06-14', ' When Chatbots Falter, Humans Steer Them the Right Way ': '2019-06-12', ' Technology Could Slow Pace of New Accounting Rules, Regulators Say ': '2019-06-11', ' Going From Big Fish to Small Fish: How Executives Can Deal With the Change ': '2019-05-29', ' U.S. Executives Recruited to Run PE-Backed Tech Businesses ': '2019-05-22', ' Companies Slow to Adopt Libor Replacement ': '2019-05-20', ' Injecting Ethics Into AI Would Benefit From Dual Approach, Researchers Say ': '2019-05-16', ' Toshiba’s Board Move Will Give Foreigners a Greater Voice ': '2019-05-13', ' No Branch, No Problem. Citigroup Bets Big on Digital Banking. ': '2019-05-12', ' How Businesses Can Avoid Getting Stuck With the Wrong AI Consultant ': '2019-05-03', ' Interpublic Says Health Care, Consumer-Goods, Financial Marketers Fueled First-Quarter Growth ': '2019-04-26', ' TV Programmers Unveil Plan for OpenAP Ad Marketplace ': '2019-04-25', ' Real Time Economics: The Resilient American Economy ': '2019-04-23', ' European Equities Market Talk Roundup ': '2019-04-23', ' Why Companies Are Failing at Reskilling ': '2019-04-19', ' Tiger’s Back, and That’s Good News for Other Troubled Brands ': '2019-04-19'}\n",
      "0\n",
      "0\n",
      "{' Ethical and Legal Concerns Give Rise to AI Antibias Tools ': '2019-04-18', ' Amid Ad-Industry M&A, Omnicom Says It Isn’t Looking for Big Deals ': '2019-04-16', ' Tiger Woods Rewards Nike’s Loyalty With Masters Win ': '2019-04-15', ' Publicis Agrees to Acquire Alliance Data’s Epsilon Unit for About $4.4 Billion ': '2019-04-14', ' What’s Been Lacking at Google’s Cloud? Enough Humans ': '2019-04-08', ' Accenture Acquires Hot Ad Agency Droga5, Raising Its Creative Profile ': '2019-04-03', ' Energy & Utilities Roundup: Market Talk ': '2019-04-03', ' Auto & Transport Roundup: Market Talk ': '2019-04-02', ' Medicare and Medicaid Agency Bets AI Can Reduce Hospital Admissions ': '2019-04-01', ' Stocks to Watch: Lululemon, Facebook, Five Below, PVH, Quantenna, H.B. Fuller, World Wrestling Entertainment, Accenture ': '2019-03-28', ' VC Daily: Washington Refocuses on Health Care | Dilemma for Price-Conscious VCs ': '2019-03-27', ' VC Daily: Peloton Faces a Music Rap | Dueling Models at Stitch Fix and Glossier ': '2019-03-20', ' U.S. Push for AI Supremacy Will Drive Demand for Accountability, Trust ': '2019-03-20', ' Cyber Daily: Algorithms to Keep Autonomous Devices Safe; Cyber Hiring Slog ': '2019-03-15', ' How Algorithms Help Counter Attacks on Drones, Robots and Self-Driving Cars ': '2019-03-15', ' Chinese Hackers Target Universities in Pursuit of Maritime Military Secrets ': '2019-03-05', ' Need for AI Ethicists Becomes Clearer as Companies Admit Tech’s Flaws ': '2019-02-28', ' Safeway Expands Number of AI-Equipped Health Clinics ': '2019-02-26', ' It Shook the Food Business by Snagging Burger King, Kraft and Heinz. Now 3G Is Reeling. ': '2019-02-22', ' VC Daily: Who’s Ride-Hailing’s First to Exit? | Keith Rabois Jumps to Founders Fund ': '2019-02-21'}\n",
      "0\n",
      "0\n",
      "{' Cyber Daily: Spending Benchmarks; Judging Huawei; Few Female CISOs ': '2019-02-19', ' WSJ Tax Guide 2019: What Investors Need to Know ': '2019-02-15', ' Cyber Daily: Carmakers Cope with New Cyber Threats; CISOs Overstressed, Study Says ': '2019-02-15', ' Connected Cars, Driver Data Make Auto Industry a Cyber Target ': '2019-02-14', ' United Technologies CDO Backs Effort to Train Female Coders ': '2019-02-12', ' Pernod Hits Back at Activist Elliott as Stock Hits Record High ': '2019-02-07', ' Pierre Nanterme Pushed Accenture to Rethink Its Mission in Consulting ': '2019-02-06', ' Recognizing the Value of Disabled Workers ': '2019-02-04', ' Yum Brands Opens Search for New CFO ': '2019-01-28', ' VC Daily: Getting a Stake in ‘Ghost’ Kitchens | $1 Billion Stolen in Crypto Hacking ': '2019-01-28', ' The Catch-22 of Globalization ': '2019-01-21', ' After a Strong 2018 for Retail Sales, Caution Flags Pop Up ': '2019-01-16', ' America’s Electric Grid Has a Vulnerable Back Door—and Russia Walked Through It ': '2019-01-10'}\n"
     ]
    },
    {
     "name": "stdout",
     "output_type": "stream",
     "text": [
      "1\n",
      "1\n",
      "{}\n",
      "2\n",
      "2\n",
      "{}\n",
      "3\n",
      "3\n",
      "{}\n",
      "4\n",
      "4\n",
      "{}\n",
      "5\n",
      "5\n",
      "                                                        Title  Net Sentiment  \\\n",
      "2019-12-28                               PG&E: Wired to Fail       -0.351667   \n",
      "2019-12-24   Cyber Daily Year Ahead: CISOs, Who Is Your Bo...       0.083333   \n",
      "2019-12-24                    CISOs Emerge From CIOs’ Shadow        0.000000   \n",
      "2019-12-21    The Newest Trend in Holiday Gifting? Old Stuff        0.152500   \n",
      "2019-07-12        Tech, Media & Telecom Roundup: Market Talk        0.250000   \n",
      "...                                                       ...            ...   \n",
      "2019-01-28               Yum Brands Opens Search for New CFO        0.068182   \n",
      "2019-01-28   VC Daily: Getting a Stake in ‘Ghost’ Kitchens...       0.000000   \n",
      "2019-01-21                     The Catch-22 of Globalization        0.150000   \n",
      "2019-01-16   After a Strong 2018 for Retail Sales, Caution...       0.209722   \n",
      "2019-01-10   America’s Electric Grid Has a Vulnerable Back...      -0.218750   \n",
      "\n",
      "            Title Score  Summary Score  \n",
      "2019-12-28    -0.500000      -0.203333  \n",
      "2019-12-24     0.000000       0.166667  \n",
      "2019-12-24     0.000000       0.000000  \n",
      "2019-12-21     0.100000       0.205000  \n",
      "2019-07-12     0.000000       0.500000  \n",
      "...                 ...            ...  \n",
      "2019-01-28     0.136364       0.000000  \n",
      "2019-01-28     0.000000       0.000000  \n",
      "2019-01-21     0.000000       0.300000  \n",
      "2019-01-16     0.433333      -0.013889  \n",
      "2019-01-10    -0.250000      -0.187500  \n",
      "\n",
      "[108 rows x 4 columns]\n",
      "Would you like a graph of the (A) Title and Summary Average Sentiment (A) , (B) Only Title Sentiment (B), or (C) Only Summary Sentiment (C) ?B\n"
     ]
    },
    {
     "data": {
      "application/vnd.plotly.v1+json": {
       "config": {
        "plotlyServerURL": "https://plot.ly"
       },
       "data": [
        {
         "hoverlabel": {
          "namelength": 0
         },
         "hovertemplate": "<b>%{hovertext}</b><br><br>x=%{x}<br>y=%{y}",
         "hovertext": [
          " PG&E: Wired to Fail ",
          " Cyber Daily Year Ahead: CISOs, Who Is Your Boss? ",
          " CISOs Emerge From CIOs’ Shadow ",
          " The Newest Trend in Holiday Gifting? Old Stuff ",
          " Tech, Media & Telecom Roundup: Market Talk ",
          " Cyber Daily: Goodbye, 2019—A Year of Security Angst and Innovation ",
          " The Tricky Role of the CEO in a New Era of Social Responsibility ",
          " Virtual Travel Could Change the World—If It Gets Off the Ground ",
          " VC Daily: Rocky Mountains Lure Investors, Startups; Elder Care Startup Bet; Genius-Google Battle Over Lyrics ",
          " Risk Managers Grapple With Potential Downsides of AI ",
          " The Generational Divide in Holiday Shopping ",
          " Data and Deregulation Fuel the Global Fintech Boom ",
          " Brussels Report: The Push for Digital Sovereignty and Local Champions ",
          " New Stanford Hospital Takes Holistic Approach to Technology ",
          " Colorado Driver’s Licenses Go Digital ",
          " Kimberly-Clark Switches Major Ad Duties From WPP to Accenture Interactive ",
          " Volkswagen to Test Quantum Navigation App in Real Traffic ",
          " The Business Roundtable’s Model of Capitalism Does Pay Off ",
          " New York City Companies Need More Cybersecurity Workers, Survey Finds ",
          " U.S. Companies Advised to Prepare for Multiple Benchmark Rates in Transition from Libor ",
          " Organizations Identify a Value Framework for Blockchain ",
          " The Worlds That AI Might Create ",
          " More Deals, at Higher Valuations, for Business-Software Makers ",
          " AI, Privacy Laws to Drive Data-Breach Costs Higher ",
          " Retailers Get Another Blow: Hand-Me-Downs ",
          " Cyber Daily: Security Problems Rack Up Trillions in Costs ",
          " Cyber Daily: Making Culture Change Stick; Navy to Reform Security Practices; Dunkin’ Hack Sparks Suit ",
          " Old-Line Industries Struggle to Prioritize Cybersecurity ",
          " Corporate Boards Face Challenges in Overseeing AI ",
          " Lowe’s Goes DIY on Software Development ",
          " Sharp Questions Can Help Boards Oversee Cybersecurity ",
          " Cyber Daily: Boards Brush Up on Cybersecurity; A War Over 5G; Google Gets a Privacy Win in Europe ",
          " Corporate Tech Spending Helps Lift U.S. Economy ",
          " Among Today’s Most Prized Leadership Qualities: Playing Nicely ",
          " Mario Draghi’s Legacy Remains Contested; Strong Dollar Prompts Speculation of Trump Intervention ",
          " Companies Slow to Move Away From Libor ",
          " How to Build an AI Ethics Committee ",
          " Airbus Harnessing AI in Bid to Save Millions on Finance Tasks ",
          " PE Daily: Minnesota Pledges $600M | Riverbed’s Revenue Drops | Stopping WeWork’s Red Ink ",
          " Cyber Daily: Accenture Faces Legal Action in Marriott Hack; Black Hat’s Own Defenses; State Farm Breach; Potential FBI-Facebook Clash ",
          " Accenture Faces Lawsuit Over Marriott Data Breach ",
          " Cyber Daily: Capital One Explanation of Its Encryption Steps Sparks Questions Among Security Experts ",
          " Accenture Pushes Deeper Into Quantum Computing ",
          " Can’t Find AI Professionals? Train Them. ",
          " Three Hours of Work a Day? You’re Not Fooling Anyone. ",
          " Cyber Daily: Security Cleanup Costs Continue to Mount, Especially From Pernicious Insider Attacks ",
          " Cybercrime Costs Keep Rising ",
          " Financial Services Roundup: Market Talk ",
          " Accenture Picks Julie Sweet as Chief Executive ",
          " Stocks to Watch: Milacron Holdings, Hookipa Pharma, PNM Resources, Snap ",
          " Amazon to Retrain a Third of Its U.S. Workforce ",
          " P&G CIO Says He Wants to Hire More Women Coders ",
          " AI Helps Small Medical-Device Makers Punch Above Their Weight ",
          " Stocks to Watch: Magellan Health, Herman Miller, KB Home, Rite Aid, Walgreens Boots Alliance and More ",
          " Capgemini to Buy Altran in €3.6 Billion Deal ",
          " Accenture Retrains Its Workers as Technology Upends Their Jobs ",
          " VC Daily: Venture’s Facebook Crypto Bet; Slack’s VCs Expect Big Returns ",
          " Consulting Firms Make Inroads Into the Business of Ad Agencies ",
          " Ad Creators Get Inspiration From Big Data ",
          " Facebook to Boost Ad Spending as It Tries to Restore Reputation ",
          " When Chatbots Falter, Humans Steer Them the Right Way ",
          " Technology Could Slow Pace of New Accounting Rules, Regulators Say ",
          " Going From Big Fish to Small Fish: How Executives Can Deal With the Change ",
          " U.S. Executives Recruited to Run PE-Backed Tech Businesses ",
          " Companies Slow to Adopt Libor Replacement ",
          " Injecting Ethics Into AI Would Benefit From Dual Approach, Researchers Say ",
          " Toshiba’s Board Move Will Give Foreigners a Greater Voice ",
          " No Branch, No Problem. Citigroup Bets Big on Digital Banking. ",
          " How Businesses Can Avoid Getting Stuck With the Wrong AI Consultant ",
          " Interpublic Says Health Care, Consumer-Goods, Financial Marketers Fueled First-Quarter Growth ",
          " TV Programmers Unveil Plan for OpenAP Ad Marketplace ",
          " Real Time Economics: The Resilient American Economy ",
          " European Equities Market Talk Roundup ",
          " Why Companies Are Failing at Reskilling ",
          " Tiger’s Back, and That’s Good News for Other Troubled Brands ",
          " Ethical and Legal Concerns Give Rise to AI Antibias Tools ",
          " Amid Ad-Industry M&A, Omnicom Says It Isn’t Looking for Big Deals ",
          " Tiger Woods Rewards Nike’s Loyalty With Masters Win ",
          " Publicis Agrees to Acquire Alliance Data’s Epsilon Unit for About $4.4 Billion ",
          " What’s Been Lacking at Google’s Cloud? Enough Humans ",
          " Accenture Acquires Hot Ad Agency Droga5, Raising Its Creative Profile ",
          " Energy & Utilities Roundup: Market Talk ",
          " Auto & Transport Roundup: Market Talk ",
          " Medicare and Medicaid Agency Bets AI Can Reduce Hospital Admissions ",
          " Stocks to Watch: Lululemon, Facebook, Five Below, PVH, Quantenna, H.B. Fuller, World Wrestling Entertainment, Accenture ",
          " VC Daily: Washington Refocuses on Health Care | Dilemma for Price-Conscious VCs ",
          " VC Daily: Peloton Faces a Music Rap | Dueling Models at Stitch Fix and Glossier ",
          " U.S. Push for AI Supremacy Will Drive Demand for Accountability, Trust ",
          " Cyber Daily: Algorithms to Keep Autonomous Devices Safe; Cyber Hiring Slog ",
          " How Algorithms Help Counter Attacks on Drones, Robots and Self-Driving Cars ",
          " Chinese Hackers Target Universities in Pursuit of Maritime Military Secrets ",
          " Need for AI Ethicists Becomes Clearer as Companies Admit Tech’s Flaws ",
          " Safeway Expands Number of AI-Equipped Health Clinics ",
          " It Shook the Food Business by Snagging Burger King, Kraft and Heinz. Now 3G Is Reeling. ",
          " VC Daily: Who’s Ride-Hailing’s First to Exit? | Keith Rabois Jumps to Founders Fund ",
          " Cyber Daily: Spending Benchmarks; Judging Huawei; Few Female CISOs ",
          " WSJ Tax Guide 2019: What Investors Need to Know ",
          " Cyber Daily: Carmakers Cope with New Cyber Threats; CISOs Overstressed, Study Says ",
          " Connected Cars, Driver Data Make Auto Industry a Cyber Target ",
          " United Technologies CDO Backs Effort to Train Female Coders ",
          " Pernod Hits Back at Activist Elliott as Stock Hits Record High ",
          " Pierre Nanterme Pushed Accenture to Rethink Its Mission in Consulting ",
          " Recognizing the Value of Disabled Workers ",
          " Yum Brands Opens Search for New CFO ",
          " VC Daily: Getting a Stake in ‘Ghost’ Kitchens | $1 Billion Stolen in Crypto Hacking ",
          " The Catch-22 of Globalization ",
          " After a Strong 2018 for Retail Sales, Caution Flags Pop Up ",
          " America’s Electric Grid Has a Vulnerable Back Door—and Russia Walked Through It "
         ],
         "legendgroup": "",
         "marker": {
          "color": "#636efa",
          "symbol": "circle"
         },
         "mode": "markers",
         "name": "",
         "showlegend": false,
         "type": "scatter",
         "x": [
          "2019-12-28",
          "2019-12-24",
          "2019-12-24",
          "2019-12-21",
          "2019-07-12",
          "2019-12-20",
          "2019-12-12",
          "2019-12-12",
          "2019-12-04",
          "2019-12-02",
          "2019-11-25",
          "2019-11-22",
          "2019-11-20",
          "2019-11-16",
          "2019-11-12",
          "2019-11-11",
          "2019-10-31",
          "2019-10-27",
          "2019-10-24",
          "2019-10-22",
          "2019-10-18",
          "2019-10-13",
          "2019-10-02",
          "2019-10-02",
          "2019-10-02",
          "2019-10-02",
          "2019-09-27",
          "2019-09-27",
          "2019-09-26",
          "2019-09-25",
          "2019-09-25",
          "2019-09-25",
          "2019-09-24",
          "2019-09-18",
          "2019-09-16",
          "2019-09-15",
          "2019-08-30",
          "2019-08-19",
          "2019-08-16",
          "2019-08-09",
          "2019-08-09",
          "2019-08-02",
          "2019-07-31",
          "2019-07-24",
          "2019-07-19",
          "2019-07-16",
          "2019-07-16",
          "2019-07-12",
          "2019-07-12",
          "2019-07-12",
          "2019-07-11",
          "2019-07-10",
          "2019-07-03",
          "2019-06-27",
          "2019-06-25",
          "2019-06-23",
          "2019-06-19",
          "2019-06-17",
          "2019-06-17",
          "2019-06-14",
          "2019-06-12",
          "2019-06-11",
          "2019-05-29",
          "2019-05-22",
          "2019-05-20",
          "2019-05-16",
          "2019-05-13",
          "2019-05-12",
          "2019-05-03",
          "2019-04-26",
          "2019-04-25",
          "2019-04-23",
          "2019-04-23",
          "2019-04-19",
          "2019-04-19",
          "2019-04-18",
          "2019-04-16",
          "2019-04-15",
          "2019-04-14",
          "2019-04-08",
          "2019-04-03",
          "2019-04-03",
          "2019-04-02",
          "2019-04-01",
          "2019-03-28",
          "2019-03-27",
          "2019-03-20",
          "2019-03-20",
          "2019-03-15",
          "2019-03-15",
          "2019-03-05",
          "2019-02-28",
          "2019-02-26",
          "2019-02-22",
          "2019-02-21",
          "2019-02-19",
          "2019-02-15",
          "2019-02-15",
          "2019-02-14",
          "2019-02-12",
          "2019-02-07",
          "2019-02-06",
          "2019-02-04",
          "2019-01-28",
          "2019-01-28",
          "2019-01-21",
          "2019-01-16",
          "2019-01-10"
         ],
         "xaxis": "x",
         "y": [
          -0.5,
          0,
          0,
          0.1,
          0,
          0,
          0.08484848484848484,
          0,
          0,
          0,
          0,
          0,
          0,
          0.13636363636363635,
          0,
          0.0625,
          0.2,
          0,
          0.3181818181818182,
          0,
          0,
          0,
          0.375,
          0.25,
          0,
          0,
          0,
          0,
          0,
          0,
          -0.125,
          0.4,
          0,
          0.55,
          0.4333333333333333,
          -0.30000000000000004,
          0,
          0,
          0,
          0.12222222222222223,
          0,
          0,
          0,
          0,
          0,
          0,
          0,
          0,
          0.35,
          0,
          0,
          0.35,
          -0.125,
          0.5,
          0,
          0,
          0,
          0,
          0,
          -0.1,
          0.2857142857142857,
          -0.08181818181818185,
          -0.125,
          0,
          -0.30000000000000004,
          0,
          0.5,
          0,
          -0.5,
          0,
          0,
          0.1,
          0,
          0,
          0.01874999999999999,
          0.2,
          0,
          0.8,
          0,
          0,
          0.375,
          0,
          0,
          0,
          0,
          0,
          0,
          0,
          0.3,
          0,
          -0.05,
          0,
          0,
          0,
          0.125,
          -0.06666666666666667,
          0,
          0.06818181818181818,
          0,
          0,
          0.08,
          0,
          -0.2,
          0.13636363636363635,
          0,
          0,
          0.4333333333333333,
          -0.25
         ],
         "yaxis": "y"
        }
       ],
       "layout": {
        "font": {
         "color": "#d62728",
         "family": "Times New Roman, monospace",
         "size": 18
        },
        "height": 600,
        "legend": {
         "tracegroupgap": 0
        },
        "margin": {
         "t": 60
        },
        "template": {
         "data": {
          "bar": [
           {
            "error_x": {
             "color": "#2a3f5f"
            },
            "error_y": {
             "color": "#2a3f5f"
            },
            "marker": {
             "line": {
              "color": "#E5ECF6",
              "width": 0.5
             }
            },
            "type": "bar"
           }
          ],
          "barpolar": [
           {
            "marker": {
             "line": {
              "color": "#E5ECF6",
              "width": 0.5
             }
            },
            "type": "barpolar"
           }
          ],
          "carpet": [
           {
            "aaxis": {
             "endlinecolor": "#2a3f5f",
             "gridcolor": "white",
             "linecolor": "white",
             "minorgridcolor": "white",
             "startlinecolor": "#2a3f5f"
            },
            "baxis": {
             "endlinecolor": "#2a3f5f",
             "gridcolor": "white",
             "linecolor": "white",
             "minorgridcolor": "white",
             "startlinecolor": "#2a3f5f"
            },
            "type": "carpet"
           }
          ],
          "choropleth": [
           {
            "colorbar": {
             "outlinewidth": 0,
             "ticks": ""
            },
            "type": "choropleth"
           }
          ],
          "contour": [
           {
            "colorbar": {
             "outlinewidth": 0,
             "ticks": ""
            },
            "colorscale": [
             [
              0,
              "#0d0887"
             ],
             [
              0.1111111111111111,
              "#46039f"
             ],
             [
              0.2222222222222222,
              "#7201a8"
             ],
             [
              0.3333333333333333,
              "#9c179e"
             ],
             [
              0.4444444444444444,
              "#bd3786"
             ],
             [
              0.5555555555555556,
              "#d8576b"
             ],
             [
              0.6666666666666666,
              "#ed7953"
             ],
             [
              0.7777777777777778,
              "#fb9f3a"
             ],
             [
              0.8888888888888888,
              "#fdca26"
             ],
             [
              1,
              "#f0f921"
             ]
            ],
            "type": "contour"
           }
          ],
          "contourcarpet": [
           {
            "colorbar": {
             "outlinewidth": 0,
             "ticks": ""
            },
            "type": "contourcarpet"
           }
          ],
          "heatmap": [
           {
            "colorbar": {
             "outlinewidth": 0,
             "ticks": ""
            },
            "colorscale": [
             [
              0,
              "#0d0887"
             ],
             [
              0.1111111111111111,
              "#46039f"
             ],
             [
              0.2222222222222222,
              "#7201a8"
             ],
             [
              0.3333333333333333,
              "#9c179e"
             ],
             [
              0.4444444444444444,
              "#bd3786"
             ],
             [
              0.5555555555555556,
              "#d8576b"
             ],
             [
              0.6666666666666666,
              "#ed7953"
             ],
             [
              0.7777777777777778,
              "#fb9f3a"
             ],
             [
              0.8888888888888888,
              "#fdca26"
             ],
             [
              1,
              "#f0f921"
             ]
            ],
            "type": "heatmap"
           }
          ],
          "heatmapgl": [
           {
            "colorbar": {
             "outlinewidth": 0,
             "ticks": ""
            },
            "colorscale": [
             [
              0,
              "#0d0887"
             ],
             [
              0.1111111111111111,
              "#46039f"
             ],
             [
              0.2222222222222222,
              "#7201a8"
             ],
             [
              0.3333333333333333,
              "#9c179e"
             ],
             [
              0.4444444444444444,
              "#bd3786"
             ],
             [
              0.5555555555555556,
              "#d8576b"
             ],
             [
              0.6666666666666666,
              "#ed7953"
             ],
             [
              0.7777777777777778,
              "#fb9f3a"
             ],
             [
              0.8888888888888888,
              "#fdca26"
             ],
             [
              1,
              "#f0f921"
             ]
            ],
            "type": "heatmapgl"
           }
          ],
          "histogram": [
           {
            "marker": {
             "colorbar": {
              "outlinewidth": 0,
              "ticks": ""
             }
            },
            "type": "histogram"
           }
          ],
          "histogram2d": [
           {
            "colorbar": {
             "outlinewidth": 0,
             "ticks": ""
            },
            "colorscale": [
             [
              0,
              "#0d0887"
             ],
             [
              0.1111111111111111,
              "#46039f"
             ],
             [
              0.2222222222222222,
              "#7201a8"
             ],
             [
              0.3333333333333333,
              "#9c179e"
             ],
             [
              0.4444444444444444,
              "#bd3786"
             ],
             [
              0.5555555555555556,
              "#d8576b"
             ],
             [
              0.6666666666666666,
              "#ed7953"
             ],
             [
              0.7777777777777778,
              "#fb9f3a"
             ],
             [
              0.8888888888888888,
              "#fdca26"
             ],
             [
              1,
              "#f0f921"
             ]
            ],
            "type": "histogram2d"
           }
          ],
          "histogram2dcontour": [
           {
            "colorbar": {
             "outlinewidth": 0,
             "ticks": ""
            },
            "colorscale": [
             [
              0,
              "#0d0887"
             ],
             [
              0.1111111111111111,
              "#46039f"
             ],
             [
              0.2222222222222222,
              "#7201a8"
             ],
             [
              0.3333333333333333,
              "#9c179e"
             ],
             [
              0.4444444444444444,
              "#bd3786"
             ],
             [
              0.5555555555555556,
              "#d8576b"
             ],
             [
              0.6666666666666666,
              "#ed7953"
             ],
             [
              0.7777777777777778,
              "#fb9f3a"
             ],
             [
              0.8888888888888888,
              "#fdca26"
             ],
             [
              1,
              "#f0f921"
             ]
            ],
            "type": "histogram2dcontour"
           }
          ],
          "mesh3d": [
           {
            "colorbar": {
             "outlinewidth": 0,
             "ticks": ""
            },
            "type": "mesh3d"
           }
          ],
          "parcoords": [
           {
            "line": {
             "colorbar": {
              "outlinewidth": 0,
              "ticks": ""
             }
            },
            "type": "parcoords"
           }
          ],
          "pie": [
           {
            "automargin": true,
            "type": "pie"
           }
          ],
          "scatter": [
           {
            "marker": {
             "colorbar": {
              "outlinewidth": 0,
              "ticks": ""
             }
            },
            "type": "scatter"
           }
          ],
          "scatter3d": [
           {
            "line": {
             "colorbar": {
              "outlinewidth": 0,
              "ticks": ""
             }
            },
            "marker": {
             "colorbar": {
              "outlinewidth": 0,
              "ticks": ""
             }
            },
            "type": "scatter3d"
           }
          ],
          "scattercarpet": [
           {
            "marker": {
             "colorbar": {
              "outlinewidth": 0,
              "ticks": ""
             }
            },
            "type": "scattercarpet"
           }
          ],
          "scattergeo": [
           {
            "marker": {
             "colorbar": {
              "outlinewidth": 0,
              "ticks": ""
             }
            },
            "type": "scattergeo"
           }
          ],
          "scattergl": [
           {
            "marker": {
             "colorbar": {
              "outlinewidth": 0,
              "ticks": ""
             }
            },
            "type": "scattergl"
           }
          ],
          "scattermapbox": [
           {
            "marker": {
             "colorbar": {
              "outlinewidth": 0,
              "ticks": ""
             }
            },
            "type": "scattermapbox"
           }
          ],
          "scatterpolar": [
           {
            "marker": {
             "colorbar": {
              "outlinewidth": 0,
              "ticks": ""
             }
            },
            "type": "scatterpolar"
           }
          ],
          "scatterpolargl": [
           {
            "marker": {
             "colorbar": {
              "outlinewidth": 0,
              "ticks": ""
             }
            },
            "type": "scatterpolargl"
           }
          ],
          "scatterternary": [
           {
            "marker": {
             "colorbar": {
              "outlinewidth": 0,
              "ticks": ""
             }
            },
            "type": "scatterternary"
           }
          ],
          "surface": [
           {
            "colorbar": {
             "outlinewidth": 0,
             "ticks": ""
            },
            "colorscale": [
             [
              0,
              "#0d0887"
             ],
             [
              0.1111111111111111,
              "#46039f"
             ],
             [
              0.2222222222222222,
              "#7201a8"
             ],
             [
              0.3333333333333333,
              "#9c179e"
             ],
             [
              0.4444444444444444,
              "#bd3786"
             ],
             [
              0.5555555555555556,
              "#d8576b"
             ],
             [
              0.6666666666666666,
              "#ed7953"
             ],
             [
              0.7777777777777778,
              "#fb9f3a"
             ],
             [
              0.8888888888888888,
              "#fdca26"
             ],
             [
              1,
              "#f0f921"
             ]
            ],
            "type": "surface"
           }
          ],
          "table": [
           {
            "cells": {
             "fill": {
              "color": "#EBF0F8"
             },
             "line": {
              "color": "white"
             }
            },
            "header": {
             "fill": {
              "color": "#C8D4E3"
             },
             "line": {
              "color": "white"
             }
            },
            "type": "table"
           }
          ]
         },
         "layout": {
          "annotationdefaults": {
           "arrowcolor": "#2a3f5f",
           "arrowhead": 0,
           "arrowwidth": 1
          },
          "coloraxis": {
           "colorbar": {
            "outlinewidth": 0,
            "ticks": ""
           }
          },
          "colorscale": {
           "diverging": [
            [
             0,
             "#8e0152"
            ],
            [
             0.1,
             "#c51b7d"
            ],
            [
             0.2,
             "#de77ae"
            ],
            [
             0.3,
             "#f1b6da"
            ],
            [
             0.4,
             "#fde0ef"
            ],
            [
             0.5,
             "#f7f7f7"
            ],
            [
             0.6,
             "#e6f5d0"
            ],
            [
             0.7,
             "#b8e186"
            ],
            [
             0.8,
             "#7fbc41"
            ],
            [
             0.9,
             "#4d9221"
            ],
            [
             1,
             "#276419"
            ]
           ],
           "sequential": [
            [
             0,
             "#0d0887"
            ],
            [
             0.1111111111111111,
             "#46039f"
            ],
            [
             0.2222222222222222,
             "#7201a8"
            ],
            [
             0.3333333333333333,
             "#9c179e"
            ],
            [
             0.4444444444444444,
             "#bd3786"
            ],
            [
             0.5555555555555556,
             "#d8576b"
            ],
            [
             0.6666666666666666,
             "#ed7953"
            ],
            [
             0.7777777777777778,
             "#fb9f3a"
            ],
            [
             0.8888888888888888,
             "#fdca26"
            ],
            [
             1,
             "#f0f921"
            ]
           ],
           "sequentialminus": [
            [
             0,
             "#0d0887"
            ],
            [
             0.1111111111111111,
             "#46039f"
            ],
            [
             0.2222222222222222,
             "#7201a8"
            ],
            [
             0.3333333333333333,
             "#9c179e"
            ],
            [
             0.4444444444444444,
             "#bd3786"
            ],
            [
             0.5555555555555556,
             "#d8576b"
            ],
            [
             0.6666666666666666,
             "#ed7953"
            ],
            [
             0.7777777777777778,
             "#fb9f3a"
            ],
            [
             0.8888888888888888,
             "#fdca26"
            ],
            [
             1,
             "#f0f921"
            ]
           ]
          },
          "colorway": [
           "#636efa",
           "#EF553B",
           "#00cc96",
           "#ab63fa",
           "#FFA15A",
           "#19d3f3",
           "#FF6692",
           "#B6E880",
           "#FF97FF",
           "#FECB52"
          ],
          "font": {
           "color": "#2a3f5f"
          },
          "geo": {
           "bgcolor": "white",
           "lakecolor": "white",
           "landcolor": "#E5ECF6",
           "showlakes": true,
           "showland": true,
           "subunitcolor": "white"
          },
          "hoverlabel": {
           "align": "left"
          },
          "hovermode": "closest",
          "mapbox": {
           "style": "light"
          },
          "paper_bgcolor": "white",
          "plot_bgcolor": "#E5ECF6",
          "polar": {
           "angularaxis": {
            "gridcolor": "white",
            "linecolor": "white",
            "ticks": ""
           },
           "bgcolor": "#E5ECF6",
           "radialaxis": {
            "gridcolor": "white",
            "linecolor": "white",
            "ticks": ""
           }
          },
          "scene": {
           "xaxis": {
            "backgroundcolor": "#E5ECF6",
            "gridcolor": "white",
            "gridwidth": 2,
            "linecolor": "white",
            "showbackground": true,
            "ticks": "",
            "zerolinecolor": "white"
           },
           "yaxis": {
            "backgroundcolor": "#E5ECF6",
            "gridcolor": "white",
            "gridwidth": 2,
            "linecolor": "white",
            "showbackground": true,
            "ticks": "",
            "zerolinecolor": "white"
           },
           "zaxis": {
            "backgroundcolor": "#E5ECF6",
            "gridcolor": "white",
            "gridwidth": 2,
            "linecolor": "white",
            "showbackground": true,
            "ticks": "",
            "zerolinecolor": "white"
           }
          },
          "shapedefaults": {
           "line": {
            "color": "#2a3f5f"
           }
          },
          "ternary": {
           "aaxis": {
            "gridcolor": "white",
            "linecolor": "white",
            "ticks": ""
           },
           "baxis": {
            "gridcolor": "white",
            "linecolor": "white",
            "ticks": ""
           },
           "bgcolor": "#E5ECF6",
           "caxis": {
            "gridcolor": "white",
            "linecolor": "white",
            "ticks": ""
           }
          },
          "title": {
           "x": 0.05
          },
          "xaxis": {
           "automargin": true,
           "gridcolor": "white",
           "linecolor": "white",
           "ticks": "",
           "title": {
            "standoff": 15
           },
           "zerolinecolor": "white",
           "zerolinewidth": 2
          },
          "yaxis": {
           "automargin": true,
           "gridcolor": "white",
           "linecolor": "white",
           "ticks": "",
           "title": {
            "standoff": 15
           },
           "zerolinecolor": "white",
           "zerolinewidth": 2
          }
         }
        },
        "title": {
         "text": "Title Sentiment"
        },
        "xaxis": {
         "anchor": "y",
         "domain": [
          0,
          1
         ],
         "title": {
          "text": "Date"
         }
        },
        "yaxis": {
         "anchor": "x",
         "domain": [
          0,
          1
         ],
         "range": [
          -1,
          1
         ],
         "title": {
          "text": "Title Sentiment"
         }
        }
       }
      },
      "text/html": [
       "<div>\n",
       "        \n",
       "        \n",
       "            <div id=\"35a6e2d7-e5da-43cf-8124-d9d4746b764d\" class=\"plotly-graph-div\" style=\"height:600px; width:100%;\"></div>\n",
       "            <script type=\"text/javascript\">\n",
       "                require([\"plotly\"], function(Plotly) {\n",
       "                    window.PLOTLYENV=window.PLOTLYENV || {};\n",
       "                    \n",
       "                if (document.getElementById(\"35a6e2d7-e5da-43cf-8124-d9d4746b764d\")) {\n",
       "                    Plotly.newPlot(\n",
       "                        '35a6e2d7-e5da-43cf-8124-d9d4746b764d',\n",
       "                        [{\"hoverlabel\": {\"namelength\": 0}, \"hovertemplate\": \"<b>%{hovertext}</b><br><br>x=%{x}<br>y=%{y}\", \"hovertext\": [\" PG&E: Wired to Fail \", \" Cyber Daily Year Ahead: CISOs, Who Is Your Boss? \", \" CISOs Emerge From CIOs\\u2019 Shadow \", \" The Newest Trend in Holiday Gifting? Old Stuff \", \" Tech, Media & Telecom Roundup: Market Talk \", \" Cyber Daily: Goodbye, 2019\\u2014A Year of Security Angst and Innovation \", \" The Tricky Role of the CEO in a New Era of Social Responsibility \", \" Virtual Travel Could Change the World\\u2014If It Gets Off the Ground \", \" VC Daily: Rocky Mountains Lure Investors, Startups; Elder Care Startup Bet; Genius-Google Battle Over Lyrics \", \" Risk Managers Grapple With Potential Downsides of AI \", \" The Generational Divide in Holiday Shopping \", \" Data and Deregulation Fuel the Global Fintech Boom \", \" Brussels Report: The Push for Digital Sovereignty and Local Champions \", \" New Stanford Hospital Takes Holistic Approach to Technology \", \" Colorado Driver\\u2019s Licenses Go Digital \", \" Kimberly-Clark Switches Major Ad Duties From WPP to Accenture Interactive \", \" Volkswagen to Test Quantum Navigation App in Real Traffic \", \" The Business Roundtable\\u2019s Model of Capitalism Does Pay Off \", \" New York City Companies Need More Cybersecurity Workers, Survey Finds \", \" U.S. Companies Advised to Prepare for Multiple Benchmark Rates in Transition from Libor \", \" Organizations Identify a Value Framework for Blockchain \", \" The Worlds That AI Might Create \", \" More Deals, at Higher Valuations, for Business-Software Makers \", \" AI, Privacy Laws to Drive Data-Breach Costs Higher \", \" Retailers Get Another Blow: Hand-Me-Downs \", \" Cyber Daily: Security Problems Rack Up Trillions in Costs \", \" Cyber Daily: Making Culture Change Stick; Navy to Reform Security Practices; Dunkin\\u2019 Hack Sparks Suit \", \" Old-Line Industries Struggle to Prioritize Cybersecurity \", \" Corporate Boards Face Challenges in Overseeing AI \", \" Lowe\\u2019s Goes DIY on Software Development \", \" Sharp Questions Can Help Boards Oversee Cybersecurity \", \" Cyber Daily: Boards Brush Up on Cybersecurity; A War Over 5G; Google Gets a Privacy Win in Europe \", \" Corporate Tech Spending Helps Lift U.S. Economy \", \" Among Today\\u2019s Most Prized Leadership Qualities: Playing Nicely \", \" Mario Draghi\\u2019s Legacy Remains Contested; Strong Dollar Prompts Speculation of Trump Intervention \", \" Companies Slow to Move Away From Libor \", \" How to Build an AI Ethics Committee \", \" Airbus Harnessing AI in Bid to Save Millions on Finance Tasks \", \" PE Daily: Minnesota Pledges $600M | Riverbed\\u2019s Revenue Drops | Stopping WeWork\\u2019s Red Ink \", \" Cyber Daily: Accenture Faces Legal Action in Marriott Hack; Black Hat\\u2019s Own Defenses; State Farm Breach; Potential FBI-Facebook Clash \", \" Accenture Faces Lawsuit Over Marriott Data Breach \", \" Cyber Daily: Capital One Explanation of Its Encryption Steps Sparks Questions Among Security Experts \", \" Accenture Pushes Deeper Into Quantum Computing \", \" Can\\u2019t Find AI Professionals? Train Them. \", \" Three Hours of Work a Day? You\\u2019re Not Fooling Anyone. \", \" Cyber Daily: Security Cleanup Costs Continue to Mount, Especially From Pernicious Insider Attacks \", \" Cybercrime Costs Keep Rising \", \" Financial Services Roundup: Market Talk \", \" Accenture Picks Julie Sweet as Chief Executive \", \" Stocks to Watch: Milacron Holdings, Hookipa Pharma, PNM Resources, Snap \", \" Amazon to Retrain a Third of Its U.S. Workforce \", \" P&G CIO Says He Wants to Hire More Women Coders \", \" AI Helps Small Medical-Device Makers Punch Above Their Weight \", \" Stocks to Watch: Magellan Health, Herman Miller, KB Home, Rite Aid, Walgreens Boots Alliance and More \", \" Capgemini to Buy Altran in \\u20ac3.6 Billion Deal \", \" Accenture Retrains Its Workers as Technology Upends Their Jobs \", \" VC Daily: Venture\\u2019s Facebook Crypto Bet; Slack\\u2019s VCs Expect Big Returns \", \" Consulting Firms Make Inroads Into the Business of Ad Agencies \", \" Ad Creators Get Inspiration From Big Data \", \" Facebook to Boost Ad Spending as It Tries to Restore Reputation \", \" When Chatbots Falter, Humans Steer Them the Right Way \", \" Technology Could Slow Pace of New Accounting Rules, Regulators Say \", \" Going From Big Fish to Small Fish: How Executives Can Deal With the Change \", \" U.S. Executives Recruited to Run PE-Backed Tech Businesses \", \" Companies Slow to Adopt Libor Replacement \", \" Injecting Ethics Into AI Would Benefit From Dual Approach, Researchers Say \", \" Toshiba\\u2019s Board Move Will Give Foreigners a Greater Voice \", \" No Branch, No Problem. Citigroup Bets Big on Digital Banking. \", \" How Businesses Can Avoid Getting Stuck With the Wrong AI Consultant \", \" Interpublic Says Health Care, Consumer-Goods, Financial Marketers Fueled First-Quarter Growth \", \" TV Programmers Unveil Plan for OpenAP Ad Marketplace \", \" Real Time Economics: The Resilient American Economy \", \" European Equities Market Talk Roundup \", \" Why Companies Are Failing at Reskilling \", \" Tiger\\u2019s Back, and That\\u2019s Good News for Other Troubled Brands \", \" Ethical and Legal Concerns Give Rise to AI Antibias Tools \", \" Amid Ad-Industry M&A, Omnicom Says It Isn\\u2019t Looking for Big Deals \", \" Tiger Woods Rewards Nike\\u2019s Loyalty With Masters Win \", \" Publicis Agrees to Acquire Alliance Data\\u2019s Epsilon Unit for About $4.4 Billion \", \" What\\u2019s Been Lacking at Google\\u2019s Cloud? Enough Humans \", \" Accenture Acquires Hot Ad Agency Droga5, Raising Its Creative Profile \", \" Energy & Utilities Roundup: Market Talk \", \" Auto & Transport Roundup: Market Talk \", \" Medicare and Medicaid Agency Bets AI Can Reduce Hospital Admissions \", \" Stocks to Watch: Lululemon, Facebook, Five Below, PVH, Quantenna, H.B. Fuller, World Wrestling Entertainment, Accenture \", \" VC Daily: Washington Refocuses on Health Care | Dilemma for Price-Conscious VCs \", \" VC Daily: Peloton Faces a Music Rap | Dueling Models at Stitch Fix and Glossier \", \" U.S. Push for AI Supremacy Will Drive Demand for Accountability, Trust \", \" Cyber Daily: Algorithms to Keep Autonomous Devices Safe; Cyber Hiring Slog \", \" How Algorithms Help Counter Attacks on Drones, Robots and Self-Driving Cars \", \" Chinese Hackers Target Universities in Pursuit of Maritime Military Secrets \", \" Need for AI Ethicists Becomes Clearer as Companies Admit Tech\\u2019s Flaws \", \" Safeway Expands Number of AI-Equipped Health Clinics \", \" It Shook the Food Business by Snagging Burger King, Kraft and Heinz. Now 3G Is Reeling. \", \" VC Daily: Who\\u2019s Ride-Hailing\\u2019s First to Exit? | Keith Rabois Jumps to Founders Fund \", \" Cyber Daily: Spending Benchmarks; Judging Huawei; Few Female CISOs \", \" WSJ Tax Guide 2019: What Investors Need to Know \", \" Cyber Daily: Carmakers Cope with New Cyber Threats; CISOs Overstressed, Study Says \", \" Connected Cars, Driver Data Make Auto Industry a Cyber Target \", \" United Technologies CDO Backs Effort to Train Female Coders \", \" Pernod Hits Back at Activist Elliott as Stock Hits Record High \", \" Pierre Nanterme Pushed Accenture to Rethink Its Mission in Consulting \", \" Recognizing the Value of Disabled Workers \", \" Yum Brands Opens Search for New CFO \", \" VC Daily: Getting a Stake in \\u2018Ghost\\u2019 Kitchens | $1 Billion Stolen in Crypto Hacking \", \" The Catch-22 of Globalization \", \" After a Strong 2018 for Retail Sales, Caution Flags Pop Up \", \" America\\u2019s Electric Grid Has a Vulnerable Back Door\\u2014and Russia Walked Through It \"], \"legendgroup\": \"\", \"marker\": {\"color\": \"#636efa\", \"symbol\": \"circle\"}, \"mode\": \"markers\", \"name\": \"\", \"showlegend\": false, \"type\": \"scatter\", \"x\": [\"2019-12-28\", \"2019-12-24\", \"2019-12-24\", \"2019-12-21\", \"2019-07-12\", \"2019-12-20\", \"2019-12-12\", \"2019-12-12\", \"2019-12-04\", \"2019-12-02\", \"2019-11-25\", \"2019-11-22\", \"2019-11-20\", \"2019-11-16\", \"2019-11-12\", \"2019-11-11\", \"2019-10-31\", \"2019-10-27\", \"2019-10-24\", \"2019-10-22\", \"2019-10-18\", \"2019-10-13\", \"2019-10-02\", \"2019-10-02\", \"2019-10-02\", \"2019-10-02\", \"2019-09-27\", \"2019-09-27\", \"2019-09-26\", \"2019-09-25\", \"2019-09-25\", \"2019-09-25\", \"2019-09-24\", \"2019-09-18\", \"2019-09-16\", \"2019-09-15\", \"2019-08-30\", \"2019-08-19\", \"2019-08-16\", \"2019-08-09\", \"2019-08-09\", \"2019-08-02\", \"2019-07-31\", \"2019-07-24\", \"2019-07-19\", \"2019-07-16\", \"2019-07-16\", \"2019-07-12\", \"2019-07-12\", \"2019-07-12\", \"2019-07-11\", \"2019-07-10\", \"2019-07-03\", \"2019-06-27\", \"2019-06-25\", \"2019-06-23\", \"2019-06-19\", \"2019-06-17\", \"2019-06-17\", \"2019-06-14\", \"2019-06-12\", \"2019-06-11\", \"2019-05-29\", \"2019-05-22\", \"2019-05-20\", \"2019-05-16\", \"2019-05-13\", \"2019-05-12\", \"2019-05-03\", \"2019-04-26\", \"2019-04-25\", \"2019-04-23\", \"2019-04-23\", \"2019-04-19\", \"2019-04-19\", \"2019-04-18\", \"2019-04-16\", \"2019-04-15\", \"2019-04-14\", \"2019-04-08\", \"2019-04-03\", \"2019-04-03\", \"2019-04-02\", \"2019-04-01\", \"2019-03-28\", \"2019-03-27\", \"2019-03-20\", \"2019-03-20\", \"2019-03-15\", \"2019-03-15\", \"2019-03-05\", \"2019-02-28\", \"2019-02-26\", \"2019-02-22\", \"2019-02-21\", \"2019-02-19\", \"2019-02-15\", \"2019-02-15\", \"2019-02-14\", \"2019-02-12\", \"2019-02-07\", \"2019-02-06\", \"2019-02-04\", \"2019-01-28\", \"2019-01-28\", \"2019-01-21\", \"2019-01-16\", \"2019-01-10\"], \"xaxis\": \"x\", \"y\": [-0.5, 0.0, 0.0, 0.1, 0.0, 0.0, 0.08484848484848484, 0.0, 0.0, 0.0, 0.0, 0.0, 0.0, 0.13636363636363635, 0.0, 0.0625, 0.2, 0.0, 0.3181818181818182, 0.0, 0.0, 0.0, 0.375, 0.25, 0.0, 0.0, 0.0, 0.0, 0.0, 0.0, -0.125, 0.4, 0.0, 0.55, 0.4333333333333333, -0.30000000000000004, 0.0, 0.0, 0.0, 0.12222222222222223, 0.0, 0.0, 0.0, 0.0, 0.0, 0.0, 0.0, 0.0, 0.35, 0.0, 0.0, 0.35, -0.125, 0.5, 0.0, 0.0, 0.0, 0.0, 0.0, -0.1, 0.2857142857142857, -0.08181818181818185, -0.125, 0.0, -0.30000000000000004, 0.0, 0.5, 0.0, -0.5, 0.0, 0.0, 0.1, 0.0, 0.0, 0.01874999999999999, 0.2, 0.0, 0.8, 0.0, 0.0, 0.375, 0.0, 0.0, 0.0, 0.0, 0.0, 0.0, 0.0, 0.3, 0.0, -0.05, 0.0, 0.0, 0.0, 0.125, -0.06666666666666667, 0.0, 0.06818181818181818, 0.0, 0.0, 0.08, 0.0, -0.2, 0.13636363636363635, 0.0, 0.0, 0.4333333333333333, -0.25], \"yaxis\": \"y\"}],\n",
       "                        {\"font\": {\"color\": \"#d62728\", \"family\": \"Times New Roman, monospace\", \"size\": 18}, \"height\": 600, \"legend\": {\"tracegroupgap\": 0}, \"margin\": {\"t\": 60}, \"template\": {\"data\": {\"bar\": [{\"error_x\": {\"color\": \"#2a3f5f\"}, \"error_y\": {\"color\": \"#2a3f5f\"}, \"marker\": {\"line\": {\"color\": \"#E5ECF6\", \"width\": 0.5}}, \"type\": \"bar\"}], \"barpolar\": [{\"marker\": {\"line\": {\"color\": \"#E5ECF6\", \"width\": 0.5}}, \"type\": \"barpolar\"}], \"carpet\": [{\"aaxis\": {\"endlinecolor\": \"#2a3f5f\", \"gridcolor\": \"white\", \"linecolor\": \"white\", \"minorgridcolor\": \"white\", \"startlinecolor\": \"#2a3f5f\"}, \"baxis\": {\"endlinecolor\": \"#2a3f5f\", \"gridcolor\": \"white\", \"linecolor\": \"white\", \"minorgridcolor\": \"white\", \"startlinecolor\": \"#2a3f5f\"}, \"type\": \"carpet\"}], \"choropleth\": [{\"colorbar\": {\"outlinewidth\": 0, \"ticks\": \"\"}, \"type\": \"choropleth\"}], \"contour\": [{\"colorbar\": {\"outlinewidth\": 0, \"ticks\": \"\"}, \"colorscale\": [[0.0, \"#0d0887\"], [0.1111111111111111, \"#46039f\"], [0.2222222222222222, \"#7201a8\"], [0.3333333333333333, \"#9c179e\"], [0.4444444444444444, \"#bd3786\"], [0.5555555555555556, \"#d8576b\"], [0.6666666666666666, \"#ed7953\"], [0.7777777777777778, \"#fb9f3a\"], [0.8888888888888888, \"#fdca26\"], [1.0, \"#f0f921\"]], \"type\": \"contour\"}], \"contourcarpet\": [{\"colorbar\": {\"outlinewidth\": 0, \"ticks\": \"\"}, \"type\": \"contourcarpet\"}], \"heatmap\": [{\"colorbar\": {\"outlinewidth\": 0, \"ticks\": \"\"}, \"colorscale\": [[0.0, \"#0d0887\"], [0.1111111111111111, \"#46039f\"], [0.2222222222222222, \"#7201a8\"], [0.3333333333333333, \"#9c179e\"], [0.4444444444444444, \"#bd3786\"], [0.5555555555555556, \"#d8576b\"], [0.6666666666666666, \"#ed7953\"], [0.7777777777777778, \"#fb9f3a\"], [0.8888888888888888, \"#fdca26\"], [1.0, \"#f0f921\"]], \"type\": \"heatmap\"}], \"heatmapgl\": [{\"colorbar\": {\"outlinewidth\": 0, \"ticks\": \"\"}, \"colorscale\": [[0.0, \"#0d0887\"], [0.1111111111111111, \"#46039f\"], [0.2222222222222222, \"#7201a8\"], [0.3333333333333333, \"#9c179e\"], [0.4444444444444444, \"#bd3786\"], [0.5555555555555556, \"#d8576b\"], [0.6666666666666666, \"#ed7953\"], [0.7777777777777778, \"#fb9f3a\"], [0.8888888888888888, \"#fdca26\"], [1.0, \"#f0f921\"]], \"type\": \"heatmapgl\"}], \"histogram\": [{\"marker\": {\"colorbar\": {\"outlinewidth\": 0, \"ticks\": \"\"}}, \"type\": \"histogram\"}], \"histogram2d\": [{\"colorbar\": {\"outlinewidth\": 0, \"ticks\": \"\"}, \"colorscale\": [[0.0, \"#0d0887\"], [0.1111111111111111, \"#46039f\"], [0.2222222222222222, \"#7201a8\"], [0.3333333333333333, \"#9c179e\"], [0.4444444444444444, \"#bd3786\"], [0.5555555555555556, \"#d8576b\"], [0.6666666666666666, \"#ed7953\"], [0.7777777777777778, \"#fb9f3a\"], [0.8888888888888888, \"#fdca26\"], [1.0, \"#f0f921\"]], \"type\": \"histogram2d\"}], \"histogram2dcontour\": [{\"colorbar\": {\"outlinewidth\": 0, \"ticks\": \"\"}, \"colorscale\": [[0.0, \"#0d0887\"], [0.1111111111111111, \"#46039f\"], [0.2222222222222222, \"#7201a8\"], [0.3333333333333333, \"#9c179e\"], [0.4444444444444444, \"#bd3786\"], [0.5555555555555556, \"#d8576b\"], [0.6666666666666666, \"#ed7953\"], [0.7777777777777778, \"#fb9f3a\"], [0.8888888888888888, \"#fdca26\"], [1.0, \"#f0f921\"]], \"type\": \"histogram2dcontour\"}], \"mesh3d\": [{\"colorbar\": {\"outlinewidth\": 0, \"ticks\": \"\"}, \"type\": \"mesh3d\"}], \"parcoords\": [{\"line\": {\"colorbar\": {\"outlinewidth\": 0, \"ticks\": \"\"}}, \"type\": \"parcoords\"}], \"pie\": [{\"automargin\": true, \"type\": \"pie\"}], \"scatter\": [{\"marker\": {\"colorbar\": {\"outlinewidth\": 0, \"ticks\": \"\"}}, \"type\": \"scatter\"}], \"scatter3d\": [{\"line\": {\"colorbar\": {\"outlinewidth\": 0, \"ticks\": \"\"}}, \"marker\": {\"colorbar\": {\"outlinewidth\": 0, \"ticks\": \"\"}}, \"type\": \"scatter3d\"}], \"scattercarpet\": [{\"marker\": {\"colorbar\": {\"outlinewidth\": 0, \"ticks\": \"\"}}, \"type\": \"scattercarpet\"}], \"scattergeo\": [{\"marker\": {\"colorbar\": {\"outlinewidth\": 0, \"ticks\": \"\"}}, \"type\": \"scattergeo\"}], \"scattergl\": [{\"marker\": {\"colorbar\": {\"outlinewidth\": 0, \"ticks\": \"\"}}, \"type\": \"scattergl\"}], \"scattermapbox\": [{\"marker\": {\"colorbar\": {\"outlinewidth\": 0, \"ticks\": \"\"}}, \"type\": \"scattermapbox\"}], \"scatterpolar\": [{\"marker\": {\"colorbar\": {\"outlinewidth\": 0, \"ticks\": \"\"}}, \"type\": \"scatterpolar\"}], \"scatterpolargl\": [{\"marker\": {\"colorbar\": {\"outlinewidth\": 0, \"ticks\": \"\"}}, \"type\": \"scatterpolargl\"}], \"scatterternary\": [{\"marker\": {\"colorbar\": {\"outlinewidth\": 0, \"ticks\": \"\"}}, \"type\": \"scatterternary\"}], \"surface\": [{\"colorbar\": {\"outlinewidth\": 0, \"ticks\": \"\"}, \"colorscale\": [[0.0, \"#0d0887\"], [0.1111111111111111, \"#46039f\"], [0.2222222222222222, \"#7201a8\"], [0.3333333333333333, \"#9c179e\"], [0.4444444444444444, \"#bd3786\"], [0.5555555555555556, \"#d8576b\"], [0.6666666666666666, \"#ed7953\"], [0.7777777777777778, \"#fb9f3a\"], [0.8888888888888888, \"#fdca26\"], [1.0, \"#f0f921\"]], \"type\": \"surface\"}], \"table\": [{\"cells\": {\"fill\": {\"color\": \"#EBF0F8\"}, \"line\": {\"color\": \"white\"}}, \"header\": {\"fill\": {\"color\": \"#C8D4E3\"}, \"line\": {\"color\": \"white\"}}, \"type\": \"table\"}]}, \"layout\": {\"annotationdefaults\": {\"arrowcolor\": \"#2a3f5f\", \"arrowhead\": 0, \"arrowwidth\": 1}, \"coloraxis\": {\"colorbar\": {\"outlinewidth\": 0, \"ticks\": \"\"}}, \"colorscale\": {\"diverging\": [[0, \"#8e0152\"], [0.1, \"#c51b7d\"], [0.2, \"#de77ae\"], [0.3, \"#f1b6da\"], [0.4, \"#fde0ef\"], [0.5, \"#f7f7f7\"], [0.6, \"#e6f5d0\"], [0.7, \"#b8e186\"], [0.8, \"#7fbc41\"], [0.9, \"#4d9221\"], [1, \"#276419\"]], \"sequential\": [[0.0, \"#0d0887\"], [0.1111111111111111, \"#46039f\"], [0.2222222222222222, \"#7201a8\"], [0.3333333333333333, \"#9c179e\"], [0.4444444444444444, \"#bd3786\"], [0.5555555555555556, \"#d8576b\"], [0.6666666666666666, \"#ed7953\"], [0.7777777777777778, \"#fb9f3a\"], [0.8888888888888888, \"#fdca26\"], [1.0, \"#f0f921\"]], \"sequentialminus\": [[0.0, \"#0d0887\"], [0.1111111111111111, \"#46039f\"], [0.2222222222222222, \"#7201a8\"], [0.3333333333333333, \"#9c179e\"], [0.4444444444444444, \"#bd3786\"], [0.5555555555555556, \"#d8576b\"], [0.6666666666666666, \"#ed7953\"], [0.7777777777777778, \"#fb9f3a\"], [0.8888888888888888, \"#fdca26\"], [1.0, \"#f0f921\"]]}, \"colorway\": [\"#636efa\", \"#EF553B\", \"#00cc96\", \"#ab63fa\", \"#FFA15A\", \"#19d3f3\", \"#FF6692\", \"#B6E880\", \"#FF97FF\", \"#FECB52\"], \"font\": {\"color\": \"#2a3f5f\"}, \"geo\": {\"bgcolor\": \"white\", \"lakecolor\": \"white\", \"landcolor\": \"#E5ECF6\", \"showlakes\": true, \"showland\": true, \"subunitcolor\": \"white\"}, \"hoverlabel\": {\"align\": \"left\"}, \"hovermode\": \"closest\", \"mapbox\": {\"style\": \"light\"}, \"paper_bgcolor\": \"white\", \"plot_bgcolor\": \"#E5ECF6\", \"polar\": {\"angularaxis\": {\"gridcolor\": \"white\", \"linecolor\": \"white\", \"ticks\": \"\"}, \"bgcolor\": \"#E5ECF6\", \"radialaxis\": {\"gridcolor\": \"white\", \"linecolor\": \"white\", \"ticks\": \"\"}}, \"scene\": {\"xaxis\": {\"backgroundcolor\": \"#E5ECF6\", \"gridcolor\": \"white\", \"gridwidth\": 2, \"linecolor\": \"white\", \"showbackground\": true, \"ticks\": \"\", \"zerolinecolor\": \"white\"}, \"yaxis\": {\"backgroundcolor\": \"#E5ECF6\", \"gridcolor\": \"white\", \"gridwidth\": 2, \"linecolor\": \"white\", \"showbackground\": true, \"ticks\": \"\", \"zerolinecolor\": \"white\"}, \"zaxis\": {\"backgroundcolor\": \"#E5ECF6\", \"gridcolor\": \"white\", \"gridwidth\": 2, \"linecolor\": \"white\", \"showbackground\": true, \"ticks\": \"\", \"zerolinecolor\": \"white\"}}, \"shapedefaults\": {\"line\": {\"color\": \"#2a3f5f\"}}, \"ternary\": {\"aaxis\": {\"gridcolor\": \"white\", \"linecolor\": \"white\", \"ticks\": \"\"}, \"baxis\": {\"gridcolor\": \"white\", \"linecolor\": \"white\", \"ticks\": \"\"}, \"bgcolor\": \"#E5ECF6\", \"caxis\": {\"gridcolor\": \"white\", \"linecolor\": \"white\", \"ticks\": \"\"}}, \"title\": {\"x\": 0.05}, \"xaxis\": {\"automargin\": true, \"gridcolor\": \"white\", \"linecolor\": \"white\", \"ticks\": \"\", \"title\": {\"standoff\": 15}, \"zerolinecolor\": \"white\", \"zerolinewidth\": 2}, \"yaxis\": {\"automargin\": true, \"gridcolor\": \"white\", \"linecolor\": \"white\", \"ticks\": \"\", \"title\": {\"standoff\": 15}, \"zerolinecolor\": \"white\", \"zerolinewidth\": 2}}}, \"title\": {\"text\": \"Title Sentiment\"}, \"xaxis\": {\"anchor\": \"y\", \"domain\": [0.0, 1.0], \"title\": {\"text\": \"Date\"}}, \"yaxis\": {\"anchor\": \"x\", \"domain\": [0.0, 1.0], \"range\": [-1, 1], \"title\": {\"text\": \"Title Sentiment\"}}},\n",
       "                        {\"responsive\": true}\n",
       "                    ).then(function(){\n",
       "                            \n",
       "var gd = document.getElementById('35a6e2d7-e5da-43cf-8124-d9d4746b764d');\n",
       "var x = new MutationObserver(function (mutations, observer) {{\n",
       "        var display = window.getComputedStyle(gd).display;\n",
       "        if (!display || display === 'none') {{\n",
       "            console.log([gd, 'removed!']);\n",
       "            Plotly.purge(gd);\n",
       "            observer.disconnect();\n",
       "        }}\n",
       "}});\n",
       "\n",
       "// Listen for the removal of the full notebook cells\n",
       "var notebookContainer = gd.closest('#notebook-container');\n",
       "if (notebookContainer) {{\n",
       "    x.observe(notebookContainer, {childList: true});\n",
       "}}\n",
       "\n",
       "// Listen for the clearing of the current output cell\n",
       "var outputEl = gd.closest('.output');\n",
       "if (outputEl) {{\n",
       "    x.observe(outputEl, {childList: true});\n",
       "}}\n",
       "\n",
       "                        })\n",
       "                };\n",
       "                });\n",
       "            </script>\n",
       "        </div>"
      ]
     },
     "metadata": {},
     "output_type": "display_data"
    },
    {
     "name": "stdout",
     "output_type": "stream",
     "text": [
      "In 108 articles, 28 are positive, 13 are negative, and 67 are neutral.  0 articles are being updated.\n"
     ]
    }
   ],
   "source": [
    "bias_report()  "
   ]
  },
  {
   "cell_type": "markdown",
   "metadata": {},
   "source": [
    "Below is the code to an older iteration of the webscrapper. It only works for WSJ's Quick Search, which means that its range is limited to around 1 year before today, and even less for some other densely populated topics. However, it does work for the search items in the Quick Search. You can try it out as well if you'd like to."
   ]
  },
  {
   "cell_type": "code",
   "execution_count": null,
   "metadata": {},
   "outputs": [],
   "source": [
    "def wsj_bias_old(url_temp,keyword,time1,time2,pagenum_str):\n",
    "    import urllib.request\n",
    "    import bs4\n",
    "    import lxml\n",
    "    import re\n",
    "    import datetime\n",
    "    import pprint\n",
    "        \n",
    "    time1_d=datetime.datetime(int(time1[0:4]),int(time1[5:7]),int(time1[8:]))\n",
    "    time2_d=datetime.datetime(int(time2[0:4]),int(time2[5:7]),int(time2[8:]))\n",
    "    \n",
    "    wsj={}\n",
    "    wsj_summary={}\n",
    "    today=datetime.datetime.now()\n",
    "    final_date={}\n",
    "    final_summary={}\n",
    "    \n",
    "    answer='yes'\n",
    "    \n",
    "    url_wsj = urllib.request.urlopen(url_temp)\n",
    "    soup_wsj = bs4.BeautifulSoup(url_wsj, 'lxml', from_encoding='utf-8')\n",
    "    headline_container_wsj=soup_wsj.findAll('div',attrs={\"class\":\"headline-container\"})\n",
    "\n",
    "\n",
    "    for k in headline_container_wsj:\n",
    "        title=k.find('h3',attrs={\"class\":\"headline\"})\n",
    "        title=title.text\n",
    "        date=k.find('time',attrs={\"class\":\"date-stamp-container highlight\",\"class\":\"date-stamp-container\"})\n",
    "        date=date.text\n",
    "        summary=k.find('div',attrs={\"class\":\"summary-container\"})\n",
    "        wsj[title]=date\n",
    "        try:\n",
    "            summary=summary.text\n",
    "            wsj_summary[title]=summary\n",
    "        except:\n",
    "            wsj_summary[title]='n/a'\n",
    "\n",
    "#find containers and search in the containers \n",
    "#how to make sure this doesnt yield unnecessary stuff\n",
    "    \n",
    "    keyview_wsj=wsj.keys\n",
    "    \n",
    "    for k in keyview_wsj():\n",
    "        val=wsj.get(k)\n",
    "        \n",
    "        if 'Just' in val:\n",
    "            val=val[5:]\n",
    "    \n",
    "        if 'Jan.' in val:\n",
    "            val=val.replace('Jan.','January')\n",
    "        elif 'Feb.' in val:\n",
    "            val=val.replace('Feb.','February')\n",
    "        elif 'Mar.' in val:\n",
    "            val=val.replace('Mar.','March')    \n",
    "        elif 'Apr.' in val:\n",
    "            val=val.replace('Apr.','April')\n",
    "        elif 'Jun.' in val:\n",
    "            val=val.replace('Jun.','June')\n",
    "        elif 'Jul.' in val:\n",
    "            val=val.replace('Jul.','July')\n",
    "        elif 'Aug.' in val: \n",
    "            val=val.replace('Aug.','August')\n",
    "        elif 'Sep.' in val:    \n",
    "            val=val.replace('Sep.','September')\n",
    "        elif 'Oct.' in val:  \n",
    "            val=val.replace('Oct.','October')\n",
    "        elif 'Nov.' in val: \n",
    "            val=val.replace('Nov.','November')\n",
    "        elif 'Dec.' in val: \n",
    "            val=val.replace('Dec.','December')\n",
    "            \n",
    "    \n",
    "        if 'hour' in val:\n",
    "            number=''\n",
    "            for m in val:\n",
    "                if re.match('\\d',m):\n",
    "                    number=number+m\n",
    "            number=int(number)\n",
    "            new_date= today + datetime.timedelta(hours = -number)\n",
    "            wsj[k]=new_date.strftime('%Y-%m-%d')\n",
    "            val=datetime.datetime.strptime(wsj[k], '%Y-%m-%d')\n",
    "            \n",
    "        elif 'min' in val:\n",
    "            number=''\n",
    "            for n in val:\n",
    "                if re.match('\\d',n):\n",
    "                    number=number+n\n",
    "            number=int(number)\n",
    "            new_date= today + datetime.timedelta(minutes = -number)\n",
    "            wsj[k]=new_date.strftime('%Y-%m-%d')\n",
    "            val=datetime.datetime.strptime(wsj[k], '%Y-%m-%d')\n",
    "\n",
    "        \n",
    "        else:\n",
    "            val=val[0:-2]\n",
    "            val=datetime.datetime.strptime(val, '%B %d, %Y %I:%M %p ') \n",
    "            wsj[k]=val.strftime('%Y-%m-%d')\n",
    "            val=datetime.datetime.strptime(wsj[k], '%Y-%m-%d')  #change back to compare with datetime objects        \n",
    "        \n",
    "        if time1_d<=val<=time2_d:   #check if article is in date range, add to pile if it is\n",
    "            final_date[k]=wsj[k]\n",
    "            summary_value=wsj_summary[k]\n",
    "            final_summary[k]=summary_value\n",
    "            \n",
    "        if val<time1_d:             #if we have passed the 'start' date we have gone too far back\n",
    "            answer='no'             #stop the function\n",
    "\n",
    "    error_prompt=len(headline_container_wsj) #if there is nothing on the page, this means that there are no more search results, and the function should stop. \n",
    "    \n",
    "    if error_prompt is 0:\n",
    "        answer='no'        \n",
    "    \n",
    "    if answer is 'yes':\n",
    "        pagenum=int(pagenum_str)\n",
    "        pagenum=pagenum+1\n",
    "        pagenum_str=str(pagenum)\n",
    "        url_temp='https://www.wsj.com/search/term.html?KEYWORDS='+keyword+'&mod=searchresults_viewallresults&page='+pagenum_str\n",
    "        add_date,add_summary,answer=wsj_bias(url_temp,keyword,time1,time2,pagenum_str,loopmax) \n",
    "            \n",
    "        final_date={**final_date, **add_date}  ####### combine dicts\n",
    "        final_summary={**final_summary, **add_summary}\n",
    "    \n",
    "        \n",
    "    return final_date,final_summary, answer\n",
    "                    \n",
    "    #return final_date, final_summary, answer yields an answer to whether you should keep going or not "
   ]
  },
  {
   "cell_type": "code",
   "execution_count": null,
   "metadata": {},
   "outputs": [],
   "source": [
    "def bias_report_old():\n",
    "    print('Welcome to the Bias Report.')\n",
    "    newspaper=input('Enter Newspaper Name:')\n",
    "    keyword=input('Enter a Keyword:')\n",
    "    time1=input('Enter START date (YYYY/MM/DD):')\n",
    "    time2=input('Enter END date (YYYY/MM/DD):')\n",
    "    if ('wall street'in newspaper) or ('Wall Street' in newspaper):\n",
    "        url_temp='https://www.wsj.com/search/term.html?KEYWORDS='+keyword+'&min-date='+time1+'&max-date='+time2+'&daysback=4y&isAdvanced=true&andor=AND&sort=date-desc&source=wsjarticle,wsjblogs,wsjvideo,interactivemedia,sitesearch,wsjpro&page='+'1'\n",
    "        dict_title,dict_summary,answer=wsj_bias_old(url_temp,keyword,time1,time2,'1')\n",
    "        sentiment,sentiment_titles,sentiment_summaries=sentiment_analyzer(dict_summary)\n",
    "        graph_bias(sentiment,sentiment_titles,sentiment_summaries,dict_title)\n",
    "    else:\n",
    "        print('Please input \"wall street journal\" or \"Wall Street Journal\" as the newspaper. If confused, look at instructions.')\n",
    "        \n",
    "        "
   ]
  }
 ],
 "metadata": {
  "kernelspec": {
   "display_name": "Python 3",
   "language": "python",
   "name": "python3"
  },
  "language_info": {
   "codemirror_mode": {
    "name": "ipython",
    "version": 3
   },
   "file_extension": ".py",
   "mimetype": "text/x-python",
   "name": "python",
   "nbconvert_exporter": "python",
   "pygments_lexer": "ipython3",
   "version": "3.7.4"
  }
 },
 "nbformat": 4,
 "nbformat_minor": 2
}

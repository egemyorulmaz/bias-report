{
 "cells": [
  {
   "cell_type": "markdown",
   "metadata": {},
   "source": [
    "                                        README:\n",
    "\n",
    "                                      Instructions:\n",
    "\n",
    "1) For the first prompt, please respond ‘wall street journal’ or ‘Wall Street Journal’.\n",
    "\n",
    "2) For the second prompt, please input a keyword you are interested in. \n",
    "\n",
    "3) For the third prompt, please enter a START date in the form of YYYY-MM-DD.\n",
    "\n",
    "4) For the fourth prompt, please enter a END date in the form of YYYY-MM-DD.\n",
    "\n",
    "5) For the fifth prompt, asked after the dataframes are computed, please answer ‘A’, ‘B’, or ‘C’ according to the prompt. \n",
    "\n",
    "\n",
    "Code does not account for duplicates, or the re-publication of the same article in different subsections (ex. Travel, Business, etc.).\n",
    "\n"
   ]
  },
  {
   "cell_type": "code",
   "execution_count": 1,
   "metadata": {},
   "outputs": [],
   "source": [
    "import urllib.request\n",
    "import bs4\n",
    "import lxml\n",
    "import re\n",
    "import datetime\n",
    "import pprint\n",
    "from textblob import TextBlob\n",
    "import pandas as pd\n",
    "import seaborn\n",
    "import plotly.express as px"
   ]
  },
  {
   "cell_type": "code",
   "execution_count": 2,
   "metadata": {},
   "outputs": [],
   "source": [
    "def bias_report():\n",
    "    print('Welcome to the Bias Report.')\n",
    "    newspaper=input('Enter Newspaper Name:')   \n",
    "    keyword=input('Enter a Keyword:')\n",
    "    time1=input('Enter START date (YYYY/MM/DD):')\n",
    "    time2=input('Enter END date (YYYY/MM/DD):')\n",
    "    if ('wall street'in newspaper) or ('Wall Street' in newspaper):\n",
    "        url_temp='https://www.wsj.com/search/term.html?KEYWORDS='+keyword+'&min-date='+time1+'&max-date='+time2+'&daysback=4y&isAdvanced=true&andor=AND&sort=date-desc&source=wsjarticle,wsjblogs,wsjvideo,interactivemedia,sitesearch,wsjpro&page='+'1'\n",
    "        dict_title,dict_summary,construction,limit=wsj_bias(url_temp,keyword,time1,time2,'1',0,1,100)\n",
    "        sentiment,sentiment_titles,sentiment_summaries=sentiment_analyzer(dict_summary)\n",
    "        graph_bias(sentiment,sentiment_titles,sentiment_summaries,dict_title,construction)\n",
    "    else:\n",
    "        print('Please input \"wall street journal\" or \"Wall Street Journal\" as the newspaper. If confused, look at instructions.')\n",
    "        \n",
    "        \n",
    "        \n",
    "               \n",
    "        \n",
    "        "
   ]
  },
  {
   "cell_type": "code",
   "execution_count": 3,
   "metadata": {},
   "outputs": [],
   "source": [
    "def sentiment_analyzer(summary_library):     #sentiment analysis tool using TextBlob\n",
    "\n",
    "    keyview_summary=summary_library.keys\n",
    "    sentiment_titles={}\n",
    "    sentiment_summaries={}\n",
    "    sentiment={}\n",
    "\n",
    "    for k in keyview_summary():    \n",
    "        summary=summary_library.get(k)\n",
    "        score_title=TextBlob(k) \n",
    "        score_summary=TextBlob(summary)\n",
    "        final_score=(score_title.sentiment.polarity +  score_summary.sentiment.polarity)/2\n",
    "        sentiment[k]=final_score\n",
    "        sentiment_titles[k]=score_title.sentiment.polarity\n",
    "        sentiment_summaries[k]=score_summary.sentiment.polarity\n",
    "\n",
    "    return sentiment, sentiment_titles, sentiment_summaries  #returns sentiment scores of net (title+sumary/2), only title scores and only summary scores as dictionaries\n"
   ]
  },
  {
   "cell_type": "code",
   "execution_count": 4,
   "metadata": {},
   "outputs": [],
   "source": [
    "def graph_bias(sentiment,sentiment_titles,sentiment_summaries,dict_title,construction):        ###outputs plotly graph \n",
    "    \n",
    "    dates=[]\n",
    "    sentiment_final=[] \n",
    "    sentiment_title_final = []\n",
    "    sentiment_summary_final = []\n",
    "    article_name=[]\n",
    "    \n",
    "    pos_ct_net=0    #these will be used to count each negative, positive and neutral score\n",
    "    neg_ct_net=0\n",
    "    net_ct_net=0\n",
    "    pos_ct_tit=0\n",
    "    neg_ct_tit=0\n",
    "    net_ct_tit=0\n",
    "    pos_ct_sent=0\n",
    "    neg_ct_sent=0\n",
    "    net_ct_sent=0\n",
    "    \n",
    "    sentiment_keys=sentiment.keys()\n",
    "    dict_title_keys=dict_title.keys()\n",
    "    \n",
    "    for m in sentiment_keys:        #extract sentiment score data from dictionaries\n",
    "        value_sentiment=sentiment.get(m)\n",
    "        sentiment_final = sentiment_final + [value_sentiment]\n",
    "        if value_sentiment>0:\n",
    "            pos_ct_net=pos_ct_net+1\n",
    "        elif value_sentiment<0:\n",
    "            neg_ct_net=neg_ct_net+1\n",
    "        else:\n",
    "            net_ct_net=net_ct_net+1\n",
    "            \n",
    "        \n",
    "    for i in dict_title_keys:        #extract date data from dictionaries\n",
    "        article_name= article_name + [i]\n",
    "        date=dict_title.get(i)\n",
    "        dates= dates + [date]\n",
    "        \n",
    "    sentiment_keys=list(sentiment_keys)\n",
    "    index=dates\n",
    "        \n",
    "    for k in sentiment_titles:        #extract sentiment score data from dictionaries\n",
    "        value_title=sentiment_titles.get(k)\n",
    "        sentiment_title_final = sentiment_title_final + [value_title]\n",
    "        if value_title>0:\n",
    "            pos_ct_tit=pos_ct_tit+1\n",
    "        elif value_title<0:\n",
    "            neg_ct_tit=neg_ct_tit+1\n",
    "        else:\n",
    "            net_ct_tit=net_ct_tit+1    \n",
    "\n",
    "    for j in sentiment_summaries:        #extract sentiment score data from dictionaries\n",
    "        value_summary=sentiment_summaries.get(j)\n",
    "        sentiment_summary_final = sentiment_summary_final + [value_summary]\n",
    "        if value_summary>0:\n",
    "            pos_ct_sent=pos_ct_sent+1\n",
    "        elif value_summary<0:\n",
    "            neg_ct_sent=neg_ct_sent+1\n",
    "        else:\n",
    "            net_ct_sent=net_ct_sent+1  \n",
    "            \n",
    "    df = pd.DataFrame(sentiment_keys, index = dates, columns = ['Title'])\n",
    "    df['Net Sentiment']=sentiment_final\n",
    "    df['Title Score']=sentiment_title_final\n",
    "    df['Summary Score']=sentiment_summary_final\n",
    "    \n",
    "    print(df)\n",
    "    \n",
    "    ans=input('Would you like a graph of the (A) Title and Summary Average Sentiment (A) , (B) Only Title Sentiment (B), or (C) Only Summary Sentiment (C) ?')\n",
    "    length=len(sentiment_keys)\n",
    "    \n",
    "    #the formatting of the graph (title, axis names, hover formatting) were taken from plotly's online manual,\n",
    "    #on sites such as https://plot.ly/python/axes/, https://plot.ly/python/hover-text-and-formatting/,\n",
    "    #https://plot.ly/python/text-and-annotations/, https://plot.ly/python/line-and-scatter/.\n",
    "    \n",
    "    \n",
    "    if ans is 'A': #want average title and summary score\n",
    "        p1 = px.scatter(x=index, y=sentiment_final, hover_name=article_name)\n",
    "        p1.update_yaxes(range=[-1,1])\n",
    "        p1.update_layout(\n",
    "            title=\"Title and Summary Combined Sentiment\", \n",
    "            xaxis_title=\"Date\",\n",
    "            yaxis_title=\"Combined Sentiment\",\n",
    "            font=dict(\n",
    "                family=\"Times New Roman, monospace\",\n",
    "                size=18,\n",
    "                color=\"#d62728\"\n",
    "            )\n",
    "        )\n",
    "        \n",
    "        p1.show()\n",
    "        \n",
    "        print('In',length,'articles,',pos_ct_net,'are positive,',neg_ct_net,'are negative, and',net_ct_net,'are neutral. ',construction,'articles are being updated.')\n",
    "\n",
    "    elif ans is 'B': #want only title score\n",
    "        p2 = px.scatter(x=index, y=sentiment_title_final, hover_name=article_name)\n",
    "        p2.update_yaxes(range=[-1,1])\n",
    "        \n",
    "        p2.update_layout(\n",
    "            title=\"Title Sentiment\", \n",
    "            xaxis_title=\"Date\",\n",
    "            yaxis_title=\"Title Sentiment\",\n",
    "            font=dict(\n",
    "                family=\"Times New Roman, monospace\",\n",
    "                size=18,\n",
    "                color=\"#d62728\"\n",
    "            )\n",
    "        )\n",
    "        p2.show()\n",
    "        \n",
    "        construction=int(construction)\n",
    "        construction=construction-5\n",
    "        construction=str(construction)\n",
    "        \n",
    "        print('In',length,'articles,',pos_ct_tit,'are positive,',neg_ct_tit,'are negative, and',net_ct_tit,'are neutral. ',construction,'articles are being updated.')\n",
    "\n",
    "    elif ans is 'C':   #want only summary score\n",
    "        p3 = px.scatter(x=index, y=sentiment_summary_final, hover_name=article_name)\n",
    "        p3.update_yaxes(range=[-1,1])\n",
    "        \n",
    "        p3.update_layout(\n",
    "            title=\"Summary Sentiment\", \n",
    "            xaxis_title=\"Date\",\n",
    "            yaxis_title=\"Summary Sentiment\",\n",
    "            font=dict(\n",
    "                family=\"Times New Roman, monospace\",\n",
    "                size=18,\n",
    "                color=\"#d62728\"\n",
    "            )\n",
    "        )      \n",
    "        \n",
    "        p3.show()\n",
    "        \n",
    "        print('In',length,'articles,',pos_ct_sent,'are positive,',neg_ct_sent,'are negative, and',net_ct_sent,'are neutral. ',construction,'page(s) are being updated.')\n",
    "\n",
    "    else:\n",
    "        print('Try again! Please only use CAPITAL A, B or C.')\n",
    "        \n",
    "\n",
    "        \n",
    "    "
   ]
  },
  {
   "cell_type": "code",
   "execution_count": 5,
   "metadata": {},
   "outputs": [],
   "source": [
    "def wsj_bias(url_temp,keyword,time1,time2,pagenum_str,construction,counts,limit):\n",
    "    import urllib.request\n",
    "    import bs4\n",
    "    import lxml\n",
    "    import re\n",
    "    import datetime\n",
    "    import pprint\n",
    "    \n",
    "    wsj={}\n",
    "    wsj_summary={}\n",
    "    today=datetime.datetime.now()\n",
    "    final_date={}\n",
    "    final_summary={}\n",
    "    limit_wsj=[]\n",
    "    \n",
    "    url_wsj = urllib.request.urlopen(url_temp)     #put url through BeautifulSoup\n",
    "    soup_wsj = bs4.BeautifulSoup(url_wsj, 'lxml', from_encoding='utf-8')\n",
    "    headline_container_wsj=soup_wsj.findAll('div',attrs={\"class\":\"headline-container\"}) #find headline containers\n",
    "    limit_wsj=soup_wsj.findAll('li',attrs={\"class\":\"results-count\"})\n",
    "    \n",
    "\n",
    "    limit_wsj=[k.text for k in limit_wsj]    \n",
    "    limit_wsj=[int(k[(k.find('of'))+3:]) for k in limit_wsj]\n",
    "    \n",
    "    if len(limit_wsj)==2:\n",
    "        if limit_wsj[0]>limit_wsj[1]:\n",
    "            limit=limit_wsj[1]\n",
    "        else:\n",
    "            limit=limit_wsj[0]\n",
    "            \n",
    "    for k in headline_container_wsj:           \n",
    "        title=k.find('h3',attrs={\"class\":\"headline\"})   #find everything else in the container\n",
    "        title=title.text\n",
    "        date=k.find('time',attrs={\"class\":\"date-stamp-container highlight\",\"class\":\"date-stamp-container\"})\n",
    "        date=date.text\n",
    "        summary=k.find('div',attrs={\"class\":\"summary-container\"})\n",
    "        wsj[title]=date\n",
    "        try:\n",
    "            summary=summary.text\n",
    "            wsj_summary[title]=summary\n",
    "        except:\n",
    "            wsj_summary[title]='n/a'\n",
    "\n",
    "    \n",
    "    keyview_wsj=wsj.keys\n",
    "    \n",
    "    for k in keyview_wsj():    #formatting time, as WSJ has a lot of inconsistencies\n",
    "        val=wsj.get(k)         #when reporting the time an article is published\n",
    "        \n",
    "        if 'Just' in val:\n",
    "            val=val[5:]\n",
    "    \n",
    "        if 'Jan.' in val:                           #standardizing months as they abbreviate\n",
    "            val=val.replace('Jan.','January')       #sometimes and do not other times\n",
    "        elif 'Feb.' in val:\n",
    "            val=val.replace('Feb.','February')\n",
    "        elif 'Mar.' in val:\n",
    "            val=val.replace('Mar.','March')    \n",
    "        elif 'Apr.' in val:\n",
    "            val=val.replace('Apr.','April')\n",
    "        elif 'Jun.' in val:\n",
    "            val=val.replace('Jun.','June')\n",
    "        elif 'Jul.' in val:\n",
    "            val=val.replace('Jul.','July')\n",
    "        elif 'Aug.' in val: \n",
    "            val=val.replace('Aug.','August')\n",
    "        elif 'Sep.' in val:    \n",
    "            val=val.replace('Sep.','September')\n",
    "        elif 'Oct.' in val:  \n",
    "            val=val.replace('Oct.','October')\n",
    "        elif 'Nov.' in val: \n",
    "            val=val.replace('Nov.','November')\n",
    "        elif 'Dec.' in val: \n",
    "            val=val.replace('Dec.','December')\n",
    "            \n",
    "    \n",
    "        if 'hour' in val:                      #standardizing dates reported in hrs or mins\n",
    "            number=''                          #into YYYY-MM-DD format\n",
    "            for m in val:\n",
    "                if re.match('\\d',m):\n",
    "                    number=number+m\n",
    "            number=int(number)\n",
    "            new_date= today + datetime.timedelta(hours = -number)\n",
    "            wsj[k]=new_date.strftime('%Y-%m-%d')\n",
    "            val=datetime.datetime.strptime(wsj[k], '%Y-%m-%d')\n",
    "            \n",
    "        elif 'min' in val:\n",
    "            number=''\n",
    "            for n in val:\n",
    "                if re.match('\\d',n):\n",
    "                    number=number+n\n",
    "            number=int(number)\n",
    "            new_date= today + datetime.timedelta(minutes = -number)\n",
    "            wsj[k]=new_date.strftime('%Y-%m-%d')\n",
    "            val=datetime.datetime.strptime(wsj[k], '%Y-%m-%d')\n",
    "\n",
    "        \n",
    "        else:\n",
    "            val=val[0:-2]                     #getting rid of time zone \n",
    "            val=datetime.datetime.strptime(val, '%B %d, %Y %I:%M %p ') \n",
    "            wsj[k]=val.strftime('%Y-%m-%d')\n",
    "            val=datetime.datetime.strptime(wsj[k], '%Y-%m-%d')  #change back to compare with datetime objects if wanted\n",
    "    \n",
    "        final_date[k]=wsj[k]\n",
    "        summary_value=wsj_summary[k]\n",
    "        final_summary[k]=summary_value\n",
    "        \n",
    "    if len(wsj)==0:\n",
    "        construction=construction+1 \n",
    "        \n",
    "    print('Page',counts,'/',limit,'done.')\n",
    "    \n",
    "    counts=counts+1\n",
    "\n",
    "    \n",
    "    if counts<=limit:\n",
    "        pagenum=int(pagenum_str)\n",
    "        pagenum=pagenum+1\n",
    "        pagenum_str=str(pagenum)\n",
    "        url_temp='https://www.wsj.com/search/term.html?KEYWORDS='+keyword+'&min-date='+time1+'&max-date='+time2+'&daysback=4y&isAdvanced=true&andor=AND&sort=date-desc&source=wsjarticle,wsjblogs,wsjvideo,interactivemedia,sitesearch,wsjpro&page='+pagenum_str\n",
    "        add_date,add_summary,construction,limit=wsj_bias(url_temp,keyword,time1,time2,pagenum_str,construction,counts,limit) \n",
    "                  \n",
    "        final_date={**wsj, **add_date}  ####### combine dicts\n",
    "        final_summary={**wsj_summary, **add_summary}\n",
    "    \n",
    "    return final_date,final_summary, construction, limit"
   ]
  },
  {
   "cell_type": "code",
   "execution_count": 8,
   "metadata": {
    "scrolled": false
   },
   "outputs": [
    {
     "name": "stdout",
     "output_type": "stream",
     "text": [
      "Welcome to the Bias Report.\n",
      "Enter Newspaper Name:wall street\n",
      "Enter a Keyword:cheese\n",
      "Enter START date (YYYY/MM/DD):2018/01/01\n",
      "Enter END date (YYYY/MM/DD):2019/01/11\n",
      "Page 1 / 20 done.\n",
      "Page 2 / 20 done.\n",
      "Page 3 / 20 done.\n",
      "Page 4 / 20 done.\n",
      "Page 5 / 20 done.\n",
      "Page 6 / 20 done.\n",
      "Page 7 / 20 done.\n",
      "Page 8 / 20 done.\n",
      "Page 9 / 20 done.\n",
      "Page 10 / 20 done.\n",
      "Page 11 / 20 done.\n",
      "Page 12 / 20 done.\n",
      "Page 13 / 20 done.\n",
      "Page 14 / 20 done.\n",
      "Page 15 / 20 done.\n",
      "Page 16 / 20 done.\n",
      "Page 17 / 20 done.\n",
      "Page 18 / 20 done.\n",
      "Page 19 / 20 done.\n",
      "Page 20 / 20 done.\n",
      "                                                        Title  Net Sentiment  \\\n",
      "2019-01-11                     The Making of the Picky Eater       -0.100000   \n",
      "2019-01-09   U.S. Food Inspections Slow Amid Government Sh...      -0.083333   \n",
      "2019-01-08                Vol. 31, No. 12: A 2019 To-Do List        0.000000   \n",
      "2019-01-08              H.I.G. Capital Acquires Lipari Foods       -0.100000   \n",
      "2019-01-08   Are Those Gold Teeth or Did You Just Eat in t...      -0.087500   \n",
      "...                                                       ...            ...   \n",
      "2018-01-05   Blizzard-Proof Bowls: Savory Porridge Saves t...       0.175000   \n",
      "2018-01-03   Today’s Top Supply Chain and Logistics News F...       0.500000   \n",
      "2018-01-03   Dairies Are Awash in Organic Milk as Consumer...      -0.062500   \n",
      "2018-01-02    A Diet Strategy That Counts Time, Not Calories        0.000000   \n",
      "2018-01-02   The Midterms and Other Stories to Watch for i...      -0.062500   \n",
      "\n",
      "            Title Score  Summary Score  \n",
      "2019-01-11        0.000      -0.200000  \n",
      "2019-01-09       -0.300       0.133333  \n",
      "2019-01-08        0.000       0.000000  \n",
      "2019-01-08        0.000      -0.200000  \n",
      "2019-01-08        0.000      -0.175000  \n",
      "...                 ...            ...  \n",
      "2018-01-05        0.000       0.350000  \n",
      "2018-01-03        0.500       0.500000  \n",
      "2018-01-03        0.000      -0.125000  \n",
      "2018-01-02        0.000       0.000000  \n",
      "2018-01-02       -0.125       0.000000  \n",
      "\n",
      "[381 rows x 4 columns]\n",
      "Would you like a graph of the (A) Title and Summary Average Sentiment (A) , (B) Only Title Sentiment (B), or (C) Only Summary Sentiment (C) ?C\n"
     ]
    },
    {
     "data": {
      "application/vnd.plotly.v1+json": {
       "config": {
        "plotlyServerURL": "https://plot.ly"
       },
       "data": [
        {
         "hoverlabel": {
          "namelength": 0
         },
         "hovertemplate": "<b>%{hovertext}</b><br><br>x=%{x}<br>y=%{y}",
         "hovertext": [
          " The Making of the Picky Eater ",
          " U.S. Food Inspections Slow Amid Government Shutdown ",
          " Vol. 31, No. 12: A 2019 To-Do List ",
          " H.I.G. Capital Acquires Lipari Foods ",
          " Are Those Gold Teeth or Did You Just Eat in the Gaudiest Place on Earth? ",
          " Lay Off the Bears Kicker! ",
          " A Soda Tax and Consequences ",
          " Mensa’s Debate: Deep Thinking or Games and Drinking? ",
          " The Most Satisfying Vegetable Soup ",
          " A Season to Give Food the Attention It Deserves ",
          " Trump’s Broken Nafta Promise ",
          " Puerto Rico on the Rebound: A Three-Day Getaway Guide ",
          " How Fortnite Triggered an Unwinnable War Between Parents and Their Boys ",
          " Luxury Homeowners Discover the Delight of Sicily Living ",
          " The Daily Shot: Oil Companies Expected to Slash Investment as Prices Tumble ",
          " U.S. Prepares More Payments to Trade-Hit Farmers ",
          " Real Time Economics: What Will the Fed Signal for 2019? ",
          " America Can’t Move Its Cheese ",
          " A Rare Disease Won’t Keep This Mountain Man Off the Trails ",
          " ‘Little Culinary Triumphs’ and ‘Something Great and Beautiful’ Review: Staff of Life, Stuff of Farce ",
          " And Now, The Most Unmemorable Moments of 2018 ",
          " Europe and Japan’s Cheese-for-Cars Trade Deal to Launch Next Year ",
          " What Your Holiday Table Has Been Missing ",
          " Geneva Beyond the Cliché ",
          " Winter’s Most Refreshing Salad ",
          " McDonald’s to Trim Antibiotics From Its Beef ",
          " Real Time Economics: Brexit, Trade Talks and Protests ",
          " A Chic Scottish Sojourn Among the Manors ",
          " Space Race Pioneer Planted Roots in Milwaukee ",
          " A Spanish Food and Wine Region Comes Alive Again ",
          " 30-Minute Pasta With a Superlative Sausage Ragù ",
          " In Nafta Rewrite, Canada Took Cue From Mexico: Make a Big Concession ",
          " ‘Never Home Alone’ Review: The Critters Chez Nous ",
          " Consumer Beware: With Less Trade Comes Less Choice ",
          " Playwright Edward Albee’s Manhattan Loft Hits Market for Almost $9 Million ",
          " The Funky Tribeca Loft of Playwright Edward Albee ",
          " In Search of a New York Bagel in Europe ",
          " Aerial Yoga Is How This Exec Stays Grounded ",
          " Should Cows Have Horns? Switzerland Will Decide ",
          " Europe in Winter: 35 Reasons to Visit Off-Season ",
          " Checking Out New York’s Online Grocery Stores and All Their Trimmings ",
          " 27 More Rules of Thanksgiving Family Touch Football ",
          " ‘Buttermilk Graffiti’ Review: What’s Your Order? ",
          " What Your CEO Is Reading: Silicon Valley Meatheads; School Fail ",
          " The Morning Download: When Antiquated Tech Leaves Families Hanging ",
          " Pies That Bind: Thanksgiving Recipes From the Heartland ",
          " The Roundup ",
          " Racing for Your Flight but Need a Winter Coat? Try the Airport Vending Machine ",
          " Once-Worthless Radio Waves Get New Life in Spectrum Auction ",
          " Which Houseplants Grow Best in Low Light? ",
          " An Ultramarathon Runner at 71 ",
          " My Short List of Things That Need to Be ‘De-Invented’ ",
          " Why Mayonnaise is Magic ",
          " When It Comes to This Ingredient, Believe the Hype ",
          " The Unseen Cost of Subscription Boxes ",
          " A New Breed of Innkeepers for the Airbnb Era ",
          " In Russia, McDonald’s Serves Local Fries and a Side of Realpolitik ",
          " U.S.-China Trade Tensions on Display at Shanghai Expo ",
          " Letitia James Elected New York Attorney General ",
          " The Left Is Lukewarm on Elizabeth Warren ",
          " Eleven Madison Park Heads West ",
          " U.S. Faces Newly Muscular Taliban in Peace-Talk Efforts ",
          " A Breakdancing Underdog at 60 ",
          " Oil Prices Are Mixed as Iran Sanctions Loom ",
          " Eating Should Feed All of Our Senses ",
          " David Chang’s Culinary Universe Is Still Growing ",
          " In Pittsburgh, Preparing to Sit Shiva for 11 ",
          " Kraft Heinz’s Profit Suffers as Costs Rise ",
          " In Tight Upstate Race, Democrats Push Weekenders to Vote ",
          " Is It Still Thanksgiving If You Don’t Serve Turkey? ",
          " Skier Picabo Street Used Anger to Banish Fear and Become an Olympic Champion ",
          " Utz Quality Foods Thrives On Guilty Pleasures ",
          " 101 Ways to Live, Work and Goof Off More Ambitiously ",
          " Hershey Fights Higher Costs by Charging More for Chocolate ",
          " Sorry Grandma, Your Soup Looks Boring on Instagram. So We’re ‘Fixing’ It ",
          " Where to Find the Most Remarkable Margaritas in San Antonio ",
          " The Best Under-the-Radar Food Destination in the U.S. ",
          " Cyber Daily: Hacking Expands; Shortage of Cybercrime Fighters Does, Too ",
          " ‘The Art of Rube Goldberg’ Review: The Machinery of Humor ",
          " After Years on the Right, Dennis Miller Wants to Find Comedy’s Middle Ground ",
          " The Party Host’s Pro Move of the Season ",
          " The Best Reason to Bake, Not Fry: Flavor ",
          " Anyone for Diglycerides? Anyone? Food Scientists Are Getting Fed Up With Picky Eaters ",
          " 5 Mood-Lifting Museums ",
          " Claire Foy’s Moment ",
          " Kraft Heinz Launches $100 Million Venture Fund ",
          " The Horror Ahead if We Topple the King of Apples ",
          " Energy Journal: Investors Eye Iran’s Falling Oil Exports ",
          " Real Time Economics: Why Employers Can’t Find Blue-Collar Workers | Trump’s New Trade Template | ‘The Fed Is Independent’ ",
          " Food Banks Reap Unexpected Bounty From Trade Disputes ",
          " John Bryan Led Sara Lee and Raised Funds for Chicago’s Millennium Park ",
          " An Insider’s Guide to Napa Valley—100% Cliche-Free ",
          " Robot Restaurants: The Good Versus the Gimmicks ",
          " Six Technologies That Could Shake the Food World ",
          " ‘The Fifth Risk’ Review: Managing the Unmanageable ",
          " U.S. Farmers Welcome New North American Trade Pact ",
          " U.S. Dairy Farmers Score Gains in New Trade Deal ",
          " Lettuce and Love Notes: The Competitive World of School Lunches ",
          " Dancing Through a Family’s Dark Times ",
          " Food Executives Look to Better Integrate Smaller Brands ",
          " ‘The Missing Ingredient’ Review: Parsley, Sage and Time ",
          " These Quesadillas Are Easy to Make, Easy to Love ",
          " U.S. Farm Sector Braces For Protracted Trade Fight ",
          " McDonald’s Removes Artificial Ingredients From Burgers ",
          " Pizza Museum Aims to Be Upper Crust of Pop-Up Exhibitions ",
          " Airlines Try to Whip Up Better Meals for Coach Fliers ",
          " Eat Like a Model (And Still Be Satisfied) ",
          " California Farmers Are Trade-War Casualties ",
          " Facial Recognition Goes Mainstream ",
          " Judge Will Appoint Trustee to Run Huge Oregon Dairy ",
          " Canada Rethinks Defense of Dairy Farmers as Industry’s Heft Wanes ",
          " Pipe Pressure Eyed in Gas Blasts ",
          " ‘Jell-O Girls’ Review: They Broke the Mold ",
          " Are Eggs Bad for You? Two Scientists Square Off ",
          " Stocks to Watch: Qualcomm, Tesla, Boeing, Kroger, Fitbit, Altria, Tailored Brands, Pivotal Software, Hershey ",
          " Hershey to Buy Pirate’s Booty Maker for $420 Million ",
          " Cinnamon-Raisin Bagels Face a Schmear Campaign in New York ",
          " Olaf Carlson-Wee Rode the Bitcoin Boom to Silicon Valley Riches. Can He Survive the Crash? ",
          " See Food: Why Robots Are Producing More of What You Eat ",
          " A Michelin-Starred Birthday Dinner That Changed a Celebrity Chef’s Life ",
          " WSJ Wealth Adviser Briefing: Adviser Outsourcing, Fiduciary Rule, Cheese ",
          " Cook’s Trick: Go Ahead and Overdo It ",
          " The Cheese You Need Right Now ",
          " European Barge Cruises That Are Anything But Boring ",
          " No, A Salad Doesn’t Make that Burger Healthier ",
          " NYC Chancellor, Mayor Greet School Year, Emphasizing Equity ",
          " Who Needs Dishes When You Can Serve Soup in a Stiletto ",
          " Why Milk Matters in U.S.-Canada Trade Feud ",
          " Restaurants Will Feast on Trump’s Tariffs, Just Not Yet ",
          " All Hands on Deck ",
          " Iran Struggles to Rein In Illicit Trade in Dollars ",
          " Half a Nafta ",
          " Hog, Cattle Prices Jump on U.S.-Mexico Trade Deal ",
          " Crossing Delancey: A Refuge for Pushcart Vendors Gets a Prime New Home ",
          " Beyond Soda: How and Why Your Beverage Options Are Exploding ",
          " The Scan That Saved My Life ",
          " A College President’s Spin on Fitness ",
          " Immigration and an Ohio Town ",
          " This Training Tweak Keeps Him Running at 70 ",
          " Best-Selling Books Week Ended Aug. 12 ",
          " Could This Appliance Replace Your Oven? ",
          " This Salad Is the Best Way to Use All the Vegetables You Have Right Now ",
          " The Wine Lover’s Summer Reading List ",
          " Graham Partners Invests in Advanced Barrier Extrusions ",
          " The ‘King of Fruits’ Smells Like Gym Socks—and Fans Fear There Won’t Be Enough ",
          " The Science Behind the World’s Longest Flights ",
          " Kraft Heinz, Maker of Kool-Aid and Jell-O, Thinks Healthy ",
          " New York Helps Give Some of Its Iconic Bodegas a Makeover ",
          " We All Speak American ",
          " Should Tourists Ride Elephants in Thailand? ",
          " ‘The Tangled Tree’ Review: From Tiny Seeds ",
          " The Morning Download: MGM CDO Finds AI Hiring No Game of Chance ",
          " Whole Foods Introduces Grocery Pickup for Online Orders ",
          " Commissions Are Mulvaney’s Error of Omission ",
          " Kraft Heinz Projects Stronger Sales Growth ",
          " Enough Already With ‘Reinvented’ Dishes—Let’s Get the Classics Right ",
          " So Your Wife Embezzled $500,000 and the IRS Wants to Tax You ",
          " The Newest Venture Capitalists: Food Companies ",
          " Yes, You Can Pair Wine With Vegetables ",
          " Crikey, Bruce, Our Aussie Lingo Has Gone Walkabout ",
          " Chloé’s New Creative Director Is Just Like You ",
          " San Francisco Equity Partners Invests in Frozen Foods Brand Brazi Bites ",
          " Italy Threatens to Bring Down EU-Canada Free Trade Deal ",
          " A Getaway to the ‘Tuscany of America’ ",
          " A Grain Escape to the Palouse ",
          " Trump Says He ‘Opened Up Europe’ for Farmers. Europeans Disagree. ",
          " The Messy Business of Selling Meal Kits ",
          " This Peak-Summer Salad is All the Meal You Need ",
          " Land O’Lakes Names Next CEO ",
          " Japan and Germany Find Common Ground Opposing Trump on Trade ",
          " Feds Want Trustee to Manage Bankrupt Oregon Mega-dairy ",
          " The ‘Everything Handmade’ Trend Will Curb Job Losses ",
          " Real Time Economics: Trump Complains About the Fed, China Weakens the Yuan ",
          " U.S. Grain Prices Crunched by Trade Fears ",
          " Grilling the Perfect Steak in Curtis Stone’s Outdoor Kitchen ",
          " Not-the-Same-Old Insider’s Guide to Newport, R.I. ",
          " Why Chefs Are Elevating Rice to Star Ingredient Status ",
          " The World Cup of Boring Celebrations ",
          " Fiction: A Depraved and Beautiful Dream of the World ",
          " From Seafood to Mattresses: How the Latest Tariffs Would Affect U.S. Businesses ",
          " Grungy and Unkempt in the U.S.A. ",
          " Cleveland Hopes to Become the Next Venice ",
          " The Daily Shot: Soybeans Distorting U.S. GDP Growth ",
          " How U.S. and China Tariffs Are Rippling Through U.S. Industries ",
          " Capital Journal: Trump to Reveal Court Pick; The Final Four; Bracing for NATO Discord ",
          " Waiter, There’s a Bloody Mary in My Chicken Dinner ",
          " A Milk Startup Takes On 300 Million Cows ",
          " Throw a Summer Party the Effortless Spanish Way ",
          " The EU Has No Easy Answers to Trump’s Car Tariff Threats ",
          " The Morning Risk Report: Midsize Firms Take Cybersecurity ‘Sweet Spot’ ",
          " Real Time Economics: U.S. Workers Are Quitting Their Jobs. That’s Good For The Economy ",
          " Take Our Cheese, Please: American Cheese Makers Suffer Under New Tariffs ",
          " The World Cup’s Most Neutral Matchup ",
          " Trade Fight Threatens Farm Belt Businesses ",
          " The Morning Download: Some CIOs Jump into Startups ",
          " For Intense Exercise During Recovery, She Just Added Water ",
          " The Plight of the Humble Bee ",
          " ‘She Has Her Mother’s Laugh’ Review: Biology’s Strange New World ",
          " Summer Getaways That You Don’t Need To Sweat Over ",
          " The Daily Shot: From Corn to Milk, U.S. Agricultural Commodities Slammed Amid Trade Worries ",
          " Short of Workers, Fast-Food Restaurants Turn to Robots ",
          " When Will Washington Stop Helping Amazon? ",
          " Chef Is the New Astronaut: The Best Camps for Kids With Culinary Ambitions ",
          " Someone Is Stealing Italy’s Most Precious Cheese ",
          " House Narrowly Passes Bill to Reauthorize Farm Programs ",
          " A Burger Joint Where Robots Make Your Food ",
          " Titanic Artifacts May Soon Join Apollo, Alta Portfolios ",
          " How to Get Off the Beaten Path in Paris ",
          " ‘Go Beyond Sushi’: Tokyo’s Culinary Gems ",
          " Mysteries: A Postmodern Procedural ",
          " A Stress-Free Summer Weekend in the Catskills ",
          " Are You a Catskills Person? ",
          " One Dish Too Far: Japanese Fermented Soybeans ",
          " Tariffs Further Pinch Consumer-Staple Stocks ",
          " How to Spend an Indulgent Day in Madrid for $2,400—or $400 ",
          " Bourdain vs. the Social-Justice Warriors ",
          " The Nonstop Burn of Water Polo ",
          " From the Village to the Bronx, N.Y. Restaurants Touched by Bourdain Mourn His Death ",
          " Children’s Books: All Creatures Great and Small ",
          " Why the Defining Game of This Golden State Warriors Dynasty Was a Loss ",
          " A Surprisingly Kid-Friendly Vacation to Peru’s Sacred Valley ",
          " Plant Swaps: The Cheap Way to Score Rare Houseplants ",
          " Why the Frozen-Food Aisle Is Hot Right Now ",
          " 11 Gifts to Help Dad Relax This Father’s Day ",
          " Vol. 31, No. 5: Chaotic ",
          " Real Time Economics: There Are More Job Openings Than People Looking For a Job ",
          " Mexico and Canada Add to Nations Striking Fear in U.S. Farmers ",
          " The Right Way for Food Companies to Buy Their Way to Growth ",
          " It’s Taco Time for Restaurateur Danny Meyer ",
          " Mexico Details Its List of Retaliatory Tariffs Against U.S., Adds Bourbon ",
          " Food Companies Can’t Figure Out What Americans Want to Eat ",
          " Seeing ‘Solo’ Solo: Brave Movie Lovers Hit Theaters Alone ",
          " The Canard About Falling Incomes ",
          " World Cup Announcer Andrés Cantor Hits His Own Fitness Goal ",
          " U.S. Tariff Moves Jolt Nafta Talks ",
          " U.S. Tariffs Prompt Anger, Retaliation From Trade Allies ",
          " Trump’s Steel Destruction ",
          " Streaming Service Cheddar Targets College Students After Acquiring MTV Campus Distribution Network ",
          " Food Companies Churn Through CEOs, Desperate for Fresh Ideas ",
          " Photos of the Day: May 28 ",
          " A Fried Chicken Tasting Tour of Atlanta ",
          " Parmesan vs. Sarmesan: How Dare the Europeans Move Our Cheese ",
          " Short Stories for Summer Reading ",
          " Summer Books: Beach Reading ",
          " Where to Find the Finest Fried Chicken in Atlanta ",
          " Small Brands Are Taking a Thousand Little Bites Out of Campbell’s Business ",
          " Battle of the Sexes, Summertime Grilling Edition ",
          " 6 Vacation Villas With Enviable Pools ",
          " Soy, Almond, Pea or Oat? The Reinvention of Milk ",
          " Don’t Try to Blackmail Us on Nafta, Mr. President ",
          " Inside the Met Gala: Real-life cardinal gets star treatment ",
          " Leland Yeager, an Economist Who Could Write ",
          " In Japan, Doing More With Less Means Getting a Robot to Milk Your Cows ",
          " ‘Victorians Undone’ Review: Bodies in Question ",
          " Give Processed Food a Break ",
          " Best-Selling Books Week Ended April 29 ",
          " The Morning Ledger: U.S. Companies Report Best Earnings for Years After Corporate Tax Overhaul ",
          " JetBlue says it will deliver fresh NYC pizza to Los Angeles ",
          " When U.S. Cheese Goes Overseas, It Needs a Fake ID ",
          " How to Eat Like an Italian ",
          " Kraft Heinz Hasn’t Discovered the Magic Sauce ",
          " Kraft Heinz’s Profit Rises Despite Sales Decline ",
          " I’m Letting My Kids Stay Up Late to Watch LeBron James ",
          " A Big Gulp of Kale Juice? 7-Eleven Struggles to Catch Fresh-Food Wave ",
          " Venture Capitalists Talk About the Big Investments They Didn’t Make ",
          " Traditional Czech open-faced sandwiches may be coming to US ",
          " The Airport Lounge, Once a Refuge, Is a Total Zoo ",
          " 24 Famous Globe-Trotters on the Hotels They Love Most ",
          " The state that wants to spend more, not less, on prison food ",
          " New York City Is Getting a Pizza Museum ",
          " Welcome to the New Convenience Store ",
          " A Hotel 30 Miles Outside Paris Where Equestrian Life Sets the Tone ",
          " Can Men Wear Silk Shirts Without Looking Like Sleazeballs? ",
          " Real Time Economics: Yields Up, Stocks Down | Trump Sending Trade Delegation to Beijing | Got A2 Milk? ",
          " Hiking in Croatia: How to Master Some of the World’s Rarest Views ",
          " Controversial New Milk Shakes Up Big Dairy ",
          " At School With New York’s Next Top Chef, or Line Cook ",
          " ‘My American Dream’ Review: The Bastianich Family Recipe ",
          " ‘Mr. Lear’ Review: An Airborne Life of Art and Nonsense ",
          " Brrrrrr! Frozen Baseball Should Cut Games ",
          " How to Cook Smarter by Cooking Smaller ",
          " A Divided Nation Reveals Itself In One Question: Hawaiian Pizza, Yes or No? ",
          " His Goal: Finish the Boston Marathon by Hand ",
          " ‘Pasta for Nightingales’ Review: Birdwatching Tips From the Renaissance ",
          " Eat Joyfully, and Other Wise Advice From Nigella Lawson ",
          " How To Make Gnocchi in 4 Simple Steps ",
          " Why Cutlets Are What Everyone Wants for Dinner ",
          " Chicago’s Traders Cling to Their Last Remaining Tradition: Littering ",
          " Food Stamps Shouldn’t Pay for Junk ",
          " Bain Capital Double Impact Fund Leads Vegan Restaurant Deal ",
          " In Restaurant Trends, What Comes After Farm-to-Table? ",
          " Baseball Rules Are Complicated Enough, Now Add Passover ",
          " Smiles Hide Many Messages—Some Unfriendly ",
          " Is an Upscale Uniform the Future of Office Fashion? ",
          " Where’s Your Teen Sleeping? Check Chuck E. Cheese, Then Walmart ",
          " High-End Dining for the High-Chair Set ",
          " The Food That Helps Battle Depression ",
          " GP Profile: FrenchFood Wants to Bring Local Flavors to the Global Stage ",
          " Italian gourmet grocery pioneer Andrew Balducci dies at 92 ",
          " Italy’s Restaurant Chains Are on the Menu for Private Equity ",
          " Fans Embrace Loyola’s Magical Run With Harry Potter Theme ",
          " Spring Break in Miami—With Our Toddlers ",
          " Why Bogotá is Now on Ambitious Travelers’ Agendas ",
          " 3 Perfect Days on Kauai: The Quintessential Hawaiian Island ",
          " Beans: The Superfood You've Always Known ",
          " A ‘Swim Mom’ Becomes the Competitor ",
          " Buffalo Is the NCAA Tournament’s Cinderella. Why Aren’t They the Buffalo? ",
          " Is the Internet Making Us Worse at Cooking? ",
          " Upscale Farm Living (You Don’t Have to Get Your Hands Dirty) ",
          " Fedspeak Cheat Sheet | U.S. Trade Rhetoric Threaten ECB’s Bond-Buying Plans | Kuroda: Smooth Exit Possible, But Not Just Yet | Poloz: Nafta Worries Already Hurting Investment | Douglas’s Take: Benign or Malign? Either Way it Means Higher Rates ",
          " On a roll: MLB to feature ballpark menus at FoodFest in NY ",
          " Quiche in, Beer Out of U.K.’s Official Inflation Basket ",
          " Is Time Running Out for the Swiss Watch Industry? ",
          " The Hottest Social Scene in Town Isn’t the Singles’ Bar. It’s the Supermarket. ",
          " How to Stop Worrying and Love Hosting Dinner Parties ",
          " Japan, the Original Trade Villain, Now Casts Itself as the Hero ",
          " How to Spend an Indulgent Day in Rome for $2,000—or $400 ",
          " Promoter of failed Fyre Festival pleads guilty to fraud ",
          " Who’s Reaching Across the Political Aisle? Mom and Dad ",
          " Does America Really Need Another Light Beer? Corona Thinks So ",
          " Farm Bureau to highlight cider, apples and other NY products ",
          " From Bulldozers to Beer, Tariffs Could Ripple Through U.S. Economy ",
          " A Cliche-Free Guide to Santa Fe ",
          " How To Do ‘Good Fat’ Better ",
          " Brooklyn Food Distributor G.A.F. Seelig to Shut Down ",
          " Is That Lenten Diet for God or for You? ",
          " Contortion That’s No Circus Act ",
          " Review: The Very Symbol of Modern Times ",
          " Why General Mills Is Paying Up for a Dog’s Breakfast ",
          " Best-Selling Books Week Ended Feb. 18 ",
          " How an Amputee Excels on the Slopes ",
          " Growth Is the Missing Ingredient for Kraft Heinz ",
          " Big Food Faces Pressure as Consumers Seek Fresh Meals, Snacks ",
          " Kraft Heinz Hints at Appetite for Deals ",
          " Why Wine Lovers Are Flocking to Charleston, S.C. ",
          " How to Nail Breakfast, Parisian Style: Two Craveable Crepe Recipes ",
          " Corruption Currents: Netanyahu Calls Graft Allegations ‘Swiss Cheese’ ",
          " Is Chocolate a Healthy Choice for Valentine’s Day? That Depends on Which Kind ",
          " The Gospel According to Oprah ",
          " Appetite for Italian Dining Swells ",
          " Real Time Economics: Markets, Meet the Economy | The Trumponomics Experiment | Immigration Debate Begins ",
          " Wisconsin, Facing a Worker Shortage, Pitches Its Benefits ",
          " ‘Art of the Airport Tower’ ",
          " Raf Simons evokes '70s Berlin drug culture in menswear show ",
          " The All-Snack Dinner ",
          " Review: The Promise of Virtual Reality ",
          " Trump Manages to Unify My Country ",
          " Next-Level Quesadillas With Brussels Sprouts and Chile Oil ",
          " America’s Instant-Pot Anxiety: ‘I Said a Prayer and Stayed the Hell Away’ ",
          " Brooklyn Food Distributor Draws One Offer During Bankruptcy Sale Process ",
          " New Zealand Exports Set New December Record ",
          " Saying No to Skynet? ",
          " Turning to beet juice and beer to address road salt danger ",
          " Carl’s Jr. Cooks Up a New York Expansion ",
          " Deal Close Announcements: Jan. 22-26 ",
          " Indians Clash Over National ID ",
          " Tide Pod doughnuts are irreverent response to harmful trend ",
          " Mr. 5%? ",
          " Easy Meatless Recipe: Swiss Chard Enchiladas ",
          " Celery: The Overachiever Ingredient That’s Already in Your Refrigerator ",
          " Kang’s Take: Scooping Up Opportunities in the Dairy Space ",
          " Why You’ll Want to Visit Rotterdam in 2018 ",
          " Review: The Raw, the Kooks and Their ‘Hippie Food’ ",
          " Brooklyn pizzeria parodies laundry pod trend with new pizza ",
          " Hot-Chocolate Craze Heats Up Frosty New York City ",
          " A Florida Beach Vacation with Snob Appeal ",
          " Sarasota’s Arty Allure ",
          " Michael B. Jordan Takes On His First Blockbuster Role—as a Villain ",
          " The Last Place on Earth Where Everyone Still Loves Kmart ",
          " Amazon’s Grocery Sales Increased After It Devoured Whole Foods ",
          " Bond Markets Have Picked Up the Wrong Signal From Japan ",
          " Good Grieg! I’ve Gotten Addicted to Norway ",
          " Photos of the Day: Jan. 10 ",
          " Domino’s CEO J. Patrick Doyle to Step Down in June ",
          " An Excerpt From: ‘White Houses’ ",
          " Will Trump Punish the Farm Belt? ",
          " Blizzard-Proof Bowls: Savory Porridge Saves the Day ",
          " Today’s Top Supply Chain and Logistics News From WSJ ",
          " Dairies Are Awash in Organic Milk as Consumers Jump to Alternatives ",
          " A Diet Strategy That Counts Time, Not Calories ",
          " The Midterms and Other Stories to Watch for in 2018 "
         ],
         "legendgroup": "",
         "marker": {
          "color": "#636efa",
          "symbol": "circle"
         },
         "mode": "markers",
         "name": "",
         "showlegend": false,
         "type": "scatter",
         "x": [
          "2019-01-11",
          "2019-01-09",
          "2019-01-08",
          "2019-01-08",
          "2019-01-08",
          "2019-01-07",
          "2019-01-04",
          "2019-01-01",
          "2018-12-28",
          "2018-12-27",
          "2018-12-26",
          "2018-12-26",
          "2018-12-21",
          "2018-12-20",
          "2018-12-19",
          "2018-12-17",
          "2018-12-17",
          "2018-12-17",
          "2018-12-15",
          "2018-12-14",
          "2018-12-13",
          "2018-12-12",
          "2018-12-12",
          "2018-12-12",
          "2018-12-12",
          "2018-12-11",
          "2018-12-11",
          "2018-12-07",
          "2018-12-07",
          "2018-12-06",
          "2018-11-29",
          "2018-11-29",
          "2018-11-28",
          "2018-11-28",
          "2018-11-27",
          "2018-11-27",
          "2018-11-24",
          "2018-11-24",
          "2018-11-23",
          "2018-11-21",
          "2018-11-20",
          "2018-11-19",
          "2018-11-16",
          "2018-11-16",
          "2018-11-16",
          "2018-11-15",
          "2018-11-14",
          "2018-11-14",
          "2018-11-14",
          "2018-11-10",
          "2018-11-10",
          "2018-11-09",
          "2018-11-09",
          "2018-11-08",
          "2018-11-08",
          "2018-11-08",
          "2018-11-08",
          "2018-11-07",
          "2018-11-06",
          "2018-11-06",
          "2018-11-05",
          "2018-11-05",
          "2018-11-03",
          "2018-11-02",
          "2018-11-02",
          "2018-11-02",
          "2018-11-01",
          "2018-11-01",
          "2018-11-01",
          "2018-10-31",
          "2018-10-30",
          "2018-10-29",
          "2018-10-25",
          "2018-10-25",
          "2018-10-23",
          "2018-10-19",
          "2018-10-19",
          "2018-10-18",
          "2018-10-15",
          "2018-10-15",
          "2018-10-12",
          "2018-10-12",
          "2018-10-12",
          "2018-10-11",
          "2018-10-10",
          "2018-10-06",
          "2018-10-05",
          "2018-10-05",
          "2018-10-05",
          "2018-10-05",
          "2018-10-04",
          "2018-10-03",
          "2018-10-03",
          "2018-10-02",
          "2018-10-01",
          "2018-10-01",
          "2018-10-01",
          "2018-10-01",
          "2018-09-29",
          "2018-09-29",
          "2018-09-28",
          "2018-09-28",
          "2018-09-27",
          "2018-09-26",
          "2018-09-24",
          "2018-09-24",
          "2018-09-20",
          "2018-09-19",
          "2018-09-18",
          "2018-09-17",
          "2018-09-14",
          "2018-09-14",
          "2018-09-13",
          "2018-09-13",
          "2018-09-13",
          "2018-09-12",
          "2018-09-12",
          "2018-09-11",
          "2018-09-11",
          "2018-09-11",
          "2018-09-11",
          "2018-09-07",
          "2018-09-07",
          "2018-09-06",
          "2018-09-06",
          "2018-09-05",
          "2018-09-04",
          "2018-09-01",
          "2018-08-31",
          "2018-08-30",
          "2018-08-28",
          "2018-08-27",
          "2018-08-27",
          "2018-08-27",
          "2018-08-26",
          "2018-08-25",
          "2018-08-25",
          "2018-08-20",
          "2018-08-18",
          "2018-08-17",
          "2018-08-16",
          "2018-08-16",
          "2018-08-15",
          "2018-08-15",
          "2018-08-15",
          "2018-08-15",
          "2018-08-12",
          "2018-08-11",
          "2018-08-10",
          "2018-08-10",
          "2018-08-09",
          "2018-08-08",
          "2018-08-08",
          "2018-08-05",
          "2018-08-03",
          "2018-08-03",
          "2018-08-03",
          "2018-08-03",
          "2018-08-02",
          "2018-08-02",
          "2018-08-01",
          "2018-07-31",
          "2018-07-30",
          "2018-07-27",
          "2018-07-27",
          "2018-07-27",
          "2018-07-27",
          "2018-07-27",
          "2018-07-26",
          "2018-07-25",
          "2018-07-23",
          "2018-07-20",
          "2018-07-20",
          "2018-07-19",
          "2018-07-19",
          "2018-07-17",
          "2018-07-13",
          "2018-07-13",
          "2018-07-12",
          "2018-07-12",
          "2018-07-12",
          "2018-07-11",
          "2018-07-10",
          "2018-07-09",
          "2018-07-09",
          "2018-07-08",
          "2018-07-07",
          "2018-07-06",
          "2018-07-05",
          "2018-07-05",
          "2018-07-05",
          "2018-07-05",
          "2018-07-02",
          "2018-07-02",
          "2018-07-02",
          "2018-06-30",
          "2018-06-29",
          "2018-06-28",
          "2018-06-28",
          "2018-06-26",
          "2018-06-24",
          "2018-06-22",
          "2018-06-22",
          "2018-06-22",
          "2018-06-21",
          "2018-06-21",
          "2018-06-20",
          "2018-06-19",
          "2018-06-19",
          "2018-06-15",
          "2018-06-15",
          "2018-06-15",
          "2018-06-15",
          "2018-06-13",
          "2018-06-13",
          "2018-06-11",
          "2018-06-10",
          "2018-06-09",
          "2018-06-08",
          "2018-06-07",
          "2018-06-07",
          "2018-06-07",
          "2018-06-07",
          "2018-06-06",
          "2018-06-06",
          "2018-06-06",
          "2018-06-06",
          "2018-06-06",
          "2018-06-06",
          "2018-06-05",
          "2018-06-05",
          "2018-06-04",
          "2018-06-03",
          "2018-06-02",
          "2018-05-31",
          "2018-05-31",
          "2018-05-31",
          "2018-05-31",
          "2018-05-29",
          "2018-05-28",
          "2018-05-27",
          "2018-05-25",
          "2018-05-23",
          "2018-05-23",
          "2018-05-23",
          "2018-05-21",
          "2018-05-17",
          "2018-05-15",
          "2018-05-11",
          "2018-05-10",
          "2018-05-08",
          "2018-05-06",
          "2018-05-06",
          "2018-05-04",
          "2018-05-04",
          "2018-05-04",
          "2018-05-04",
          "2018-05-04",
          "2018-05-03",
          "2018-05-03",
          "2018-05-03",
          "2018-05-02",
          "2018-05-02",
          "2018-05-02",
          "2018-04-30",
          "2018-04-30",
          "2018-04-30",
          "2018-04-27",
          "2018-04-26",
          "2018-04-25",
          "2018-04-25",
          "2018-04-25",
          "2018-04-25",
          "2018-04-25",
          "2018-04-24",
          "2018-04-24",
          "2018-04-23",
          "2018-04-20",
          "2018-04-20",
          "2018-04-19",
          "2018-04-19",
          "2018-04-17",
          "2018-04-14",
          "2018-04-13",
          "2018-04-12",
          "2018-04-12",
          "2018-04-12",
          "2018-04-10",
          "2018-04-09",
          "2018-04-05",
          "2018-04-05",
          "2018-04-05",
          "2018-04-05",
          "2018-04-05",
          "2018-04-03",
          "2018-04-03",
          "2018-04-02",
          "2018-04-02",
          "2018-03-30",
          "2018-03-29",
          "2018-03-26",
          "2018-03-23",
          "2018-03-22",
          "2018-03-21",
          "2018-03-19",
          "2018-03-17",
          "2018-03-16",
          "2018-03-16",
          "2018-03-15",
          "2018-03-14",
          "2018-03-13",
          "2018-03-13",
          "2018-03-12",
          "2018-03-10",
          "2018-03-09",
          "2018-03-09",
          "2018-03-07",
          "2018-03-06",
          "2018-03-06",
          "2018-03-06",
          "2018-03-05",
          "2018-03-01",
          "2018-03-01",
          "2018-02-28",
          "2018-02-26",
          "2018-02-24",
          "2018-02-24",
          "2018-02-23",
          "2018-02-23",
          "2018-02-23",
          "2018-02-17",
          "2018-02-16",
          "2018-02-16",
          "2018-02-15",
          "2018-02-15",
          "2018-02-15",
          "2018-02-14",
          "2018-02-13",
          "2018-02-12",
          "2018-02-12",
          "2018-02-12",
          "2018-02-12",
          "2018-02-09",
          "2018-02-07",
          "2018-02-06",
          "2018-02-05",
          "2018-02-01",
          "2018-02-01",
          "2018-02-01",
          "2018-01-31",
          "2018-01-29",
          "2018-01-29",
          "2018-01-28",
          "2018-01-28",
          "2018-01-26",
          "2018-01-25",
          "2018-01-25",
          "2018-01-25",
          "2018-01-25",
          "2018-01-24",
          "2018-01-23",
          "2018-01-22",
          "2018-01-19",
          "2018-01-19",
          "2018-01-18",
          "2018-01-18",
          "2018-01-18",
          "2018-01-17",
          "2018-01-16",
          "2018-01-14",
          "2018-01-12",
          "2018-01-11",
          "2018-01-10",
          "2018-01-09",
          "2018-01-08",
          "2018-01-08",
          "2018-01-05",
          "2018-01-03",
          "2018-01-03",
          "2018-01-02",
          "2018-01-02"
         ],
         "xaxis": "x",
         "y": [
          -0.19999999999999998,
          0.13333333333333333,
          0,
          -0.2,
          -0.175,
          -0.09999999999999999,
          0,
          -0.5,
          0.16666666666666666,
          0.30000000000000004,
          0,
          -0.025,
          -0.09722222222222221,
          0.17499999999999996,
          0,
          0,
          0,
          0.3666666666666667,
          0.12222222222222223,
          0.25,
          0.04999999999999999,
          0.1,
          0.1875,
          0.16666666666666666,
          0,
          0.275,
          0,
          0,
          0,
          0.06818181818181818,
          0,
          0.15000000000000002,
          0.6,
          0.4,
          -0.125,
          0.06818181818181818,
          0.34329004329004326,
          0.04206349206349207,
          0.16666666666666666,
          0.3,
          0,
          0.47222222222222227,
          0,
          0,
          -0.08333333333333333,
          -0.25,
          0,
          0,
          -0.225,
          1,
          0,
          0,
          0.2833333333333333,
          0.5,
          -0.1,
          0,
          0.03409090909090909,
          0.025000000000000022,
          0.2715909090909091,
          0.6,
          0.375,
          -0.1,
          0.21111111111111114,
          -0.2333333333333333,
          0,
          0.25,
          0,
          0.16,
          0.4,
          0.2111111111111111,
          -0.5,
          0.5,
          0,
          0.4166666666666667,
          0.1722222222222222,
          0.5,
          -0.08333333333333333,
          0,
          0.175,
          0.2023809523809524,
          0.25,
          0,
          0.5,
          0.14727272727272728,
          0.25,
          0.25,
          0.3333333333333333,
          0,
          0,
          0,
          0,
          0.55,
          0.5,
          0,
          0.5,
          -0.013131313131313133,
          -0.004155844155844158,
          0.13333333333333333,
          -0.125,
          0.16666666666666666,
          0.1,
          0.5916666666666667,
          0,
          0.23333333333333336,
          0.25,
          0,
          0.2556818181818182,
          0,
          -0.2,
          0,
          0.25,
          0.125,
          -0.325,
          0.3,
          -0.11666666666666667,
          0,
          0.2125,
          -0.06666666666666667,
          0.22857142857142856,
          -0.13181818181818183,
          -0.175,
          0.39999999999999997,
          0,
          0,
          -0.022222222222222227,
          0.34659090909090906,
          0,
          0.14166666666666666,
          -0.1388888888888889,
          0,
          0.10833333333333334,
          0,
          -0.125,
          -0.30000000000000004,
          0.2,
          0.5,
          -0.3999999999999999,
          0,
          0.13333333333333333,
          0,
          0.29,
          0,
          0.14727272727272728,
          0.28,
          0.25,
          0.25,
          0.3333333333333333,
          0.13636363636363635,
          0.15,
          0.8,
          0,
          -0.25625,
          0.35,
          0.03333333333333333,
          0.13636363636363635,
          0.4583333333333333,
          0.5,
          0.09583333333333333,
          0.0625,
          0.3,
          0.3,
          0,
          0.23106060606060608,
          0,
          0,
          0,
          0,
          0.1994047619047619,
          0,
          0.4,
          -0.4,
          0,
          0.11727272727272728,
          0.125,
          0.65,
          0.24545454545454545,
          0,
          -0.5,
          0,
          0,
          0,
          0.21212121212121213,
          0,
          0,
          0,
          -0.16666666666666669,
          0,
          -0.06999999999999999,
          0.16666666666666666,
          0.3,
          0.3333333333333333,
          -0.125,
          0.5,
          0.16666666666666666,
          0.05833333333333333,
          -0.09999999999999999,
          0,
          0.2,
          0.06666666666666667,
          0,
          0,
          0.04545454545454545,
          0.2333333333333333,
          0.4,
          0.16212121212121214,
          0,
          0.06818181818181818,
          1,
          0.4,
          0,
          0.2215909090909091,
          0.29545454545454547,
          0.04545454545454545,
          0,
          0.15,
          0.1,
          -0.0625,
          0.043181818181818175,
          0,
          0.1,
          0.3666666666666667,
          -0.125,
          0.2714285714285714,
          0.3,
          0,
          0.198015873015873,
          0.0028409090909090884,
          0.5111111111111111,
          0.16060606060606059,
          0.08,
          0.21818181818181817,
          0.55,
          0,
          0,
          0.3,
          0.3,
          0.25,
          -0.075,
          0.4431818181818182,
          -0.15000000000000002,
          0.06666666666666667,
          0,
          0.13636363636363635,
          0.0175,
          0.5,
          0,
          0.13636363636363635,
          0,
          0.8,
          -0.3545454545454545,
          0.23884032634032634,
          -0.07777777777777777,
          0,
          -0.125,
          0,
          0,
          0.2380952380952381,
          0.1312121212121212,
          0.125,
          -0.07777777777777779,
          -0.0975,
          -0.12638888888888888,
          0.37878787878787873,
          0.13333333333333333,
          0,
          0.6,
          0.2,
          0.125,
          0,
          -0.03787878787878788,
          0.19999999999999998,
          0,
          0.02727272727272727,
          0,
          0.252,
          0.37666666666666665,
          0.08296969696969697,
          0.09999999999999999,
          0,
          0,
          0.25,
          -0.16666666666666666,
          0.5,
          0.55,
          0,
          0.09375,
          0.09999999999999999,
          -0.30000000000000004,
          -0.3333333333333333,
          0.375,
          0.13333333333333333,
          0.25,
          -0.058712121212121215,
          0.15833333333333333,
          -0.6666666666666666,
          0.125,
          0.4619047619047619,
          0,
          0.2297979797979798,
          0.06166666666666666,
          0.6,
          0.17222222222222225,
          0.19454545454545455,
          -0.025,
          0.55,
          -0.1,
          -0.2,
          0,
          0,
          0,
          0.06628787878787878,
          0,
          -0.25,
          0.10492424242424242,
          0.25,
          -0.5,
          0,
          -0.19090909090909092,
          0.15,
          0.3333333333333333,
          0.37878787878787873,
          -0.08333333333333333,
          0.5681818181818181,
          0.5,
          0.17222222222222222,
          0,
          0.13636363636363635,
          0.6,
          0.05,
          0,
          0,
          0.55,
          0,
          0.3333333333333333,
          0,
          0.35555555555555557,
          0.35,
          0.2875,
          0,
          0.2,
          0.10912698412698411,
          0.03409090909090909,
          0,
          0.13636363636363635,
          -0.125,
          0.4121212121212121,
          0,
          0,
          -0.2916666666666667,
          0,
          0.13636363636363635,
          0,
          0.05555555555555556,
          0.29545454545454547,
          -0.06666666666666667,
          0,
          0.175,
          0.22499999999999998,
          0.5,
          0,
          0.25,
          0,
          0.2,
          -0.10909090909090909,
          0.18212121212121213,
          0,
          -0.25,
          0.2583333333333333,
          0.35,
          0.19999999999999998,
          -0.4,
          -0.07500000000000001,
          -0.175,
          -0.07777777777777779,
          0.5,
          0,
          0.35,
          0.5,
          -0.125,
          0,
          0
         ],
         "yaxis": "y"
        }
       ],
       "layout": {
        "font": {
         "color": "#d62728",
         "family": "Times New Roman, monospace",
         "size": 18
        },
        "height": 600,
        "legend": {
         "tracegroupgap": 0
        },
        "margin": {
         "t": 60
        },
        "template": {
         "data": {
          "bar": [
           {
            "error_x": {
             "color": "#2a3f5f"
            },
            "error_y": {
             "color": "#2a3f5f"
            },
            "marker": {
             "line": {
              "color": "#E5ECF6",
              "width": 0.5
             }
            },
            "type": "bar"
           }
          ],
          "barpolar": [
           {
            "marker": {
             "line": {
              "color": "#E5ECF6",
              "width": 0.5
             }
            },
            "type": "barpolar"
           }
          ],
          "carpet": [
           {
            "aaxis": {
             "endlinecolor": "#2a3f5f",
             "gridcolor": "white",
             "linecolor": "white",
             "minorgridcolor": "white",
             "startlinecolor": "#2a3f5f"
            },
            "baxis": {
             "endlinecolor": "#2a3f5f",
             "gridcolor": "white",
             "linecolor": "white",
             "minorgridcolor": "white",
             "startlinecolor": "#2a3f5f"
            },
            "type": "carpet"
           }
          ],
          "choropleth": [
           {
            "colorbar": {
             "outlinewidth": 0,
             "ticks": ""
            },
            "type": "choropleth"
           }
          ],
          "contour": [
           {
            "colorbar": {
             "outlinewidth": 0,
             "ticks": ""
            },
            "colorscale": [
             [
              0,
              "#0d0887"
             ],
             [
              0.1111111111111111,
              "#46039f"
             ],
             [
              0.2222222222222222,
              "#7201a8"
             ],
             [
              0.3333333333333333,
              "#9c179e"
             ],
             [
              0.4444444444444444,
              "#bd3786"
             ],
             [
              0.5555555555555556,
              "#d8576b"
             ],
             [
              0.6666666666666666,
              "#ed7953"
             ],
             [
              0.7777777777777778,
              "#fb9f3a"
             ],
             [
              0.8888888888888888,
              "#fdca26"
             ],
             [
              1,
              "#f0f921"
             ]
            ],
            "type": "contour"
           }
          ],
          "contourcarpet": [
           {
            "colorbar": {
             "outlinewidth": 0,
             "ticks": ""
            },
            "type": "contourcarpet"
           }
          ],
          "heatmap": [
           {
            "colorbar": {
             "outlinewidth": 0,
             "ticks": ""
            },
            "colorscale": [
             [
              0,
              "#0d0887"
             ],
             [
              0.1111111111111111,
              "#46039f"
             ],
             [
              0.2222222222222222,
              "#7201a8"
             ],
             [
              0.3333333333333333,
              "#9c179e"
             ],
             [
              0.4444444444444444,
              "#bd3786"
             ],
             [
              0.5555555555555556,
              "#d8576b"
             ],
             [
              0.6666666666666666,
              "#ed7953"
             ],
             [
              0.7777777777777778,
              "#fb9f3a"
             ],
             [
              0.8888888888888888,
              "#fdca26"
             ],
             [
              1,
              "#f0f921"
             ]
            ],
            "type": "heatmap"
           }
          ],
          "heatmapgl": [
           {
            "colorbar": {
             "outlinewidth": 0,
             "ticks": ""
            },
            "colorscale": [
             [
              0,
              "#0d0887"
             ],
             [
              0.1111111111111111,
              "#46039f"
             ],
             [
              0.2222222222222222,
              "#7201a8"
             ],
             [
              0.3333333333333333,
              "#9c179e"
             ],
             [
              0.4444444444444444,
              "#bd3786"
             ],
             [
              0.5555555555555556,
              "#d8576b"
             ],
             [
              0.6666666666666666,
              "#ed7953"
             ],
             [
              0.7777777777777778,
              "#fb9f3a"
             ],
             [
              0.8888888888888888,
              "#fdca26"
             ],
             [
              1,
              "#f0f921"
             ]
            ],
            "type": "heatmapgl"
           }
          ],
          "histogram": [
           {
            "marker": {
             "colorbar": {
              "outlinewidth": 0,
              "ticks": ""
             }
            },
            "type": "histogram"
           }
          ],
          "histogram2d": [
           {
            "colorbar": {
             "outlinewidth": 0,
             "ticks": ""
            },
            "colorscale": [
             [
              0,
              "#0d0887"
             ],
             [
              0.1111111111111111,
              "#46039f"
             ],
             [
              0.2222222222222222,
              "#7201a8"
             ],
             [
              0.3333333333333333,
              "#9c179e"
             ],
             [
              0.4444444444444444,
              "#bd3786"
             ],
             [
              0.5555555555555556,
              "#d8576b"
             ],
             [
              0.6666666666666666,
              "#ed7953"
             ],
             [
              0.7777777777777778,
              "#fb9f3a"
             ],
             [
              0.8888888888888888,
              "#fdca26"
             ],
             [
              1,
              "#f0f921"
             ]
            ],
            "type": "histogram2d"
           }
          ],
          "histogram2dcontour": [
           {
            "colorbar": {
             "outlinewidth": 0,
             "ticks": ""
            },
            "colorscale": [
             [
              0,
              "#0d0887"
             ],
             [
              0.1111111111111111,
              "#46039f"
             ],
             [
              0.2222222222222222,
              "#7201a8"
             ],
             [
              0.3333333333333333,
              "#9c179e"
             ],
             [
              0.4444444444444444,
              "#bd3786"
             ],
             [
              0.5555555555555556,
              "#d8576b"
             ],
             [
              0.6666666666666666,
              "#ed7953"
             ],
             [
              0.7777777777777778,
              "#fb9f3a"
             ],
             [
              0.8888888888888888,
              "#fdca26"
             ],
             [
              1,
              "#f0f921"
             ]
            ],
            "type": "histogram2dcontour"
           }
          ],
          "mesh3d": [
           {
            "colorbar": {
             "outlinewidth": 0,
             "ticks": ""
            },
            "type": "mesh3d"
           }
          ],
          "parcoords": [
           {
            "line": {
             "colorbar": {
              "outlinewidth": 0,
              "ticks": ""
             }
            },
            "type": "parcoords"
           }
          ],
          "pie": [
           {
            "automargin": true,
            "type": "pie"
           }
          ],
          "scatter": [
           {
            "marker": {
             "colorbar": {
              "outlinewidth": 0,
              "ticks": ""
             }
            },
            "type": "scatter"
           }
          ],
          "scatter3d": [
           {
            "line": {
             "colorbar": {
              "outlinewidth": 0,
              "ticks": ""
             }
            },
            "marker": {
             "colorbar": {
              "outlinewidth": 0,
              "ticks": ""
             }
            },
            "type": "scatter3d"
           }
          ],
          "scattercarpet": [
           {
            "marker": {
             "colorbar": {
              "outlinewidth": 0,
              "ticks": ""
             }
            },
            "type": "scattercarpet"
           }
          ],
          "scattergeo": [
           {
            "marker": {
             "colorbar": {
              "outlinewidth": 0,
              "ticks": ""
             }
            },
            "type": "scattergeo"
           }
          ],
          "scattergl": [
           {
            "marker": {
             "colorbar": {
              "outlinewidth": 0,
              "ticks": ""
             }
            },
            "type": "scattergl"
           }
          ],
          "scattermapbox": [
           {
            "marker": {
             "colorbar": {
              "outlinewidth": 0,
              "ticks": ""
             }
            },
            "type": "scattermapbox"
           }
          ],
          "scatterpolar": [
           {
            "marker": {
             "colorbar": {
              "outlinewidth": 0,
              "ticks": ""
             }
            },
            "type": "scatterpolar"
           }
          ],
          "scatterpolargl": [
           {
            "marker": {
             "colorbar": {
              "outlinewidth": 0,
              "ticks": ""
             }
            },
            "type": "scatterpolargl"
           }
          ],
          "scatterternary": [
           {
            "marker": {
             "colorbar": {
              "outlinewidth": 0,
              "ticks": ""
             }
            },
            "type": "scatterternary"
           }
          ],
          "surface": [
           {
            "colorbar": {
             "outlinewidth": 0,
             "ticks": ""
            },
            "colorscale": [
             [
              0,
              "#0d0887"
             ],
             [
              0.1111111111111111,
              "#46039f"
             ],
             [
              0.2222222222222222,
              "#7201a8"
             ],
             [
              0.3333333333333333,
              "#9c179e"
             ],
             [
              0.4444444444444444,
              "#bd3786"
             ],
             [
              0.5555555555555556,
              "#d8576b"
             ],
             [
              0.6666666666666666,
              "#ed7953"
             ],
             [
              0.7777777777777778,
              "#fb9f3a"
             ],
             [
              0.8888888888888888,
              "#fdca26"
             ],
             [
              1,
              "#f0f921"
             ]
            ],
            "type": "surface"
           }
          ],
          "table": [
           {
            "cells": {
             "fill": {
              "color": "#EBF0F8"
             },
             "line": {
              "color": "white"
             }
            },
            "header": {
             "fill": {
              "color": "#C8D4E3"
             },
             "line": {
              "color": "white"
             }
            },
            "type": "table"
           }
          ]
         },
         "layout": {
          "annotationdefaults": {
           "arrowcolor": "#2a3f5f",
           "arrowhead": 0,
           "arrowwidth": 1
          },
          "coloraxis": {
           "colorbar": {
            "outlinewidth": 0,
            "ticks": ""
           }
          },
          "colorscale": {
           "diverging": [
            [
             0,
             "#8e0152"
            ],
            [
             0.1,
             "#c51b7d"
            ],
            [
             0.2,
             "#de77ae"
            ],
            [
             0.3,
             "#f1b6da"
            ],
            [
             0.4,
             "#fde0ef"
            ],
            [
             0.5,
             "#f7f7f7"
            ],
            [
             0.6,
             "#e6f5d0"
            ],
            [
             0.7,
             "#b8e186"
            ],
            [
             0.8,
             "#7fbc41"
            ],
            [
             0.9,
             "#4d9221"
            ],
            [
             1,
             "#276419"
            ]
           ],
           "sequential": [
            [
             0,
             "#0d0887"
            ],
            [
             0.1111111111111111,
             "#46039f"
            ],
            [
             0.2222222222222222,
             "#7201a8"
            ],
            [
             0.3333333333333333,
             "#9c179e"
            ],
            [
             0.4444444444444444,
             "#bd3786"
            ],
            [
             0.5555555555555556,
             "#d8576b"
            ],
            [
             0.6666666666666666,
             "#ed7953"
            ],
            [
             0.7777777777777778,
             "#fb9f3a"
            ],
            [
             0.8888888888888888,
             "#fdca26"
            ],
            [
             1,
             "#f0f921"
            ]
           ],
           "sequentialminus": [
            [
             0,
             "#0d0887"
            ],
            [
             0.1111111111111111,
             "#46039f"
            ],
            [
             0.2222222222222222,
             "#7201a8"
            ],
            [
             0.3333333333333333,
             "#9c179e"
            ],
            [
             0.4444444444444444,
             "#bd3786"
            ],
            [
             0.5555555555555556,
             "#d8576b"
            ],
            [
             0.6666666666666666,
             "#ed7953"
            ],
            [
             0.7777777777777778,
             "#fb9f3a"
            ],
            [
             0.8888888888888888,
             "#fdca26"
            ],
            [
             1,
             "#f0f921"
            ]
           ]
          },
          "colorway": [
           "#636efa",
           "#EF553B",
           "#00cc96",
           "#ab63fa",
           "#FFA15A",
           "#19d3f3",
           "#FF6692",
           "#B6E880",
           "#FF97FF",
           "#FECB52"
          ],
          "font": {
           "color": "#2a3f5f"
          },
          "geo": {
           "bgcolor": "white",
           "lakecolor": "white",
           "landcolor": "#E5ECF6",
           "showlakes": true,
           "showland": true,
           "subunitcolor": "white"
          },
          "hoverlabel": {
           "align": "left"
          },
          "hovermode": "closest",
          "mapbox": {
           "style": "light"
          },
          "paper_bgcolor": "white",
          "plot_bgcolor": "#E5ECF6",
          "polar": {
           "angularaxis": {
            "gridcolor": "white",
            "linecolor": "white",
            "ticks": ""
           },
           "bgcolor": "#E5ECF6",
           "radialaxis": {
            "gridcolor": "white",
            "linecolor": "white",
            "ticks": ""
           }
          },
          "scene": {
           "xaxis": {
            "backgroundcolor": "#E5ECF6",
            "gridcolor": "white",
            "gridwidth": 2,
            "linecolor": "white",
            "showbackground": true,
            "ticks": "",
            "zerolinecolor": "white"
           },
           "yaxis": {
            "backgroundcolor": "#E5ECF6",
            "gridcolor": "white",
            "gridwidth": 2,
            "linecolor": "white",
            "showbackground": true,
            "ticks": "",
            "zerolinecolor": "white"
           },
           "zaxis": {
            "backgroundcolor": "#E5ECF6",
            "gridcolor": "white",
            "gridwidth": 2,
            "linecolor": "white",
            "showbackground": true,
            "ticks": "",
            "zerolinecolor": "white"
           }
          },
          "shapedefaults": {
           "line": {
            "color": "#2a3f5f"
           }
          },
          "ternary": {
           "aaxis": {
            "gridcolor": "white",
            "linecolor": "white",
            "ticks": ""
           },
           "baxis": {
            "gridcolor": "white",
            "linecolor": "white",
            "ticks": ""
           },
           "bgcolor": "#E5ECF6",
           "caxis": {
            "gridcolor": "white",
            "linecolor": "white",
            "ticks": ""
           }
          },
          "title": {
           "x": 0.05
          },
          "xaxis": {
           "automargin": true,
           "gridcolor": "white",
           "linecolor": "white",
           "ticks": "",
           "title": {
            "standoff": 15
           },
           "zerolinecolor": "white",
           "zerolinewidth": 2
          },
          "yaxis": {
           "automargin": true,
           "gridcolor": "white",
           "linecolor": "white",
           "ticks": "",
           "title": {
            "standoff": 15
           },
           "zerolinecolor": "white",
           "zerolinewidth": 2
          }
         }
        },
        "title": {
         "text": "Summary Sentiment"
        },
        "xaxis": {
         "anchor": "y",
         "domain": [
          0,
          1
         ],
         "title": {
          "text": "Date"
         }
        },
        "yaxis": {
         "anchor": "x",
         "domain": [
          0,
          1
         ],
         "range": [
          -1,
          1
         ],
         "title": {
          "text": "Summary Sentiment"
         }
        }
       }
      },
      "text/html": [
       "<div>\n",
       "        \n",
       "        \n",
       "            <div id=\"8e5e3076-5897-49b0-82b0-e2595f546979\" class=\"plotly-graph-div\" style=\"height:600px; width:100%;\"></div>\n",
       "            <script type=\"text/javascript\">\n",
       "                require([\"plotly\"], function(Plotly) {\n",
       "                    window.PLOTLYENV=window.PLOTLYENV || {};\n",
       "                    \n",
       "                if (document.getElementById(\"8e5e3076-5897-49b0-82b0-e2595f546979\")) {\n",
       "                    Plotly.newPlot(\n",
       "                        '8e5e3076-5897-49b0-82b0-e2595f546979',\n",
       "                        [{\"hoverlabel\": {\"namelength\": 0}, \"hovertemplate\": \"<b>%{hovertext}</b><br><br>x=%{x}<br>y=%{y}\", \"hovertext\": [\" The Making of the Picky Eater \", \" U.S. Food Inspections Slow Amid Government Shutdown \", \" Vol. 31, No. 12: A 2019 To-Do List \", \" H.I.G. Capital Acquires Lipari Foods \", \" Are Those Gold Teeth or Did You Just Eat in the Gaudiest Place on Earth? \", \" Lay Off the Bears Kicker! \", \" A Soda Tax and Consequences \", \" Mensa\\u2019s Debate: Deep Thinking or Games and Drinking? \", \" The Most Satisfying Vegetable Soup \", \" A Season to Give Food the Attention It Deserves \", \" Trump\\u2019s Broken Nafta Promise \", \" Puerto Rico on the Rebound: A Three-Day Getaway Guide \", \" How Fortnite Triggered an Unwinnable War Between Parents and Their Boys \", \" Luxury Homeowners Discover the Delight of Sicily Living \", \" The Daily Shot: Oil Companies Expected to Slash Investment as Prices Tumble \", \" U.S. Prepares More Payments to Trade-Hit Farmers \", \" Real Time Economics: What Will the Fed Signal for 2019? \", \" America Can\\u2019t Move Its Cheese \", \" A Rare Disease Won\\u2019t Keep This Mountain Man Off the Trails \", \" \\u2018Little Culinary Triumphs\\u2019 and \\u2018Something Great and Beautiful\\u2019 Review: Staff of Life, Stuff of Farce \", \" And Now, The Most Unmemorable Moments of 2018 \", \" Europe and Japan\\u2019s Cheese-for-Cars Trade Deal to Launch Next Year \", \" What Your Holiday Table Has Been Missing \", \" Geneva Beyond the Clich\\u00e9 \", \" Winter\\u2019s Most Refreshing Salad \", \" McDonald\\u2019s to Trim Antibiotics From Its Beef \", \" Real Time Economics: Brexit, Trade Talks and Protests \", \" A Chic Scottish Sojourn Among the Manors \", \" Space Race Pioneer Planted Roots in Milwaukee \", \" A Spanish Food and Wine Region Comes Alive Again \", \" 30-Minute Pasta With a Superlative Sausage Rag\\u00f9 \", \" In Nafta Rewrite, Canada Took Cue From Mexico: Make a Big Concession \", \" \\u2018Never Home Alone\\u2019 Review: The Critters Chez Nous \", \" Consumer Beware: With Less Trade Comes Less Choice \", \" Playwright Edward Albee\\u2019s Manhattan Loft Hits Market for Almost $9 Million \", \" The Funky Tribeca Loft of Playwright Edward Albee \", \" In Search of a New York Bagel in Europe \", \" Aerial Yoga Is How This Exec Stays Grounded \", \" Should Cows Have Horns? Switzerland Will Decide \", \" Europe in Winter: 35 Reasons to Visit Off-Season \", \" Checking Out New York\\u2019s Online Grocery Stores and All Their Trimmings \", \" 27 More Rules of Thanksgiving Family Touch Football \", \" \\u2018Buttermilk Graffiti\\u2019 Review: What\\u2019s Your Order? \", \" What Your CEO Is Reading: Silicon Valley Meatheads; School Fail \", \" The Morning Download: When Antiquated Tech Leaves Families Hanging \", \" Pies That Bind: Thanksgiving Recipes From the Heartland \", \" The Roundup \", \" Racing for Your Flight but Need a Winter Coat? Try the Airport Vending Machine \", \" Once-Worthless Radio Waves Get New Life in Spectrum Auction \", \" Which Houseplants Grow Best in Low Light? \", \" An Ultramarathon Runner at 71 \", \" My Short List of Things That Need to Be \\u2018De-Invented\\u2019 \", \" Why Mayonnaise is Magic \", \" When It Comes to This Ingredient, Believe the Hype \", \" The Unseen Cost of Subscription Boxes \", \" A New Breed of Innkeepers for the Airbnb Era \", \" In Russia, McDonald\\u2019s Serves Local Fries and a Side of Realpolitik \", \" U.S.-China Trade Tensions on Display at Shanghai Expo \", \" Letitia James Elected New York Attorney General \", \" The Left Is Lukewarm on Elizabeth Warren \", \" Eleven Madison Park Heads West \", \" U.S. Faces Newly Muscular Taliban in Peace-Talk Efforts \", \" A Breakdancing Underdog at 60 \", \" Oil Prices Are Mixed as Iran Sanctions Loom \", \" Eating Should Feed All of Our Senses \", \" David Chang\\u2019s Culinary Universe Is Still Growing \", \" In Pittsburgh, Preparing to Sit Shiva for 11 \", \" Kraft Heinz\\u2019s Profit Suffers as Costs Rise \", \" In Tight Upstate Race, Democrats Push Weekenders to Vote \", \" Is It Still Thanksgiving If You Don\\u2019t Serve Turkey? \", \" Skier Picabo Street Used Anger to Banish Fear and Become an Olympic Champion \", \" Utz Quality Foods Thrives On Guilty Pleasures \", \" 101 Ways to Live, Work and Goof Off More Ambitiously \", \" Hershey Fights Higher Costs by Charging More for Chocolate \", \" Sorry Grandma, Your Soup Looks Boring on Instagram. So We\\u2019re \\u2018Fixing\\u2019 It \", \" Where to Find the Most Remarkable Margaritas in San Antonio \", \" The Best Under-the-Radar Food Destination in the U.S. \", \" Cyber Daily: Hacking Expands; Shortage of Cybercrime Fighters Does, Too \", \" \\u2018The Art of Rube Goldberg\\u2019 Review: The Machinery of Humor \", \" After Years on the Right, Dennis Miller Wants to Find Comedy\\u2019s Middle Ground \", \" The Party Host\\u2019s Pro Move of the Season \", \" The Best Reason to Bake, Not Fry: Flavor \", \" Anyone for Diglycerides? Anyone? Food Scientists Are Getting Fed Up With Picky Eaters \", \" 5 Mood-Lifting Museums \", \" Claire Foy\\u2019s Moment \", \" Kraft Heinz Launches $100 Million Venture Fund \", \" The Horror Ahead if We Topple the King of Apples \", \" Energy Journal: Investors Eye Iran\\u2019s Falling Oil Exports \", \" Real Time Economics: Why Employers Can\\u2019t Find Blue-Collar Workers | Trump\\u2019s New Trade Template | \\u2018The Fed Is Independent\\u2019 \", \" Food Banks Reap Unexpected Bounty From Trade Disputes \", \" John Bryan Led Sara Lee and Raised Funds for Chicago\\u2019s Millennium Park \", \" An Insider\\u2019s Guide to Napa Valley\\u2014100% Cliche-Free \", \" Robot Restaurants: The Good Versus the Gimmicks \", \" Six Technologies That Could Shake the Food World \", \" \\u2018The Fifth Risk\\u2019 Review: Managing the Unmanageable \", \" U.S. Farmers Welcome New North American Trade Pact \", \" U.S. Dairy Farmers Score Gains in New Trade Deal \", \" Lettuce and Love Notes: The Competitive World of School Lunches \", \" Dancing Through a Family\\u2019s Dark Times \", \" Food Executives Look to Better Integrate Smaller Brands \", \" \\u2018The Missing Ingredient\\u2019 Review: Parsley, Sage and Time \", \" These Quesadillas Are Easy to Make, Easy to Love \", \" U.S. Farm Sector Braces For Protracted Trade Fight \", \" McDonald\\u2019s Removes Artificial Ingredients From Burgers \", \" Pizza Museum Aims to Be Upper Crust of Pop-Up Exhibitions \", \" Airlines Try to Whip Up Better Meals for Coach Fliers \", \" Eat Like a Model (And Still Be Satisfied) \", \" California Farmers Are Trade-War Casualties \", \" Facial Recognition Goes Mainstream \", \" Judge Will Appoint Trustee to Run Huge Oregon Dairy \", \" Canada Rethinks Defense of Dairy Farmers as Industry\\u2019s Heft Wanes \", \" Pipe Pressure Eyed in Gas Blasts \", \" \\u2018Jell-O Girls\\u2019 Review: They Broke the Mold \", \" Are Eggs Bad for You? Two Scientists Square Off \", \" Stocks to Watch: Qualcomm, Tesla, Boeing, Kroger, Fitbit, Altria, Tailored Brands, Pivotal Software, Hershey \", \" Hershey to Buy Pirate\\u2019s Booty Maker for $420 Million \", \" Cinnamon-Raisin Bagels Face a Schmear Campaign in New York \", \" Olaf Carlson-Wee Rode the Bitcoin Boom to Silicon Valley Riches. Can He Survive the Crash? \", \" See Food: Why Robots Are Producing More of What You Eat \", \" A Michelin-Starred Birthday Dinner That Changed a Celebrity Chef\\u2019s Life \", \" WSJ Wealth Adviser Briefing: Adviser Outsourcing, Fiduciary Rule, Cheese \", \" Cook\\u2019s Trick: Go Ahead and Overdo It \", \" The Cheese You Need Right Now \", \" European Barge Cruises That Are Anything But Boring \", \" No, A Salad Doesn\\u2019t Make that Burger Healthier \", \" NYC Chancellor, Mayor Greet School Year, Emphasizing Equity \", \" Who Needs Dishes When You Can Serve Soup in a Stiletto \", \" Why Milk Matters in U.S.-Canada Trade Feud \", \" Restaurants Will Feast on Trump\\u2019s Tariffs, Just Not Yet \", \" All Hands on Deck \", \" Iran Struggles to Rein In Illicit Trade in Dollars \", \" Half a Nafta \", \" Hog, Cattle Prices Jump on U.S.-Mexico Trade Deal \", \" Crossing Delancey: A Refuge for Pushcart Vendors Gets a Prime New Home \", \" Beyond Soda: How and Why Your Beverage Options Are Exploding \", \" The Scan That Saved My Life \", \" A College President\\u2019s Spin on Fitness \", \" Immigration and an Ohio Town \", \" This Training Tweak Keeps Him Running at 70 \", \" Best-Selling Books Week Ended Aug. 12 \", \" Could This Appliance Replace Your Oven? \", \" This Salad Is the Best Way to Use All the Vegetables You Have Right Now \", \" The Wine Lover\\u2019s Summer Reading List \", \" Graham Partners Invests in Advanced Barrier Extrusions \", \" The \\u2018King of Fruits\\u2019 Smells Like Gym Socks\\u2014and Fans Fear There Won\\u2019t Be Enough \", \" The Science Behind the World\\u2019s Longest Flights \", \" Kraft Heinz, Maker of Kool-Aid and Jell-O, Thinks Healthy \", \" New York Helps Give Some of Its Iconic Bodegas a Makeover \", \" We All Speak American \", \" Should Tourists Ride Elephants in Thailand? \", \" \\u2018The Tangled Tree\\u2019 Review: From Tiny Seeds \", \" The Morning Download: MGM CDO Finds AI Hiring No Game of Chance \", \" Whole Foods Introduces Grocery Pickup for Online Orders \", \" Commissions Are Mulvaney\\u2019s Error of Omission \", \" Kraft Heinz Projects Stronger Sales Growth \", \" Enough Already With \\u2018Reinvented\\u2019 Dishes\\u2014Let\\u2019s Get the Classics Right \", \" So Your Wife Embezzled $500,000 and the IRS Wants to Tax You \", \" The Newest Venture Capitalists: Food Companies \", \" Yes, You Can Pair Wine With Vegetables \", \" Crikey, Bruce, Our Aussie Lingo Has Gone Walkabout \", \" Chlo\\u00e9\\u2019s New Creative Director Is Just Like You \", \" San Francisco Equity Partners Invests in Frozen Foods Brand Brazi Bites \", \" Italy Threatens to Bring Down EU-Canada Free Trade Deal \", \" A Getaway to the \\u2018Tuscany of America\\u2019 \", \" A Grain Escape to the Palouse \", \" Trump Says He \\u2018Opened Up Europe\\u2019 for Farmers. Europeans Disagree. \", \" The Messy Business of Selling Meal Kits \", \" This Peak-Summer Salad is All the Meal You Need \", \" Land O\\u2019Lakes Names Next CEO \", \" Japan and Germany Find Common Ground Opposing Trump on Trade \", \" Feds Want Trustee to Manage Bankrupt Oregon Mega-dairy \", \" The \\u2018Everything Handmade\\u2019 Trend Will Curb Job Losses \", \" Real Time Economics: Trump Complains About the Fed, China Weakens the Yuan \", \" U.S. Grain Prices Crunched by Trade Fears \", \" Grilling the Perfect Steak in Curtis Stone\\u2019s Outdoor Kitchen \", \" Not-the-Same-Old Insider\\u2019s Guide to Newport, R.I. \", \" Why Chefs Are Elevating Rice to Star Ingredient Status \", \" The World Cup of Boring Celebrations \", \" Fiction: A Depraved and Beautiful Dream of the World \", \" From Seafood to Mattresses: How the Latest Tariffs Would Affect U.S. Businesses \", \" Grungy and Unkempt in the U.S.A. \", \" Cleveland Hopes to Become the Next Venice \", \" The Daily Shot: Soybeans Distorting U.S. GDP Growth \", \" How U.S. and China Tariffs Are Rippling Through U.S. Industries \", \" Capital Journal: Trump to Reveal Court Pick; The Final Four; Bracing for NATO Discord \", \" Waiter, There\\u2019s a Bloody Mary in My Chicken Dinner \", \" A Milk Startup Takes On 300 Million Cows \", \" Throw a Summer Party the Effortless Spanish Way \", \" The EU Has No Easy Answers to Trump\\u2019s Car Tariff Threats \", \" The Morning Risk Report: Midsize Firms Take Cybersecurity \\u2018Sweet Spot\\u2019 \", \" Real Time Economics: U.S. Workers Are Quitting Their Jobs. That\\u2019s Good For The Economy \", \" Take Our Cheese, Please: American Cheese Makers Suffer Under New Tariffs \", \" The World Cup\\u2019s Most Neutral Matchup \", \" Trade Fight Threatens Farm Belt Businesses \", \" The Morning Download: Some CIOs Jump into Startups \", \" For Intense Exercise During Recovery, She Just Added Water \", \" The Plight of the Humble Bee \", \" \\u2018She Has Her Mother\\u2019s Laugh\\u2019 Review: Biology\\u2019s Strange New World \", \" Summer Getaways That You Don\\u2019t Need To Sweat Over \", \" The Daily Shot: From Corn to Milk, U.S. Agricultural Commodities Slammed Amid Trade Worries \", \" Short of Workers, Fast-Food Restaurants Turn to Robots \", \" When Will Washington Stop Helping Amazon? \", \" Chef Is the New Astronaut: The Best Camps for Kids With Culinary Ambitions \", \" Someone Is Stealing Italy\\u2019s Most Precious Cheese \", \" House Narrowly Passes Bill to Reauthorize Farm Programs \", \" A Burger Joint Where Robots Make Your Food \", \" Titanic Artifacts May Soon Join Apollo, Alta Portfolios \", \" How to Get Off the Beaten Path in Paris \", \" \\u2018Go Beyond Sushi\\u2019: Tokyo\\u2019s Culinary Gems \", \" Mysteries: A Postmodern Procedural \", \" A Stress-Free Summer Weekend in the Catskills \", \" Are You a Catskills Person? \", \" One Dish Too Far: Japanese Fermented Soybeans \", \" Tariffs Further Pinch Consumer-Staple Stocks \", \" How to Spend an Indulgent Day in Madrid for $2,400\\u2014or $400 \", \" Bourdain vs. the Social-Justice Warriors \", \" The Nonstop Burn of Water Polo \", \" From the Village to the Bronx, N.Y. Restaurants Touched by Bourdain Mourn His Death \", \" Children\\u2019s Books: All Creatures Great and Small \", \" Why the Defining Game of This Golden State Warriors Dynasty Was a Loss \", \" A Surprisingly Kid-Friendly Vacation to Peru\\u2019s Sacred Valley \", \" Plant Swaps: The Cheap Way to Score Rare Houseplants \", \" Why the Frozen-Food Aisle Is Hot Right Now \", \" 11 Gifts to Help Dad Relax This Father\\u2019s Day \", \" Vol. 31, No. 5: Chaotic \", \" Real Time Economics: There Are More Job Openings Than People Looking For a Job \", \" Mexico and Canada Add to Nations Striking Fear in U.S. Farmers \", \" The Right Way for Food Companies to Buy Their Way to Growth \", \" It\\u2019s Taco Time for Restaurateur Danny Meyer \", \" Mexico Details Its List of Retaliatory Tariffs Against U.S., Adds Bourbon \", \" Food Companies Can\\u2019t Figure Out What Americans Want to Eat \", \" Seeing \\u2018Solo\\u2019 Solo: Brave Movie Lovers Hit Theaters Alone \", \" The Canard About Falling Incomes \", \" World Cup Announcer Andr\\u00e9s Cantor Hits His Own Fitness Goal \", \" U.S. Tariff Moves Jolt Nafta Talks \", \" U.S. Tariffs Prompt Anger, Retaliation From Trade Allies \", \" Trump\\u2019s Steel Destruction \", \" Streaming Service Cheddar Targets College Students After Acquiring MTV Campus Distribution Network \", \" Food Companies Churn Through CEOs, Desperate for Fresh Ideas \", \" Photos of the Day: May 28 \", \" A Fried Chicken Tasting Tour of Atlanta \", \" Parmesan vs. Sarmesan: How Dare the Europeans Move Our Cheese \", \" Short Stories for Summer Reading \", \" Summer Books: Beach Reading \", \" Where to Find the Finest Fried Chicken in Atlanta \", \" Small Brands Are Taking a Thousand Little Bites Out of Campbell\\u2019s Business \", \" Battle of the Sexes, Summertime Grilling Edition \", \" 6 Vacation Villas With Enviable Pools \", \" Soy, Almond, Pea or Oat? The Reinvention of Milk \", \" Don\\u2019t Try to Blackmail Us on Nafta, Mr. President \", \" Inside the Met Gala: Real-life cardinal gets star treatment \", \" Leland Yeager, an Economist Who Could Write \", \" In Japan, Doing More With Less Means Getting a Robot to Milk Your Cows \", \" \\u2018Victorians Undone\\u2019 Review: Bodies in Question \", \" Give Processed Food a Break \", \" Best-Selling Books Week Ended April 29 \", \" The Morning Ledger: U.S. Companies Report Best Earnings for Years After Corporate Tax Overhaul \", \" JetBlue says it will deliver fresh NYC pizza to Los Angeles \", \" When U.S. Cheese Goes Overseas, It Needs a Fake ID \", \" How to Eat Like an Italian \", \" Kraft Heinz Hasn\\u2019t Discovered the Magic Sauce \", \" Kraft Heinz\\u2019s Profit Rises Despite Sales Decline \", \" I\\u2019m Letting My Kids Stay Up Late to Watch LeBron James \", \" A Big Gulp of Kale Juice? 7-Eleven Struggles to Catch Fresh-Food Wave \", \" Venture Capitalists Talk About the Big Investments They Didn\\u2019t Make \", \" Traditional Czech open-faced sandwiches may be coming to US \", \" The Airport Lounge, Once a Refuge, Is a Total Zoo \", \" 24 Famous Globe-Trotters on the Hotels They Love Most \", \" The state that wants to spend more, not less, on prison food \", \" New York City Is Getting a Pizza Museum \", \" Welcome to the New Convenience Store \", \" A Hotel 30 Miles Outside Paris Where Equestrian Life Sets the Tone \", \" Can Men Wear Silk Shirts Without Looking Like Sleazeballs? \", \" Real Time Economics: Yields Up, Stocks Down | Trump Sending Trade Delegation to Beijing | Got A2 Milk? \", \" Hiking in Croatia: How to Master Some of the World\\u2019s Rarest Views \", \" Controversial New Milk Shakes Up Big Dairy \", \" At School With New York\\u2019s Next Top Chef, or Line Cook \", \" \\u2018My American Dream\\u2019 Review: The Bastianich Family Recipe \", \" \\u2018Mr. Lear\\u2019 Review: An Airborne Life of Art and Nonsense \", \" Brrrrrr! Frozen Baseball Should Cut Games \", \" How to Cook Smarter by Cooking Smaller \", \" A Divided Nation Reveals Itself In One Question: Hawaiian Pizza, Yes or No? \", \" His Goal: Finish the Boston Marathon by Hand \", \" \\u2018Pasta for Nightingales\\u2019 Review: Birdwatching Tips From the Renaissance \", \" Eat Joyfully, and Other Wise Advice From Nigella Lawson \", \" How To Make Gnocchi in 4 Simple Steps \", \" Why Cutlets Are What Everyone Wants for Dinner \", \" Chicago\\u2019s Traders Cling to Their Last Remaining Tradition: Littering \", \" Food Stamps Shouldn\\u2019t Pay for Junk \", \" Bain Capital Double Impact Fund Leads Vegan Restaurant Deal \", \" In Restaurant Trends, What Comes After Farm-to-Table? \", \" Baseball Rules Are Complicated Enough, Now Add Passover \", \" Smiles Hide Many Messages\\u2014Some Unfriendly \", \" Is an Upscale Uniform the Future of Office Fashion? \", \" Where\\u2019s Your Teen Sleeping? Check Chuck E. Cheese, Then Walmart \", \" High-End Dining for the High-Chair Set \", \" The Food That Helps Battle Depression \", \" GP Profile: FrenchFood Wants to Bring Local Flavors to the Global Stage \", \" Italian gourmet grocery pioneer Andrew Balducci dies at 92 \", \" Italy\\u2019s Restaurant Chains Are on the Menu for Private Equity \", \" Fans Embrace Loyola\\u2019s Magical Run With Harry Potter Theme \", \" Spring Break in Miami\\u2014With Our Toddlers \", \" Why Bogot\\u00e1 is Now on Ambitious Travelers\\u2019 Agendas \", \" 3 Perfect Days on Kauai: The Quintessential Hawaiian Island \", \" Beans: The Superfood You've Always Known \", \" A \\u2018Swim Mom\\u2019 Becomes the Competitor \", \" Buffalo Is the NCAA Tournament\\u2019s Cinderella. Why Aren\\u2019t They the Buffalo? \", \" Is the Internet Making Us Worse at Cooking? \", \" Upscale Farm Living (You Don\\u2019t Have to Get Your Hands Dirty) \", \" Fedspeak Cheat Sheet | U.S. Trade Rhetoric Threaten ECB\\u2019s Bond-Buying Plans | Kuroda: Smooth Exit Possible, But Not Just Yet | Poloz: Nafta Worries Already Hurting Investment | Douglas\\u2019s Take: Benign or Malign? Either Way it Means Higher Rates \", \" On a roll: MLB to feature ballpark menus at FoodFest in NY \", \" Quiche in, Beer Out of U.K.\\u2019s Official Inflation Basket \", \" Is Time Running Out for the Swiss Watch Industry? \", \" The Hottest Social Scene in Town Isn\\u2019t the Singles\\u2019 Bar. It\\u2019s the Supermarket. \", \" How to Stop Worrying and Love Hosting Dinner Parties \", \" Japan, the Original Trade Villain, Now Casts Itself as the Hero \", \" How to Spend an Indulgent Day in Rome for $2,000\\u2014or $400 \", \" Promoter of failed Fyre Festival pleads guilty to fraud \", \" Who\\u2019s Reaching Across the Political Aisle? Mom and Dad \", \" Does America Really Need Another Light Beer? Corona Thinks So \", \" Farm Bureau to highlight cider, apples and other NY products \", \" From Bulldozers to Beer, Tariffs Could Ripple Through U.S. Economy \", \" A Cliche-Free Guide to Santa Fe \", \" How To Do \\u2018Good Fat\\u2019 Better \", \" Brooklyn Food Distributor G.A.F. Seelig to Shut Down \", \" Is That Lenten Diet for God or for You? \", \" Contortion That\\u2019s No Circus Act \", \" Review: The Very Symbol of Modern Times \", \" Why General Mills Is Paying Up for a Dog\\u2019s Breakfast \", \" Best-Selling Books Week Ended Feb. 18 \", \" How an Amputee Excels on the Slopes \", \" Growth Is the Missing Ingredient for Kraft Heinz \", \" Big Food Faces Pressure as Consumers Seek Fresh Meals, Snacks \", \" Kraft Heinz Hints at Appetite for Deals \", \" Why Wine Lovers Are Flocking to Charleston, S.C. \", \" How to Nail Breakfast, Parisian Style: Two Craveable Crepe Recipes \", \" Corruption Currents: Netanyahu Calls Graft Allegations \\u2018Swiss Cheese\\u2019 \", \" Is Chocolate a Healthy Choice for Valentine\\u2019s Day? That Depends on Which Kind \", \" The Gospel According to Oprah \", \" Appetite for Italian Dining Swells \", \" Real Time Economics: Markets, Meet the Economy | The Trumponomics Experiment | Immigration Debate Begins \", \" Wisconsin, Facing a Worker Shortage, Pitches Its Benefits \", \" \\u2018Art of the Airport Tower\\u2019 \", \" Raf Simons evokes '70s Berlin drug culture in menswear show \", \" The All-Snack Dinner \", \" Review: The Promise of Virtual Reality \", \" Trump Manages to Unify My Country \", \" Next-Level Quesadillas With Brussels Sprouts and Chile Oil \", \" America\\u2019s Instant-Pot Anxiety: \\u2018I Said a Prayer and Stayed the Hell Away\\u2019 \", \" Brooklyn Food Distributor Draws One Offer During Bankruptcy Sale Process \", \" New Zealand Exports Set New December Record \", \" Saying No to Skynet? \", \" Turning to beet juice and beer to address road salt danger \", \" Carl\\u2019s Jr. Cooks Up a New York Expansion \", \" Deal Close Announcements: Jan. 22-26 \", \" Indians Clash Over National ID \", \" Tide Pod doughnuts are irreverent response to harmful trend \", \" Mr. 5%? \", \" Easy Meatless Recipe: Swiss Chard Enchiladas \", \" Celery: The Overachiever Ingredient That\\u2019s Already in Your Refrigerator \", \" Kang\\u2019s Take: Scooping Up Opportunities in the Dairy Space \", \" Why You\\u2019ll Want to Visit Rotterdam in 2018 \", \" Review: The Raw, the Kooks and Their \\u2018Hippie Food\\u2019 \", \" Brooklyn pizzeria parodies laundry pod trend with new pizza \", \" Hot-Chocolate Craze Heats Up Frosty New York City \", \" A Florida Beach Vacation with Snob Appeal \", \" Sarasota\\u2019s Arty Allure \", \" Michael B. Jordan Takes On His First Blockbuster Role\\u2014as a Villain \", \" The Last Place on Earth Where Everyone Still Loves Kmart \", \" Amazon\\u2019s Grocery Sales Increased After It Devoured Whole Foods \", \" Bond Markets Have Picked Up the Wrong Signal From Japan \", \" Good Grieg! I\\u2019ve Gotten Addicted to Norway \", \" Photos of the Day: Jan. 10 \", \" Domino\\u2019s CEO J. Patrick Doyle to Step Down in June \", \" An Excerpt From: \\u2018White Houses\\u2019 \", \" Will Trump Punish the Farm Belt? \", \" Blizzard-Proof Bowls: Savory Porridge Saves the Day \", \" Today\\u2019s Top Supply Chain and Logistics News From WSJ \", \" Dairies Are Awash in Organic Milk as Consumers Jump to Alternatives \", \" A Diet Strategy That Counts Time, Not Calories \", \" The Midterms and Other Stories to Watch for in 2018 \"], \"legendgroup\": \"\", \"marker\": {\"color\": \"#636efa\", \"symbol\": \"circle\"}, \"mode\": \"markers\", \"name\": \"\", \"showlegend\": false, \"type\": \"scatter\", \"x\": [\"2019-01-11\", \"2019-01-09\", \"2019-01-08\", \"2019-01-08\", \"2019-01-08\", \"2019-01-07\", \"2019-01-04\", \"2019-01-01\", \"2018-12-28\", \"2018-12-27\", \"2018-12-26\", \"2018-12-26\", \"2018-12-21\", \"2018-12-20\", \"2018-12-19\", \"2018-12-17\", \"2018-12-17\", \"2018-12-17\", \"2018-12-15\", \"2018-12-14\", \"2018-12-13\", \"2018-12-12\", \"2018-12-12\", \"2018-12-12\", \"2018-12-12\", \"2018-12-11\", \"2018-12-11\", \"2018-12-07\", \"2018-12-07\", \"2018-12-06\", \"2018-11-29\", \"2018-11-29\", \"2018-11-28\", \"2018-11-28\", \"2018-11-27\", \"2018-11-27\", \"2018-11-24\", \"2018-11-24\", \"2018-11-23\", \"2018-11-21\", \"2018-11-20\", \"2018-11-19\", \"2018-11-16\", \"2018-11-16\", \"2018-11-16\", \"2018-11-15\", \"2018-11-14\", \"2018-11-14\", \"2018-11-14\", \"2018-11-10\", \"2018-11-10\", \"2018-11-09\", \"2018-11-09\", \"2018-11-08\", \"2018-11-08\", \"2018-11-08\", \"2018-11-08\", \"2018-11-07\", \"2018-11-06\", \"2018-11-06\", \"2018-11-05\", \"2018-11-05\", \"2018-11-03\", \"2018-11-02\", \"2018-11-02\", \"2018-11-02\", \"2018-11-01\", \"2018-11-01\", \"2018-11-01\", \"2018-10-31\", \"2018-10-30\", \"2018-10-29\", \"2018-10-25\", \"2018-10-25\", \"2018-10-23\", \"2018-10-19\", \"2018-10-19\", \"2018-10-18\", \"2018-10-15\", \"2018-10-15\", \"2018-10-12\", \"2018-10-12\", \"2018-10-12\", \"2018-10-11\", \"2018-10-10\", \"2018-10-06\", \"2018-10-05\", \"2018-10-05\", \"2018-10-05\", \"2018-10-05\", \"2018-10-04\", \"2018-10-03\", \"2018-10-03\", \"2018-10-02\", \"2018-10-01\", \"2018-10-01\", \"2018-10-01\", \"2018-10-01\", \"2018-09-29\", \"2018-09-29\", \"2018-09-28\", \"2018-09-28\", \"2018-09-27\", \"2018-09-26\", \"2018-09-24\", \"2018-09-24\", \"2018-09-20\", \"2018-09-19\", \"2018-09-18\", \"2018-09-17\", \"2018-09-14\", \"2018-09-14\", \"2018-09-13\", \"2018-09-13\", \"2018-09-13\", \"2018-09-12\", \"2018-09-12\", \"2018-09-11\", \"2018-09-11\", \"2018-09-11\", \"2018-09-11\", \"2018-09-07\", \"2018-09-07\", \"2018-09-06\", \"2018-09-06\", \"2018-09-05\", \"2018-09-04\", \"2018-09-01\", \"2018-08-31\", \"2018-08-30\", \"2018-08-28\", \"2018-08-27\", \"2018-08-27\", \"2018-08-27\", \"2018-08-26\", \"2018-08-25\", \"2018-08-25\", \"2018-08-20\", \"2018-08-18\", \"2018-08-17\", \"2018-08-16\", \"2018-08-16\", \"2018-08-15\", \"2018-08-15\", \"2018-08-15\", \"2018-08-15\", \"2018-08-12\", \"2018-08-11\", \"2018-08-10\", \"2018-08-10\", \"2018-08-09\", \"2018-08-08\", \"2018-08-08\", \"2018-08-05\", \"2018-08-03\", \"2018-08-03\", \"2018-08-03\", \"2018-08-03\", \"2018-08-02\", \"2018-08-02\", \"2018-08-01\", \"2018-07-31\", \"2018-07-30\", \"2018-07-27\", \"2018-07-27\", \"2018-07-27\", \"2018-07-27\", \"2018-07-27\", \"2018-07-26\", \"2018-07-25\", \"2018-07-23\", \"2018-07-20\", \"2018-07-20\", \"2018-07-19\", \"2018-07-19\", \"2018-07-17\", \"2018-07-13\", \"2018-07-13\", \"2018-07-12\", \"2018-07-12\", \"2018-07-12\", \"2018-07-11\", \"2018-07-10\", \"2018-07-09\", \"2018-07-09\", \"2018-07-08\", \"2018-07-07\", \"2018-07-06\", \"2018-07-05\", \"2018-07-05\", \"2018-07-05\", \"2018-07-05\", \"2018-07-02\", \"2018-07-02\", \"2018-07-02\", \"2018-06-30\", \"2018-06-29\", \"2018-06-28\", \"2018-06-28\", \"2018-06-26\", \"2018-06-24\", \"2018-06-22\", \"2018-06-22\", \"2018-06-22\", \"2018-06-21\", \"2018-06-21\", \"2018-06-20\", \"2018-06-19\", \"2018-06-19\", \"2018-06-15\", \"2018-06-15\", \"2018-06-15\", \"2018-06-15\", \"2018-06-13\", \"2018-06-13\", \"2018-06-11\", \"2018-06-10\", \"2018-06-09\", \"2018-06-08\", \"2018-06-07\", \"2018-06-07\", \"2018-06-07\", \"2018-06-07\", \"2018-06-06\", \"2018-06-06\", \"2018-06-06\", \"2018-06-06\", \"2018-06-06\", \"2018-06-06\", \"2018-06-05\", \"2018-06-05\", \"2018-06-04\", \"2018-06-03\", \"2018-06-02\", \"2018-05-31\", \"2018-05-31\", \"2018-05-31\", \"2018-05-31\", \"2018-05-29\", \"2018-05-28\", \"2018-05-27\", \"2018-05-25\", \"2018-05-23\", \"2018-05-23\", \"2018-05-23\", \"2018-05-21\", \"2018-05-17\", \"2018-05-15\", \"2018-05-11\", \"2018-05-10\", \"2018-05-08\", \"2018-05-06\", \"2018-05-06\", \"2018-05-04\", \"2018-05-04\", \"2018-05-04\", \"2018-05-04\", \"2018-05-04\", \"2018-05-03\", \"2018-05-03\", \"2018-05-03\", \"2018-05-02\", \"2018-05-02\", \"2018-05-02\", \"2018-04-30\", \"2018-04-30\", \"2018-04-30\", \"2018-04-27\", \"2018-04-26\", \"2018-04-25\", \"2018-04-25\", \"2018-04-25\", \"2018-04-25\", \"2018-04-25\", \"2018-04-24\", \"2018-04-24\", \"2018-04-23\", \"2018-04-20\", \"2018-04-20\", \"2018-04-19\", \"2018-04-19\", \"2018-04-17\", \"2018-04-14\", \"2018-04-13\", \"2018-04-12\", \"2018-04-12\", \"2018-04-12\", \"2018-04-10\", \"2018-04-09\", \"2018-04-05\", \"2018-04-05\", \"2018-04-05\", \"2018-04-05\", \"2018-04-05\", \"2018-04-03\", \"2018-04-03\", \"2018-04-02\", \"2018-04-02\", \"2018-03-30\", \"2018-03-29\", \"2018-03-26\", \"2018-03-23\", \"2018-03-22\", \"2018-03-21\", \"2018-03-19\", \"2018-03-17\", \"2018-03-16\", \"2018-03-16\", \"2018-03-15\", \"2018-03-14\", \"2018-03-13\", \"2018-03-13\", \"2018-03-12\", \"2018-03-10\", \"2018-03-09\", \"2018-03-09\", \"2018-03-07\", \"2018-03-06\", \"2018-03-06\", \"2018-03-06\", \"2018-03-05\", \"2018-03-01\", \"2018-03-01\", \"2018-02-28\", \"2018-02-26\", \"2018-02-24\", \"2018-02-24\", \"2018-02-23\", \"2018-02-23\", \"2018-02-23\", \"2018-02-17\", \"2018-02-16\", \"2018-02-16\", \"2018-02-15\", \"2018-02-15\", \"2018-02-15\", \"2018-02-14\", \"2018-02-13\", \"2018-02-12\", \"2018-02-12\", \"2018-02-12\", \"2018-02-12\", \"2018-02-09\", \"2018-02-07\", \"2018-02-06\", \"2018-02-05\", \"2018-02-01\", \"2018-02-01\", \"2018-02-01\", \"2018-01-31\", \"2018-01-29\", \"2018-01-29\", \"2018-01-28\", \"2018-01-28\", \"2018-01-26\", \"2018-01-25\", \"2018-01-25\", \"2018-01-25\", \"2018-01-25\", \"2018-01-24\", \"2018-01-23\", \"2018-01-22\", \"2018-01-19\", \"2018-01-19\", \"2018-01-18\", \"2018-01-18\", \"2018-01-18\", \"2018-01-17\", \"2018-01-16\", \"2018-01-14\", \"2018-01-12\", \"2018-01-11\", \"2018-01-10\", \"2018-01-09\", \"2018-01-08\", \"2018-01-08\", \"2018-01-05\", \"2018-01-03\", \"2018-01-03\", \"2018-01-02\", \"2018-01-02\"], \"xaxis\": \"x\", \"y\": [-0.19999999999999998, 0.13333333333333333, 0.0, -0.2, -0.175, -0.09999999999999999, 0.0, -0.5, 0.16666666666666666, 0.30000000000000004, 0.0, -0.025, -0.09722222222222221, 0.17499999999999996, 0.0, 0.0, 0.0, 0.3666666666666667, 0.12222222222222223, 0.25, 0.04999999999999999, 0.1, 0.1875, 0.16666666666666666, 0.0, 0.275, 0.0, 0.0, 0.0, 0.06818181818181818, 0.0, 0.15000000000000002, 0.6, 0.4, -0.125, 0.06818181818181818, 0.34329004329004326, 0.04206349206349207, 0.16666666666666666, 0.3, 0.0, 0.47222222222222227, 0.0, 0.0, -0.08333333333333333, -0.25, 0.0, 0.0, -0.225, 1.0, 0.0, 0.0, 0.2833333333333333, 0.5, -0.1, 0.0, 0.03409090909090909, 0.025000000000000022, 0.2715909090909091, 0.6, 0.375, -0.1, 0.21111111111111114, -0.2333333333333333, 0.0, 0.25, 0.0, 0.16, 0.4, 0.2111111111111111, -0.5, 0.5, 0.0, 0.4166666666666667, 0.1722222222222222, 0.5, -0.08333333333333333, 0.0, 0.175, 0.2023809523809524, 0.25, 0.0, 0.5, 0.14727272727272728, 0.25, 0.25, 0.3333333333333333, 0.0, 0.0, 0.0, 0.0, 0.55, 0.5, 0.0, 0.5, -0.013131313131313133, -0.004155844155844158, 0.13333333333333333, -0.125, 0.16666666666666666, 0.1, 0.5916666666666667, 0.0, 0.23333333333333336, 0.25, 0.0, 0.2556818181818182, 0.0, -0.2, 0.0, 0.25, 0.125, -0.325, 0.3, -0.11666666666666667, 0.0, 0.2125, -0.06666666666666667, 0.22857142857142856, -0.13181818181818183, -0.175, 0.39999999999999997, 0.0, 0.0, -0.022222222222222227, 0.34659090909090906, 0.0, 0.14166666666666666, -0.1388888888888889, 0.0, 0.10833333333333334, 0.0, -0.125, -0.30000000000000004, 0.2, 0.5, -0.3999999999999999, 0.0, 0.13333333333333333, 0.0, 0.29, 0.0, 0.14727272727272728, 0.28, 0.25, 0.25, 0.3333333333333333, 0.13636363636363635, 0.15, 0.8, 0.0, -0.25625, 0.35, 0.03333333333333333, 0.13636363636363635, 0.4583333333333333, 0.5, 0.09583333333333333, 0.0625, 0.3, 0.3, 0.0, 0.23106060606060608, 0.0, 0.0, 0.0, 0.0, 0.1994047619047619, 0.0, 0.4, -0.4, 0.0, 0.11727272727272728, 0.125, 0.65, 0.24545454545454545, 0.0, -0.5, 0.0, 0.0, 0.0, 0.21212121212121213, 0.0, 0.0, 0.0, -0.16666666666666669, 0.0, -0.06999999999999999, 0.16666666666666666, 0.3, 0.3333333333333333, -0.125, 0.5, 0.16666666666666666, 0.05833333333333333, -0.09999999999999999, 0.0, 0.2, 0.06666666666666667, 0.0, 0.0, 0.04545454545454545, 0.2333333333333333, 0.4, 0.16212121212121214, 0.0, 0.06818181818181818, 1.0, 0.4, 0.0, 0.2215909090909091, 0.29545454545454547, 0.04545454545454545, 0.0, 0.15, 0.1, -0.0625, 0.043181818181818175, 0.0, 0.1, 0.3666666666666667, -0.125, 0.2714285714285714, 0.3, 0.0, 0.198015873015873, 0.0028409090909090884, 0.5111111111111111, 0.16060606060606059, 0.08, 0.21818181818181817, 0.55, 0.0, 0.0, 0.3, 0.3, 0.25, -0.075, 0.4431818181818182, -0.15000000000000002, 0.06666666666666667, 0.0, 0.13636363636363635, 0.0175, 0.5, 0.0, 0.13636363636363635, 0.0, 0.8, -0.3545454545454545, 0.23884032634032634, -0.07777777777777777, 0.0, -0.125, 0.0, 0.0, 0.2380952380952381, 0.1312121212121212, 0.125, -0.07777777777777779, -0.0975, -0.12638888888888888, 0.37878787878787873, 0.13333333333333333, 0.0, 0.6, 0.2, 0.125, 0.0, -0.03787878787878788, 0.19999999999999998, 0.0, 0.02727272727272727, 0.0, 0.252, 0.37666666666666665, 0.08296969696969697, 0.09999999999999999, 0.0, 0.0, 0.25, -0.16666666666666666, 0.5, 0.55, 0.0, 0.09375, 0.09999999999999999, -0.30000000000000004, -0.3333333333333333, 0.375, 0.13333333333333333, 0.25, -0.058712121212121215, 0.15833333333333333, -0.6666666666666666, 0.125, 0.4619047619047619, 0.0, 0.2297979797979798, 0.06166666666666666, 0.6, 0.17222222222222225, 0.19454545454545455, -0.025, 0.55, -0.1, -0.2, 0.0, 0.0, 0.0, 0.06628787878787878, 0.0, -0.25, 0.10492424242424242, 0.25, -0.5, 0.0, -0.19090909090909092, 0.15, 0.3333333333333333, 0.37878787878787873, -0.08333333333333333, 0.5681818181818181, 0.5, 0.17222222222222222, 0.0, 0.13636363636363635, 0.6, 0.05, 0.0, 0.0, 0.55, 0.0, 0.3333333333333333, 0.0, 0.35555555555555557, 0.35, 0.2875, 0.0, 0.2, 0.10912698412698411, 0.03409090909090909, 0.0, 0.13636363636363635, -0.125, 0.4121212121212121, 0.0, 0.0, -0.2916666666666667, 0.0, 0.13636363636363635, 0.0, 0.05555555555555556, 0.29545454545454547, -0.06666666666666667, 0.0, 0.175, 0.22499999999999998, 0.5, 0.0, 0.25, 0.0, 0.2, -0.10909090909090909, 0.18212121212121213, 0.0, -0.25, 0.2583333333333333, 0.35, 0.19999999999999998, -0.4, -0.07500000000000001, -0.175, -0.07777777777777779, 0.5, 0.0, 0.35, 0.5, -0.125, 0.0, 0.0], \"yaxis\": \"y\"}],\n",
       "                        {\"font\": {\"color\": \"#d62728\", \"family\": \"Times New Roman, monospace\", \"size\": 18}, \"height\": 600, \"legend\": {\"tracegroupgap\": 0}, \"margin\": {\"t\": 60}, \"template\": {\"data\": {\"bar\": [{\"error_x\": {\"color\": \"#2a3f5f\"}, \"error_y\": {\"color\": \"#2a3f5f\"}, \"marker\": {\"line\": {\"color\": \"#E5ECF6\", \"width\": 0.5}}, \"type\": \"bar\"}], \"barpolar\": [{\"marker\": {\"line\": {\"color\": \"#E5ECF6\", \"width\": 0.5}}, \"type\": \"barpolar\"}], \"carpet\": [{\"aaxis\": {\"endlinecolor\": \"#2a3f5f\", \"gridcolor\": \"white\", \"linecolor\": \"white\", \"minorgridcolor\": \"white\", \"startlinecolor\": \"#2a3f5f\"}, \"baxis\": {\"endlinecolor\": \"#2a3f5f\", \"gridcolor\": \"white\", \"linecolor\": \"white\", \"minorgridcolor\": \"white\", \"startlinecolor\": \"#2a3f5f\"}, \"type\": \"carpet\"}], \"choropleth\": [{\"colorbar\": {\"outlinewidth\": 0, \"ticks\": \"\"}, \"type\": \"choropleth\"}], \"contour\": [{\"colorbar\": {\"outlinewidth\": 0, \"ticks\": \"\"}, \"colorscale\": [[0.0, \"#0d0887\"], [0.1111111111111111, \"#46039f\"], [0.2222222222222222, \"#7201a8\"], [0.3333333333333333, \"#9c179e\"], [0.4444444444444444, \"#bd3786\"], [0.5555555555555556, \"#d8576b\"], [0.6666666666666666, \"#ed7953\"], [0.7777777777777778, \"#fb9f3a\"], [0.8888888888888888, \"#fdca26\"], [1.0, \"#f0f921\"]], \"type\": \"contour\"}], \"contourcarpet\": [{\"colorbar\": {\"outlinewidth\": 0, \"ticks\": \"\"}, \"type\": \"contourcarpet\"}], \"heatmap\": [{\"colorbar\": {\"outlinewidth\": 0, \"ticks\": \"\"}, \"colorscale\": [[0.0, \"#0d0887\"], [0.1111111111111111, \"#46039f\"], [0.2222222222222222, \"#7201a8\"], [0.3333333333333333, \"#9c179e\"], [0.4444444444444444, \"#bd3786\"], [0.5555555555555556, \"#d8576b\"], [0.6666666666666666, \"#ed7953\"], [0.7777777777777778, \"#fb9f3a\"], [0.8888888888888888, \"#fdca26\"], [1.0, \"#f0f921\"]], \"type\": \"heatmap\"}], \"heatmapgl\": [{\"colorbar\": {\"outlinewidth\": 0, \"ticks\": \"\"}, \"colorscale\": [[0.0, \"#0d0887\"], [0.1111111111111111, \"#46039f\"], [0.2222222222222222, \"#7201a8\"], [0.3333333333333333, \"#9c179e\"], [0.4444444444444444, \"#bd3786\"], [0.5555555555555556, \"#d8576b\"], [0.6666666666666666, \"#ed7953\"], [0.7777777777777778, \"#fb9f3a\"], [0.8888888888888888, \"#fdca26\"], [1.0, \"#f0f921\"]], \"type\": \"heatmapgl\"}], \"histogram\": [{\"marker\": {\"colorbar\": {\"outlinewidth\": 0, \"ticks\": \"\"}}, \"type\": \"histogram\"}], \"histogram2d\": [{\"colorbar\": {\"outlinewidth\": 0, \"ticks\": \"\"}, \"colorscale\": [[0.0, \"#0d0887\"], [0.1111111111111111, \"#46039f\"], [0.2222222222222222, \"#7201a8\"], [0.3333333333333333, \"#9c179e\"], [0.4444444444444444, \"#bd3786\"], [0.5555555555555556, \"#d8576b\"], [0.6666666666666666, \"#ed7953\"], [0.7777777777777778, \"#fb9f3a\"], [0.8888888888888888, \"#fdca26\"], [1.0, \"#f0f921\"]], \"type\": \"histogram2d\"}], \"histogram2dcontour\": [{\"colorbar\": {\"outlinewidth\": 0, \"ticks\": \"\"}, \"colorscale\": [[0.0, \"#0d0887\"], [0.1111111111111111, \"#46039f\"], [0.2222222222222222, \"#7201a8\"], [0.3333333333333333, \"#9c179e\"], [0.4444444444444444, \"#bd3786\"], [0.5555555555555556, \"#d8576b\"], [0.6666666666666666, \"#ed7953\"], [0.7777777777777778, \"#fb9f3a\"], [0.8888888888888888, \"#fdca26\"], [1.0, \"#f0f921\"]], \"type\": \"histogram2dcontour\"}], \"mesh3d\": [{\"colorbar\": {\"outlinewidth\": 0, \"ticks\": \"\"}, \"type\": \"mesh3d\"}], \"parcoords\": [{\"line\": {\"colorbar\": {\"outlinewidth\": 0, \"ticks\": \"\"}}, \"type\": \"parcoords\"}], \"pie\": [{\"automargin\": true, \"type\": \"pie\"}], \"scatter\": [{\"marker\": {\"colorbar\": {\"outlinewidth\": 0, \"ticks\": \"\"}}, \"type\": \"scatter\"}], \"scatter3d\": [{\"line\": {\"colorbar\": {\"outlinewidth\": 0, \"ticks\": \"\"}}, \"marker\": {\"colorbar\": {\"outlinewidth\": 0, \"ticks\": \"\"}}, \"type\": \"scatter3d\"}], \"scattercarpet\": [{\"marker\": {\"colorbar\": {\"outlinewidth\": 0, \"ticks\": \"\"}}, \"type\": \"scattercarpet\"}], \"scattergeo\": [{\"marker\": {\"colorbar\": {\"outlinewidth\": 0, \"ticks\": \"\"}}, \"type\": \"scattergeo\"}], \"scattergl\": [{\"marker\": {\"colorbar\": {\"outlinewidth\": 0, \"ticks\": \"\"}}, \"type\": \"scattergl\"}], \"scattermapbox\": [{\"marker\": {\"colorbar\": {\"outlinewidth\": 0, \"ticks\": \"\"}}, \"type\": \"scattermapbox\"}], \"scatterpolar\": [{\"marker\": {\"colorbar\": {\"outlinewidth\": 0, \"ticks\": \"\"}}, \"type\": \"scatterpolar\"}], \"scatterpolargl\": [{\"marker\": {\"colorbar\": {\"outlinewidth\": 0, \"ticks\": \"\"}}, \"type\": \"scatterpolargl\"}], \"scatterternary\": [{\"marker\": {\"colorbar\": {\"outlinewidth\": 0, \"ticks\": \"\"}}, \"type\": \"scatterternary\"}], \"surface\": [{\"colorbar\": {\"outlinewidth\": 0, \"ticks\": \"\"}, \"colorscale\": [[0.0, \"#0d0887\"], [0.1111111111111111, \"#46039f\"], [0.2222222222222222, \"#7201a8\"], [0.3333333333333333, \"#9c179e\"], [0.4444444444444444, \"#bd3786\"], [0.5555555555555556, \"#d8576b\"], [0.6666666666666666, \"#ed7953\"], [0.7777777777777778, \"#fb9f3a\"], [0.8888888888888888, \"#fdca26\"], [1.0, \"#f0f921\"]], \"type\": \"surface\"}], \"table\": [{\"cells\": {\"fill\": {\"color\": \"#EBF0F8\"}, \"line\": {\"color\": \"white\"}}, \"header\": {\"fill\": {\"color\": \"#C8D4E3\"}, \"line\": {\"color\": \"white\"}}, \"type\": \"table\"}]}, \"layout\": {\"annotationdefaults\": {\"arrowcolor\": \"#2a3f5f\", \"arrowhead\": 0, \"arrowwidth\": 1}, \"coloraxis\": {\"colorbar\": {\"outlinewidth\": 0, \"ticks\": \"\"}}, \"colorscale\": {\"diverging\": [[0, \"#8e0152\"], [0.1, \"#c51b7d\"], [0.2, \"#de77ae\"], [0.3, \"#f1b6da\"], [0.4, \"#fde0ef\"], [0.5, \"#f7f7f7\"], [0.6, \"#e6f5d0\"], [0.7, \"#b8e186\"], [0.8, \"#7fbc41\"], [0.9, \"#4d9221\"], [1, \"#276419\"]], \"sequential\": [[0.0, \"#0d0887\"], [0.1111111111111111, \"#46039f\"], [0.2222222222222222, \"#7201a8\"], [0.3333333333333333, \"#9c179e\"], [0.4444444444444444, \"#bd3786\"], [0.5555555555555556, \"#d8576b\"], [0.6666666666666666, \"#ed7953\"], [0.7777777777777778, \"#fb9f3a\"], [0.8888888888888888, \"#fdca26\"], [1.0, \"#f0f921\"]], \"sequentialminus\": [[0.0, \"#0d0887\"], [0.1111111111111111, \"#46039f\"], [0.2222222222222222, \"#7201a8\"], [0.3333333333333333, \"#9c179e\"], [0.4444444444444444, \"#bd3786\"], [0.5555555555555556, \"#d8576b\"], [0.6666666666666666, \"#ed7953\"], [0.7777777777777778, \"#fb9f3a\"], [0.8888888888888888, \"#fdca26\"], [1.0, \"#f0f921\"]]}, \"colorway\": [\"#636efa\", \"#EF553B\", \"#00cc96\", \"#ab63fa\", \"#FFA15A\", \"#19d3f3\", \"#FF6692\", \"#B6E880\", \"#FF97FF\", \"#FECB52\"], \"font\": {\"color\": \"#2a3f5f\"}, \"geo\": {\"bgcolor\": \"white\", \"lakecolor\": \"white\", \"landcolor\": \"#E5ECF6\", \"showlakes\": true, \"showland\": true, \"subunitcolor\": \"white\"}, \"hoverlabel\": {\"align\": \"left\"}, \"hovermode\": \"closest\", \"mapbox\": {\"style\": \"light\"}, \"paper_bgcolor\": \"white\", \"plot_bgcolor\": \"#E5ECF6\", \"polar\": {\"angularaxis\": {\"gridcolor\": \"white\", \"linecolor\": \"white\", \"ticks\": \"\"}, \"bgcolor\": \"#E5ECF6\", \"radialaxis\": {\"gridcolor\": \"white\", \"linecolor\": \"white\", \"ticks\": \"\"}}, \"scene\": {\"xaxis\": {\"backgroundcolor\": \"#E5ECF6\", \"gridcolor\": \"white\", \"gridwidth\": 2, \"linecolor\": \"white\", \"showbackground\": true, \"ticks\": \"\", \"zerolinecolor\": \"white\"}, \"yaxis\": {\"backgroundcolor\": \"#E5ECF6\", \"gridcolor\": \"white\", \"gridwidth\": 2, \"linecolor\": \"white\", \"showbackground\": true, \"ticks\": \"\", \"zerolinecolor\": \"white\"}, \"zaxis\": {\"backgroundcolor\": \"#E5ECF6\", \"gridcolor\": \"white\", \"gridwidth\": 2, \"linecolor\": \"white\", \"showbackground\": true, \"ticks\": \"\", \"zerolinecolor\": \"white\"}}, \"shapedefaults\": {\"line\": {\"color\": \"#2a3f5f\"}}, \"ternary\": {\"aaxis\": {\"gridcolor\": \"white\", \"linecolor\": \"white\", \"ticks\": \"\"}, \"baxis\": {\"gridcolor\": \"white\", \"linecolor\": \"white\", \"ticks\": \"\"}, \"bgcolor\": \"#E5ECF6\", \"caxis\": {\"gridcolor\": \"white\", \"linecolor\": \"white\", \"ticks\": \"\"}}, \"title\": {\"x\": 0.05}, \"xaxis\": {\"automargin\": true, \"gridcolor\": \"white\", \"linecolor\": \"white\", \"ticks\": \"\", \"title\": {\"standoff\": 15}, \"zerolinecolor\": \"white\", \"zerolinewidth\": 2}, \"yaxis\": {\"automargin\": true, \"gridcolor\": \"white\", \"linecolor\": \"white\", \"ticks\": \"\", \"title\": {\"standoff\": 15}, \"zerolinecolor\": \"white\", \"zerolinewidth\": 2}}}, \"title\": {\"text\": \"Summary Sentiment\"}, \"xaxis\": {\"anchor\": \"y\", \"domain\": [0.0, 1.0], \"title\": {\"text\": \"Date\"}}, \"yaxis\": {\"anchor\": \"x\", \"domain\": [0.0, 1.0], \"range\": [-1, 1], \"title\": {\"text\": \"Summary Sentiment\"}}},\n",
       "                        {\"responsive\": true}\n",
       "                    ).then(function(){\n",
       "                            \n",
       "var gd = document.getElementById('8e5e3076-5897-49b0-82b0-e2595f546979');\n",
       "var x = new MutationObserver(function (mutations, observer) {{\n",
       "        var display = window.getComputedStyle(gd).display;\n",
       "        if (!display || display === 'none') {{\n",
       "            console.log([gd, 'removed!']);\n",
       "            Plotly.purge(gd);\n",
       "            observer.disconnect();\n",
       "        }}\n",
       "}});\n",
       "\n",
       "// Listen for the removal of the full notebook cells\n",
       "var notebookContainer = gd.closest('#notebook-container');\n",
       "if (notebookContainer) {{\n",
       "    x.observe(notebookContainer, {childList: true});\n",
       "}}\n",
       "\n",
       "// Listen for the clearing of the current output cell\n",
       "var outputEl = gd.closest('.output');\n",
       "if (outputEl) {{\n",
       "    x.observe(outputEl, {childList: true});\n",
       "}}\n",
       "\n",
       "                        })\n",
       "                };\n",
       "                });\n",
       "            </script>\n",
       "        </div>"
      ]
     },
     "metadata": {},
     "output_type": "display_data"
    },
    {
     "name": "stdout",
     "output_type": "stream",
     "text": [
      "In 381 articles, 206 are positive, 70 are negative, and 105 are neutral.  0 page(s) are being updated.\n"
     ]
    }
   ],
   "source": [
    "bias_report()  "
   ]
  }
 ],
 "metadata": {
  "kernelspec": {
   "display_name": "Python 3",
   "language": "python",
   "name": "python3"
  },
  "language_info": {
   "codemirror_mode": {
    "name": "ipython",
    "version": 3
   },
   "file_extension": ".py",
   "mimetype": "text/x-python",
   "name": "python",
   "nbconvert_exporter": "python",
   "pygments_lexer": "ipython3",
   "version": "3.7.4"
  }
 },
 "nbformat": 4,
 "nbformat_minor": 2
}
